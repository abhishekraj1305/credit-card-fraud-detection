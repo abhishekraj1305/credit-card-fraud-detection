{
 "cells": [
  {
   "cell_type": "markdown",
   "id": "aea81d01",
   "metadata": {
    "papermill": {
     "duration": 0.009494,
     "end_time": "2023-01-31T13:05:49.858057",
     "exception": false,
     "start_time": "2023-01-31T13:05:49.848563",
     "status": "completed"
    },
    "tags": []
   },
   "source": []
  },
  {
   "cell_type": "code",
   "execution_count": 1,
   "id": "966383c3",
   "metadata": {
    "execution": {
     "iopub.execute_input": "2023-01-31T13:05:49.876959Z",
     "iopub.status.busy": "2023-01-31T13:05:49.876072Z",
     "iopub.status.idle": "2023-01-31T13:05:50.690388Z",
     "shell.execute_reply": "2023-01-31T13:05:50.689423Z"
    },
    "papermill": {
     "duration": 0.826848,
     "end_time": "2023-01-31T13:05:50.693171",
     "exception": false,
     "start_time": "2023-01-31T13:05:49.866323",
     "status": "completed"
    },
    "tags": []
   },
   "outputs": [
    {
     "name": "stdout",
     "output_type": "stream",
     "text": [
      "Defaulting to user installation because normal site-packages is not writeable\n",
      "Requirement already satisfied: tensorflow in c:\\users\\rabhi\\appdata\\roaming\\python\\python310\\site-packages (2.12.0)\n",
      "Requirement already satisfied: tensorflow-intel==2.12.0 in c:\\users\\rabhi\\appdata\\roaming\\python\\python310\\site-packages (from tensorflow) (2.12.0)\n",
      "Requirement already satisfied: astunparse>=1.6.0 in c:\\users\\rabhi\\appdata\\roaming\\python\\python310\\site-packages (from tensorflow-intel==2.12.0->tensorflow) (1.6.3)\n",
      "Requirement already satisfied: h5py>=2.9.0 in c:\\programdata\\anaconda3\\lib\\site-packages (from tensorflow-intel==2.12.0->tensorflow) (3.7.0)\n",
      "Requirement already satisfied: gast<=0.4.0,>=0.2.1 in c:\\users\\rabhi\\appdata\\roaming\\python\\python310\\site-packages (from tensorflow-intel==2.12.0->tensorflow) (0.4.0)\n",
      "Requirement already satisfied: setuptools in c:\\programdata\\anaconda3\\lib\\site-packages (from tensorflow-intel==2.12.0->tensorflow) (65.6.3)\n",
      "Requirement already satisfied: absl-py>=1.0.0 in c:\\users\\rabhi\\appdata\\roaming\\python\\python310\\site-packages (from tensorflow-intel==2.12.0->tensorflow) (1.4.0)\n",
      "Requirement already satisfied: typing-extensions>=3.6.6 in c:\\programdata\\anaconda3\\lib\\site-packages (from tensorflow-intel==2.12.0->tensorflow) (4.4.0)\n",
      "Requirement already satisfied: six>=1.12.0 in c:\\programdata\\anaconda3\\lib\\site-packages (from tensorflow-intel==2.12.0->tensorflow) (1.16.0)\n",
      "Requirement already satisfied: tensorboard<2.13,>=2.12 in c:\\users\\rabhi\\appdata\\roaming\\python\\python310\\site-packages (from tensorflow-intel==2.12.0->tensorflow) (2.12.3)\n",
      "Requirement already satisfied: opt-einsum>=2.3.2 in c:\\users\\rabhi\\appdata\\roaming\\python\\python310\\site-packages (from tensorflow-intel==2.12.0->tensorflow) (3.3.0)\n",
      "Requirement already satisfied: protobuf!=4.21.0,!=4.21.1,!=4.21.2,!=4.21.3,!=4.21.4,!=4.21.5,<5.0.0dev,>=3.20.3 in c:\\users\\rabhi\\appdata\\roaming\\python\\python310\\site-packages (from tensorflow-intel==2.12.0->tensorflow) (4.23.3)\n",
      "Requirement already satisfied: wrapt<1.15,>=1.11.0 in c:\\programdata\\anaconda3\\lib\\site-packages (from tensorflow-intel==2.12.0->tensorflow) (1.14.1)\n",
      "Requirement already satisfied: numpy<1.24,>=1.22 in c:\\programdata\\anaconda3\\lib\\site-packages (from tensorflow-intel==2.12.0->tensorflow) (1.23.5)\n",
      "Requirement already satisfied: tensorflow-estimator<2.13,>=2.12.0 in c:\\users\\rabhi\\appdata\\roaming\\python\\python310\\site-packages (from tensorflow-intel==2.12.0->tensorflow) (2.12.0)\n",
      "Requirement already satisfied: tensorflow-io-gcs-filesystem>=0.23.1 in c:\\users\\rabhi\\appdata\\roaming\\python\\python310\\site-packages (from tensorflow-intel==2.12.0->tensorflow) (0.31.0)\n",
      "Requirement already satisfied: google-pasta>=0.1.1 in c:\\users\\rabhi\\appdata\\roaming\\python\\python310\\site-packages (from tensorflow-intel==2.12.0->tensorflow) (0.2.0)\n",
      "Requirement already satisfied: grpcio<2.0,>=1.24.3 in c:\\users\\rabhi\\appdata\\roaming\\python\\python310\\site-packages (from tensorflow-intel==2.12.0->tensorflow) (1.56.0)\n",
      "Requirement already satisfied: termcolor>=1.1.0 in c:\\users\\rabhi\\appdata\\roaming\\python\\python310\\site-packages (from tensorflow-intel==2.12.0->tensorflow) (2.3.0)\n",
      "Requirement already satisfied: packaging in c:\\programdata\\anaconda3\\lib\\site-packages (from tensorflow-intel==2.12.0->tensorflow) (22.0)\n",
      "Requirement already satisfied: libclang>=13.0.0 in c:\\users\\rabhi\\appdata\\roaming\\python\\python310\\site-packages (from tensorflow-intel==2.12.0->tensorflow) (16.0.0)\n",
      "Requirement already satisfied: keras<2.13,>=2.12.0 in c:\\users\\rabhi\\appdata\\roaming\\python\\python310\\site-packages (from tensorflow-intel==2.12.0->tensorflow) (2.12.0)\n",
      "Requirement already satisfied: jax>=0.3.15 in c:\\users\\rabhi\\appdata\\roaming\\python\\python310\\site-packages (from tensorflow-intel==2.12.0->tensorflow) (0.4.13)\n",
      "Requirement already satisfied: flatbuffers>=2.0 in c:\\users\\rabhi\\appdata\\roaming\\python\\python310\\site-packages (from tensorflow-intel==2.12.0->tensorflow) (23.5.26)\n",
      "Requirement already satisfied: wheel<1.0,>=0.23.0 in c:\\programdata\\anaconda3\\lib\\site-packages (from astunparse>=1.6.0->tensorflow-intel==2.12.0->tensorflow) (0.38.4)\n",
      "Requirement already satisfied: ml-dtypes>=0.1.0 in c:\\users\\rabhi\\appdata\\roaming\\python\\python310\\site-packages (from jax>=0.3.15->tensorflow-intel==2.12.0->tensorflow) (0.2.0)\n",
      "Requirement already satisfied: scipy>=1.7 in c:\\programdata\\anaconda3\\lib\\site-packages (from jax>=0.3.15->tensorflow-intel==2.12.0->tensorflow) (1.10.0)\n",
      "Requirement already satisfied: tensorboard-data-server<0.8.0,>=0.7.0 in c:\\users\\rabhi\\appdata\\roaming\\python\\python310\\site-packages (from tensorboard<2.13,>=2.12->tensorflow-intel==2.12.0->tensorflow) (0.7.1)\n",
      "Requirement already satisfied: google-auth-oauthlib<1.1,>=0.5 in c:\\users\\rabhi\\appdata\\roaming\\python\\python310\\site-packages (from tensorboard<2.13,>=2.12->tensorflow-intel==2.12.0->tensorflow) (1.0.0)\n",
      "Requirement already satisfied: google-auth<3,>=1.6.3 in c:\\users\\rabhi\\appdata\\roaming\\python\\python310\\site-packages (from tensorboard<2.13,>=2.12->tensorflow-intel==2.12.0->tensorflow) (2.20.0)\n",
      "Requirement already satisfied: requests<3,>=2.21.0 in c:\\programdata\\anaconda3\\lib\\site-packages (from tensorboard<2.13,>=2.12->tensorflow-intel==2.12.0->tensorflow) (2.28.1)\n",
      "Requirement already satisfied: werkzeug>=1.0.1 in c:\\programdata\\anaconda3\\lib\\site-packages (from tensorboard<2.13,>=2.12->tensorflow-intel==2.12.0->tensorflow) (2.2.2)\n",
      "Requirement already satisfied: markdown>=2.6.8 in c:\\programdata\\anaconda3\\lib\\site-packages (from tensorboard<2.13,>=2.12->tensorflow-intel==2.12.0->tensorflow) (3.4.1)\n",
      "Requirement already satisfied: pyasn1-modules>=0.2.1 in c:\\programdata\\anaconda3\\lib\\site-packages (from google-auth<3,>=1.6.3->tensorboard<2.13,>=2.12->tensorflow-intel==2.12.0->tensorflow) (0.2.8)\n",
      "Requirement already satisfied: rsa<5,>=3.1.4 in c:\\users\\rabhi\\appdata\\roaming\\python\\python310\\site-packages (from google-auth<3,>=1.6.3->tensorboard<2.13,>=2.12->tensorflow-intel==2.12.0->tensorflow) (4.9)\n",
      "Requirement already satisfied: urllib3<2.0 in c:\\programdata\\anaconda3\\lib\\site-packages (from google-auth<3,>=1.6.3->tensorboard<2.13,>=2.12->tensorflow-intel==2.12.0->tensorflow) (1.26.14)\n",
      "Requirement already satisfied: cachetools<6.0,>=2.0.0 in c:\\users\\rabhi\\appdata\\roaming\\python\\python310\\site-packages (from google-auth<3,>=1.6.3->tensorboard<2.13,>=2.12->tensorflow-intel==2.12.0->tensorflow) (5.3.1)\n",
      "Requirement already satisfied: requests-oauthlib>=0.7.0 in c:\\users\\rabhi\\appdata\\roaming\\python\\python310\\site-packages (from google-auth-oauthlib<1.1,>=0.5->tensorboard<2.13,>=2.12->tensorflow-intel==2.12.0->tensorflow) (1.3.1)\n",
      "Requirement already satisfied: idna<4,>=2.5 in c:\\programdata\\anaconda3\\lib\\site-packages (from requests<3,>=2.21.0->tensorboard<2.13,>=2.12->tensorflow-intel==2.12.0->tensorflow) (3.4)\n",
      "Requirement already satisfied: certifi>=2017.4.17 in c:\\programdata\\anaconda3\\lib\\site-packages (from requests<3,>=2.21.0->tensorboard<2.13,>=2.12->tensorflow-intel==2.12.0->tensorflow) (2022.12.7)\n",
      "Requirement already satisfied: charset-normalizer<3,>=2 in c:\\programdata\\anaconda3\\lib\\site-packages (from requests<3,>=2.21.0->tensorboard<2.13,>=2.12->tensorflow-intel==2.12.0->tensorflow) (2.0.4)\n",
      "Requirement already satisfied: MarkupSafe>=2.1.1 in c:\\programdata\\anaconda3\\lib\\site-packages (from werkzeug>=1.0.1->tensorboard<2.13,>=2.12->tensorflow-intel==2.12.0->tensorflow) (2.1.1)\n",
      "Requirement already satisfied: pyasn1<0.5.0,>=0.4.6 in c:\\programdata\\anaconda3\\lib\\site-packages (from pyasn1-modules>=0.2.1->google-auth<3,>=1.6.3->tensorboard<2.13,>=2.12->tensorflow-intel==2.12.0->tensorflow) (0.4.8)\n",
      "Requirement already satisfied: oauthlib>=3.0.0 in c:\\users\\rabhi\\appdata\\roaming\\python\\python310\\site-packages (from requests-oauthlib>=0.7.0->google-auth-oauthlib<1.1,>=0.5->tensorboard<2.13,>=2.12->tensorflow-intel==2.12.0->tensorflow) (3.2.2)\n",
      "Defaulting to user installation because normal site-packages is not writeable\n",
      "Requirement already satisfied: keras in c:\\users\\rabhi\\appdata\\roaming\\python\\python310\\site-packages (2.12.0)\n"
     ]
    }
   ],
   "source": [
    "!pip install tensorflow\n",
    "!pip install keras\n",
    "\n",
    "import pandas as pd\n",
    "import numpy as np\n",
    "import matplotlib.pyplot as plt\n",
    "import seaborn as sns\n",
    "\n",
    "%matplotlib inline\n",
    "sns.set_style(\"whitegrid\")"
   ]
  },
  {
   "cell_type": "code",
   "execution_count": 2,
   "id": "adc64411",
   "metadata": {
    "execution": {
     "iopub.execute_input": "2023-01-31T13:05:50.710931Z",
     "iopub.status.busy": "2023-01-31T13:05:50.710297Z",
     "iopub.status.idle": "2023-01-31T13:05:54.502110Z",
     "shell.execute_reply": "2023-01-31T13:05:54.501179Z"
    },
    "papermill": {
     "duration": 3.804256,
     "end_time": "2023-01-31T13:05:54.505543",
     "exception": false,
     "start_time": "2023-01-31T13:05:50.701287",
     "status": "completed"
    },
    "tags": []
   },
   "outputs": [
    {
     "data": {
      "text/html": [
       "<div>\n",
       "<style scoped>\n",
       "    .dataframe tbody tr th:only-of-type {\n",
       "        vertical-align: middle;\n",
       "    }\n",
       "\n",
       "    .dataframe tbody tr th {\n",
       "        vertical-align: top;\n",
       "    }\n",
       "\n",
       "    .dataframe thead th {\n",
       "        text-align: right;\n",
       "    }\n",
       "</style>\n",
       "<table border=\"1\" class=\"dataframe\">\n",
       "  <thead>\n",
       "    <tr style=\"text-align: right;\">\n",
       "      <th></th>\n",
       "      <th>Time</th>\n",
       "      <th>V1</th>\n",
       "      <th>V2</th>\n",
       "      <th>V3</th>\n",
       "      <th>V4</th>\n",
       "      <th>V5</th>\n",
       "      <th>V6</th>\n",
       "      <th>V7</th>\n",
       "      <th>V8</th>\n",
       "      <th>V9</th>\n",
       "      <th>...</th>\n",
       "      <th>V21</th>\n",
       "      <th>V22</th>\n",
       "      <th>V23</th>\n",
       "      <th>V24</th>\n",
       "      <th>V25</th>\n",
       "      <th>V26</th>\n",
       "      <th>V27</th>\n",
       "      <th>V28</th>\n",
       "      <th>Amount</th>\n",
       "      <th>Class</th>\n",
       "    </tr>\n",
       "  </thead>\n",
       "  <tbody>\n",
       "    <tr>\n",
       "      <th>0</th>\n",
       "      <td>0.0</td>\n",
       "      <td>-1.359807</td>\n",
       "      <td>-0.072781</td>\n",
       "      <td>2.536347</td>\n",
       "      <td>1.378155</td>\n",
       "      <td>-0.338321</td>\n",
       "      <td>0.462388</td>\n",
       "      <td>0.239599</td>\n",
       "      <td>0.098698</td>\n",
       "      <td>0.363787</td>\n",
       "      <td>...</td>\n",
       "      <td>-0.018307</td>\n",
       "      <td>0.277838</td>\n",
       "      <td>-0.110474</td>\n",
       "      <td>0.066928</td>\n",
       "      <td>0.128539</td>\n",
       "      <td>-0.189115</td>\n",
       "      <td>0.133558</td>\n",
       "      <td>-0.021053</td>\n",
       "      <td>149.62</td>\n",
       "      <td>0</td>\n",
       "    </tr>\n",
       "    <tr>\n",
       "      <th>1</th>\n",
       "      <td>0.0</td>\n",
       "      <td>1.191857</td>\n",
       "      <td>0.266151</td>\n",
       "      <td>0.166480</td>\n",
       "      <td>0.448154</td>\n",
       "      <td>0.060018</td>\n",
       "      <td>-0.082361</td>\n",
       "      <td>-0.078803</td>\n",
       "      <td>0.085102</td>\n",
       "      <td>-0.255425</td>\n",
       "      <td>...</td>\n",
       "      <td>-0.225775</td>\n",
       "      <td>-0.638672</td>\n",
       "      <td>0.101288</td>\n",
       "      <td>-0.339846</td>\n",
       "      <td>0.167170</td>\n",
       "      <td>0.125895</td>\n",
       "      <td>-0.008983</td>\n",
       "      <td>0.014724</td>\n",
       "      <td>2.69</td>\n",
       "      <td>0</td>\n",
       "    </tr>\n",
       "    <tr>\n",
       "      <th>2</th>\n",
       "      <td>1.0</td>\n",
       "      <td>-1.358354</td>\n",
       "      <td>-1.340163</td>\n",
       "      <td>1.773209</td>\n",
       "      <td>0.379780</td>\n",
       "      <td>-0.503198</td>\n",
       "      <td>1.800499</td>\n",
       "      <td>0.791461</td>\n",
       "      <td>0.247676</td>\n",
       "      <td>-1.514654</td>\n",
       "      <td>...</td>\n",
       "      <td>0.247998</td>\n",
       "      <td>0.771679</td>\n",
       "      <td>0.909412</td>\n",
       "      <td>-0.689281</td>\n",
       "      <td>-0.327642</td>\n",
       "      <td>-0.139097</td>\n",
       "      <td>-0.055353</td>\n",
       "      <td>-0.059752</td>\n",
       "      <td>378.66</td>\n",
       "      <td>0</td>\n",
       "    </tr>\n",
       "    <tr>\n",
       "      <th>3</th>\n",
       "      <td>1.0</td>\n",
       "      <td>-0.966272</td>\n",
       "      <td>-0.185226</td>\n",
       "      <td>1.792993</td>\n",
       "      <td>-0.863291</td>\n",
       "      <td>-0.010309</td>\n",
       "      <td>1.247203</td>\n",
       "      <td>0.237609</td>\n",
       "      <td>0.377436</td>\n",
       "      <td>-1.387024</td>\n",
       "      <td>...</td>\n",
       "      <td>-0.108300</td>\n",
       "      <td>0.005274</td>\n",
       "      <td>-0.190321</td>\n",
       "      <td>-1.175575</td>\n",
       "      <td>0.647376</td>\n",
       "      <td>-0.221929</td>\n",
       "      <td>0.062723</td>\n",
       "      <td>0.061458</td>\n",
       "      <td>123.50</td>\n",
       "      <td>0</td>\n",
       "    </tr>\n",
       "    <tr>\n",
       "      <th>4</th>\n",
       "      <td>2.0</td>\n",
       "      <td>-1.158233</td>\n",
       "      <td>0.877737</td>\n",
       "      <td>1.548718</td>\n",
       "      <td>0.403034</td>\n",
       "      <td>-0.407193</td>\n",
       "      <td>0.095921</td>\n",
       "      <td>0.592941</td>\n",
       "      <td>-0.270533</td>\n",
       "      <td>0.817739</td>\n",
       "      <td>...</td>\n",
       "      <td>-0.009431</td>\n",
       "      <td>0.798278</td>\n",
       "      <td>-0.137458</td>\n",
       "      <td>0.141267</td>\n",
       "      <td>-0.206010</td>\n",
       "      <td>0.502292</td>\n",
       "      <td>0.219422</td>\n",
       "      <td>0.215153</td>\n",
       "      <td>69.99</td>\n",
       "      <td>0</td>\n",
       "    </tr>\n",
       "  </tbody>\n",
       "</table>\n",
       "<p>5 rows × 31 columns</p>\n",
       "</div>"
      ],
      "text/plain": [
       "   Time        V1        V2        V3        V4        V5        V6        V7  \\\n",
       "0   0.0 -1.359807 -0.072781  2.536347  1.378155 -0.338321  0.462388  0.239599   \n",
       "1   0.0  1.191857  0.266151  0.166480  0.448154  0.060018 -0.082361 -0.078803   \n",
       "2   1.0 -1.358354 -1.340163  1.773209  0.379780 -0.503198  1.800499  0.791461   \n",
       "3   1.0 -0.966272 -0.185226  1.792993 -0.863291 -0.010309  1.247203  0.237609   \n",
       "4   2.0 -1.158233  0.877737  1.548718  0.403034 -0.407193  0.095921  0.592941   \n",
       "\n",
       "         V8        V9  ...       V21       V22       V23       V24       V25  \\\n",
       "0  0.098698  0.363787  ... -0.018307  0.277838 -0.110474  0.066928  0.128539   \n",
       "1  0.085102 -0.255425  ... -0.225775 -0.638672  0.101288 -0.339846  0.167170   \n",
       "2  0.247676 -1.514654  ...  0.247998  0.771679  0.909412 -0.689281 -0.327642   \n",
       "3  0.377436 -1.387024  ... -0.108300  0.005274 -0.190321 -1.175575  0.647376   \n",
       "4 -0.270533  0.817739  ... -0.009431  0.798278 -0.137458  0.141267 -0.206010   \n",
       "\n",
       "        V26       V27       V28  Amount  Class  \n",
       "0 -0.189115  0.133558 -0.021053  149.62      0  \n",
       "1  0.125895 -0.008983  0.014724    2.69      0  \n",
       "2 -0.139097 -0.055353 -0.059752  378.66      0  \n",
       "3 -0.221929  0.062723  0.061458  123.50      0  \n",
       "4  0.502292  0.219422  0.215153   69.99      0  \n",
       "\n",
       "[5 rows x 31 columns]"
      ]
     },
     "execution_count": 2,
     "metadata": {},
     "output_type": "execute_result"
    }
   ],
   "source": [
    "data = pd.read_csv(\"C:/Users/rabhi/OneDrive/Documents/Downloads/archive/creditcard.csv\")\n",
    "data.head()"
   ]
  },
  {
   "cell_type": "markdown",
   "id": "8e8d9cfb",
   "metadata": {
    "papermill": {
     "duration": 0.013024,
     "end_time": "2023-01-31T13:05:54.532704",
     "exception": false,
     "start_time": "2023-01-31T13:05:54.519680",
     "status": "completed"
    },
    "tags": []
   },
   "source": [
    "# 🔍 Exploratory Data Analysis\n"
   ]
  },
  {
   "cell_type": "code",
   "execution_count": 3,
   "id": "b3edd6a8",
   "metadata": {
    "_kg_hide-output": true,
    "execution": {
     "iopub.execute_input": "2023-01-31T13:05:54.562694Z",
     "iopub.status.busy": "2023-01-31T13:05:54.562168Z",
     "iopub.status.idle": "2023-01-31T13:05:54.614941Z",
     "shell.execute_reply": "2023-01-31T13:05:54.613889Z"
    },
    "papermill": {
     "duration": 0.069793,
     "end_time": "2023-01-31T13:05:54.617651",
     "exception": false,
     "start_time": "2023-01-31T13:05:54.547858",
     "status": "completed"
    },
    "tags": []
   },
   "outputs": [
    {
     "name": "stdout",
     "output_type": "stream",
     "text": [
      "<class 'pandas.core.frame.DataFrame'>\n",
      "RangeIndex: 284807 entries, 0 to 284806\n",
      "Data columns (total 31 columns):\n",
      " #   Column  Non-Null Count   Dtype  \n",
      "---  ------  --------------   -----  \n",
      " 0   Time    284807 non-null  float64\n",
      " 1   V1      284807 non-null  float64\n",
      " 2   V2      284807 non-null  float64\n",
      " 3   V3      284807 non-null  float64\n",
      " 4   V4      284807 non-null  float64\n",
      " 5   V5      284807 non-null  float64\n",
      " 6   V6      284807 non-null  float64\n",
      " 7   V7      284807 non-null  float64\n",
      " 8   V8      284807 non-null  float64\n",
      " 9   V9      284807 non-null  float64\n",
      " 10  V10     284807 non-null  float64\n",
      " 11  V11     284807 non-null  float64\n",
      " 12  V12     284807 non-null  float64\n",
      " 13  V13     284807 non-null  float64\n",
      " 14  V14     284807 non-null  float64\n",
      " 15  V15     284807 non-null  float64\n",
      " 16  V16     284807 non-null  float64\n",
      " 17  V17     284807 non-null  float64\n",
      " 18  V18     284807 non-null  float64\n",
      " 19  V19     284807 non-null  float64\n",
      " 20  V20     284807 non-null  float64\n",
      " 21  V21     284807 non-null  float64\n",
      " 22  V22     284807 non-null  float64\n",
      " 23  V23     284807 non-null  float64\n",
      " 24  V24     284807 non-null  float64\n",
      " 25  V25     284807 non-null  float64\n",
      " 26  V26     284807 non-null  float64\n",
      " 27  V27     284807 non-null  float64\n",
      " 28  V28     284807 non-null  float64\n",
      " 29  Amount  284807 non-null  float64\n",
      " 30  Class   284807 non-null  int64  \n",
      "dtypes: float64(30), int64(1)\n",
      "memory usage: 67.4 MB\n"
     ]
    }
   ],
   "source": [
    "data.info()"
   ]
  },
  {
   "cell_type": "code",
   "execution_count": 4,
   "id": "598474c8",
   "metadata": {
    "execution": {
     "iopub.execute_input": "2023-01-31T13:05:54.648530Z",
     "iopub.status.busy": "2023-01-31T13:05:54.648150Z",
     "iopub.status.idle": "2023-01-31T13:05:55.082040Z",
     "shell.execute_reply": "2023-01-31T13:05:55.080173Z"
    },
    "papermill": {
     "duration": 0.452426,
     "end_time": "2023-01-31T13:05:55.085103",
     "exception": false,
     "start_time": "2023-01-31T13:05:54.632677",
     "status": "completed"
    },
    "tags": []
   },
   "outputs": [
    {
     "data": {
      "text/html": [
       "<div>\n",
       "<style scoped>\n",
       "    .dataframe tbody tr th:only-of-type {\n",
       "        vertical-align: middle;\n",
       "    }\n",
       "\n",
       "    .dataframe tbody tr th {\n",
       "        vertical-align: top;\n",
       "    }\n",
       "\n",
       "    .dataframe thead th {\n",
       "        text-align: right;\n",
       "    }\n",
       "</style>\n",
       "<table border=\"1\" class=\"dataframe\">\n",
       "  <thead>\n",
       "    <tr style=\"text-align: right;\">\n",
       "      <th></th>\n",
       "      <th>Time</th>\n",
       "      <th>V1</th>\n",
       "      <th>V2</th>\n",
       "      <th>V3</th>\n",
       "      <th>V4</th>\n",
       "      <th>V5</th>\n",
       "      <th>V6</th>\n",
       "      <th>V7</th>\n",
       "      <th>V8</th>\n",
       "      <th>V9</th>\n",
       "      <th>...</th>\n",
       "      <th>V21</th>\n",
       "      <th>V22</th>\n",
       "      <th>V23</th>\n",
       "      <th>V24</th>\n",
       "      <th>V25</th>\n",
       "      <th>V26</th>\n",
       "      <th>V27</th>\n",
       "      <th>V28</th>\n",
       "      <th>Amount</th>\n",
       "      <th>Class</th>\n",
       "    </tr>\n",
       "  </thead>\n",
       "  <tbody>\n",
       "    <tr>\n",
       "      <th>count</th>\n",
       "      <td>284807.00</td>\n",
       "      <td>284807.00</td>\n",
       "      <td>284807.00</td>\n",
       "      <td>284807.00</td>\n",
       "      <td>284807.00</td>\n",
       "      <td>284807.00</td>\n",
       "      <td>284807.00</td>\n",
       "      <td>284807.00</td>\n",
       "      <td>284807.00</td>\n",
       "      <td>284807.00</td>\n",
       "      <td>...</td>\n",
       "      <td>284807.00</td>\n",
       "      <td>284807.00</td>\n",
       "      <td>284807.00</td>\n",
       "      <td>284807.00</td>\n",
       "      <td>284807.00</td>\n",
       "      <td>284807.00</td>\n",
       "      <td>284807.00</td>\n",
       "      <td>284807.00</td>\n",
       "      <td>284807.00</td>\n",
       "      <td>284807.00</td>\n",
       "    </tr>\n",
       "    <tr>\n",
       "      <th>mean</th>\n",
       "      <td>94813.86</td>\n",
       "      <td>0.00</td>\n",
       "      <td>0.00</td>\n",
       "      <td>-0.00</td>\n",
       "      <td>0.00</td>\n",
       "      <td>0.00</td>\n",
       "      <td>0.00</td>\n",
       "      <td>-0.00</td>\n",
       "      <td>0.00</td>\n",
       "      <td>-0.00</td>\n",
       "      <td>...</td>\n",
       "      <td>0.00</td>\n",
       "      <td>-0.00</td>\n",
       "      <td>0.00</td>\n",
       "      <td>0.00</td>\n",
       "      <td>0.00</td>\n",
       "      <td>0.00</td>\n",
       "      <td>-0.00</td>\n",
       "      <td>-0.00</td>\n",
       "      <td>88.35</td>\n",
       "      <td>0.00</td>\n",
       "    </tr>\n",
       "    <tr>\n",
       "      <th>std</th>\n",
       "      <td>47488.15</td>\n",
       "      <td>1.96</td>\n",
       "      <td>1.65</td>\n",
       "      <td>1.52</td>\n",
       "      <td>1.42</td>\n",
       "      <td>1.38</td>\n",
       "      <td>1.33</td>\n",
       "      <td>1.24</td>\n",
       "      <td>1.19</td>\n",
       "      <td>1.10</td>\n",
       "      <td>...</td>\n",
       "      <td>0.73</td>\n",
       "      <td>0.73</td>\n",
       "      <td>0.62</td>\n",
       "      <td>0.61</td>\n",
       "      <td>0.52</td>\n",
       "      <td>0.48</td>\n",
       "      <td>0.40</td>\n",
       "      <td>0.33</td>\n",
       "      <td>250.12</td>\n",
       "      <td>0.04</td>\n",
       "    </tr>\n",
       "    <tr>\n",
       "      <th>min</th>\n",
       "      <td>0.00</td>\n",
       "      <td>-56.41</td>\n",
       "      <td>-72.72</td>\n",
       "      <td>-48.33</td>\n",
       "      <td>-5.68</td>\n",
       "      <td>-113.74</td>\n",
       "      <td>-26.16</td>\n",
       "      <td>-43.56</td>\n",
       "      <td>-73.22</td>\n",
       "      <td>-13.43</td>\n",
       "      <td>...</td>\n",
       "      <td>-34.83</td>\n",
       "      <td>-10.93</td>\n",
       "      <td>-44.81</td>\n",
       "      <td>-2.84</td>\n",
       "      <td>-10.30</td>\n",
       "      <td>-2.60</td>\n",
       "      <td>-22.57</td>\n",
       "      <td>-15.43</td>\n",
       "      <td>0.00</td>\n",
       "      <td>0.00</td>\n",
       "    </tr>\n",
       "    <tr>\n",
       "      <th>25%</th>\n",
       "      <td>54201.50</td>\n",
       "      <td>-0.92</td>\n",
       "      <td>-0.60</td>\n",
       "      <td>-0.89</td>\n",
       "      <td>-0.85</td>\n",
       "      <td>-0.69</td>\n",
       "      <td>-0.77</td>\n",
       "      <td>-0.55</td>\n",
       "      <td>-0.21</td>\n",
       "      <td>-0.64</td>\n",
       "      <td>...</td>\n",
       "      <td>-0.23</td>\n",
       "      <td>-0.54</td>\n",
       "      <td>-0.16</td>\n",
       "      <td>-0.35</td>\n",
       "      <td>-0.32</td>\n",
       "      <td>-0.33</td>\n",
       "      <td>-0.07</td>\n",
       "      <td>-0.05</td>\n",
       "      <td>5.60</td>\n",
       "      <td>0.00</td>\n",
       "    </tr>\n",
       "    <tr>\n",
       "      <th>50%</th>\n",
       "      <td>84692.00</td>\n",
       "      <td>0.02</td>\n",
       "      <td>0.07</td>\n",
       "      <td>0.18</td>\n",
       "      <td>-0.02</td>\n",
       "      <td>-0.05</td>\n",
       "      <td>-0.27</td>\n",
       "      <td>0.04</td>\n",
       "      <td>0.02</td>\n",
       "      <td>-0.05</td>\n",
       "      <td>...</td>\n",
       "      <td>-0.03</td>\n",
       "      <td>0.01</td>\n",
       "      <td>-0.01</td>\n",
       "      <td>0.04</td>\n",
       "      <td>0.02</td>\n",
       "      <td>-0.05</td>\n",
       "      <td>0.00</td>\n",
       "      <td>0.01</td>\n",
       "      <td>22.00</td>\n",
       "      <td>0.00</td>\n",
       "    </tr>\n",
       "    <tr>\n",
       "      <th>75%</th>\n",
       "      <td>139320.50</td>\n",
       "      <td>1.32</td>\n",
       "      <td>0.80</td>\n",
       "      <td>1.03</td>\n",
       "      <td>0.74</td>\n",
       "      <td>0.61</td>\n",
       "      <td>0.40</td>\n",
       "      <td>0.57</td>\n",
       "      <td>0.33</td>\n",
       "      <td>0.60</td>\n",
       "      <td>...</td>\n",
       "      <td>0.19</td>\n",
       "      <td>0.53</td>\n",
       "      <td>0.15</td>\n",
       "      <td>0.44</td>\n",
       "      <td>0.35</td>\n",
       "      <td>0.24</td>\n",
       "      <td>0.09</td>\n",
       "      <td>0.08</td>\n",
       "      <td>77.16</td>\n",
       "      <td>0.00</td>\n",
       "    </tr>\n",
       "    <tr>\n",
       "      <th>max</th>\n",
       "      <td>172792.00</td>\n",
       "      <td>2.45</td>\n",
       "      <td>22.06</td>\n",
       "      <td>9.38</td>\n",
       "      <td>16.88</td>\n",
       "      <td>34.80</td>\n",
       "      <td>73.30</td>\n",
       "      <td>120.59</td>\n",
       "      <td>20.01</td>\n",
       "      <td>15.59</td>\n",
       "      <td>...</td>\n",
       "      <td>27.20</td>\n",
       "      <td>10.50</td>\n",
       "      <td>22.53</td>\n",
       "      <td>4.58</td>\n",
       "      <td>7.52</td>\n",
       "      <td>3.52</td>\n",
       "      <td>31.61</td>\n",
       "      <td>33.85</td>\n",
       "      <td>25691.16</td>\n",
       "      <td>1.00</td>\n",
       "    </tr>\n",
       "  </tbody>\n",
       "</table>\n",
       "<p>8 rows × 31 columns</p>\n",
       "</div>"
      ],
      "text/plain": [
       "           Time        V1        V2        V3        V4        V5        V6  \\\n",
       "count 284807.00 284807.00 284807.00 284807.00 284807.00 284807.00 284807.00   \n",
       "mean   94813.86      0.00      0.00     -0.00      0.00      0.00      0.00   \n",
       "std    47488.15      1.96      1.65      1.52      1.42      1.38      1.33   \n",
       "min        0.00    -56.41    -72.72    -48.33     -5.68   -113.74    -26.16   \n",
       "25%    54201.50     -0.92     -0.60     -0.89     -0.85     -0.69     -0.77   \n",
       "50%    84692.00      0.02      0.07      0.18     -0.02     -0.05     -0.27   \n",
       "75%   139320.50      1.32      0.80      1.03      0.74      0.61      0.40   \n",
       "max   172792.00      2.45     22.06      9.38     16.88     34.80     73.30   \n",
       "\n",
       "             V7        V8        V9  ...       V21       V22       V23  \\\n",
       "count 284807.00 284807.00 284807.00  ... 284807.00 284807.00 284807.00   \n",
       "mean      -0.00      0.00     -0.00  ...      0.00     -0.00      0.00   \n",
       "std        1.24      1.19      1.10  ...      0.73      0.73      0.62   \n",
       "min      -43.56    -73.22    -13.43  ...    -34.83    -10.93    -44.81   \n",
       "25%       -0.55     -0.21     -0.64  ...     -0.23     -0.54     -0.16   \n",
       "50%        0.04      0.02     -0.05  ...     -0.03      0.01     -0.01   \n",
       "75%        0.57      0.33      0.60  ...      0.19      0.53      0.15   \n",
       "max      120.59     20.01     15.59  ...     27.20     10.50     22.53   \n",
       "\n",
       "            V24       V25       V26       V27       V28    Amount     Class  \n",
       "count 284807.00 284807.00 284807.00 284807.00 284807.00 284807.00 284807.00  \n",
       "mean       0.00      0.00      0.00     -0.00     -0.00     88.35      0.00  \n",
       "std        0.61      0.52      0.48      0.40      0.33    250.12      0.04  \n",
       "min       -2.84    -10.30     -2.60    -22.57    -15.43      0.00      0.00  \n",
       "25%       -0.35     -0.32     -0.33     -0.07     -0.05      5.60      0.00  \n",
       "50%        0.04      0.02     -0.05      0.00      0.01     22.00      0.00  \n",
       "75%        0.44      0.35      0.24      0.09      0.08     77.16      0.00  \n",
       "max        4.58      7.52      3.52     31.61     33.85  25691.16      1.00  \n",
       "\n",
       "[8 rows x 31 columns]"
      ]
     },
     "execution_count": 4,
     "metadata": {},
     "output_type": "execute_result"
    }
   ],
   "source": [
    "pd.set_option(\"display.float\", \"{:.2f}\".format)\n",
    "data.describe()"
   ]
  },
  {
   "cell_type": "markdown",
   "id": "caa663c3",
   "metadata": {
    "papermill": {
     "duration": 0.010099,
     "end_time": "2023-01-31T13:05:55.105479",
     "exception": false,
     "start_time": "2023-01-31T13:05:55.095380",
     "status": "completed"
    },
    "tags": []
   },
   "source": [
    "Let us now check the missing values in the dataset\n"
   ]
  },
  {
   "cell_type": "code",
   "execution_count": 5,
   "id": "f7a9cf81",
   "metadata": {
    "execution": {
     "iopub.execute_input": "2023-01-31T13:05:55.127037Z",
     "iopub.status.busy": "2023-01-31T13:05:55.126046Z",
     "iopub.status.idle": "2023-01-31T13:05:55.149948Z",
     "shell.execute_reply": "2023-01-31T13:05:55.148771Z"
    },
    "papermill": {
     "duration": 0.037634,
     "end_time": "2023-01-31T13:05:55.152437",
     "exception": false,
     "start_time": "2023-01-31T13:05:55.114803",
     "status": "completed"
    },
    "tags": []
   },
   "outputs": [
    {
     "data": {
      "text/plain": [
       "0"
      ]
     },
     "execution_count": 5,
     "metadata": {},
     "output_type": "execute_result"
    }
   ],
   "source": [
    "data.isnull().sum().sum()"
   ]
  },
  {
   "cell_type": "code",
   "execution_count": 6,
   "id": "2c0be751",
   "metadata": {
    "execution": {
     "iopub.execute_input": "2023-01-31T13:05:55.173524Z",
     "iopub.status.busy": "2023-01-31T13:05:55.173139Z",
     "iopub.status.idle": "2023-01-31T13:05:55.179937Z",
     "shell.execute_reply": "2023-01-31T13:05:55.178914Z"
    },
    "papermill": {
     "duration": 0.019412,
     "end_time": "2023-01-31T13:05:55.181959",
     "exception": false,
     "start_time": "2023-01-31T13:05:55.162547",
     "status": "completed"
    },
    "tags": []
   },
   "outputs": [
    {
     "data": {
      "text/plain": [
       "Index(['Time', 'V1', 'V2', 'V3', 'V4', 'V5', 'V6', 'V7', 'V8', 'V9', 'V10',\n",
       "       'V11', 'V12', 'V13', 'V14', 'V15', 'V16', 'V17', 'V18', 'V19', 'V20',\n",
       "       'V21', 'V22', 'V23', 'V24', 'V25', 'V26', 'V27', 'V28', 'Amount',\n",
       "       'Class'],\n",
       "      dtype='object')"
      ]
     },
     "execution_count": 6,
     "metadata": {},
     "output_type": "execute_result"
    }
   ],
   "source": [
    "data.columns"
   ]
  },
  {
   "cell_type": "markdown",
   "id": "8c05d979",
   "metadata": {
    "papermill": {
     "duration": 0.009193,
     "end_time": "2023-01-31T13:05:55.200580",
     "exception": false,
     "start_time": "2023-01-31T13:05:55.191387",
     "status": "completed"
    },
    "tags": []
   },
   "source": [
    "### The only non-transformed variables to work with are:"
   ]
  },
  {
   "cell_type": "code",
   "execution_count": 7,
   "id": "41522294",
   "metadata": {
    "execution": {
     "iopub.execute_input": "2023-01-31T13:05:55.221557Z",
     "iopub.status.busy": "2023-01-31T13:05:55.220635Z",
     "iopub.status.idle": "2023-01-31T13:05:55.458370Z",
     "shell.execute_reply": "2023-01-31T13:05:55.457392Z"
    },
    "papermill": {
     "duration": 0.250708,
     "end_time": "2023-01-31T13:05:55.460632",
     "exception": false,
     "start_time": "2023-01-31T13:05:55.209924",
     "status": "completed"
    },
    "tags": []
   },
   "outputs": [
    {
     "data": {
      "image/png": "[encoded data removed]",
      "text/plain": [
       "<Figure size 640x480 with 1 Axes>"
      ]
     },
     "metadata": {},
     "output_type": "display_data"
    }
   ],
   "source": [
    "LABELS = [\"Normal\", \"Fraud\"]\n",
    "\n",
    "count_classes = pd.value_counts(data['Class'], sort = True)\n",
    "count_classes.plot(kind = 'bar', rot=0)\n",
    "plt.title(\"Transaction Class Distribution\")\n",
    "plt.xticks(range(2), LABELS)\n",
    "plt.xlabel(\"Class\")\n",
    "plt.ylabel(\"Frequency\");"
   ]
  },
  {
   "cell_type": "code",
   "execution_count": 8,
   "id": "add48d5f",
   "metadata": {
    "execution": {
     "iopub.execute_input": "2023-01-31T13:05:55.481942Z",
     "iopub.status.busy": "2023-01-31T13:05:55.481054Z",
     "iopub.status.idle": "2023-01-31T13:05:55.491107Z",
     "shell.execute_reply": "2023-01-31T13:05:55.490064Z"
    },
    "papermill": {
     "duration": 0.023313,
     "end_time": "2023-01-31T13:05:55.493880",
     "exception": false,
     "start_time": "2023-01-31T13:05:55.470567",
     "status": "completed"
    },
    "tags": []
   },
   "outputs": [
    {
     "data": {
      "text/plain": [
       "0    284315\n",
       "1       492\n",
       "Name: Class, dtype: int64"
      ]
     },
     "execution_count": 8,
     "metadata": {},
     "output_type": "execute_result"
    }
   ],
   "source": [
    "data.Class.value_counts()"
   ]
  },
  {
   "cell_type": "markdown",
   "id": "67cc5cb8",
   "metadata": {
    "papermill": {
     "duration": 0.00935,
     "end_time": "2023-01-31T13:05:55.513082",
     "exception": false,
     "start_time": "2023-01-31T13:05:55.503732",
     "status": "completed"
    },
    "tags": []
   },
   "source": []
  },
  {
   "cell_type": "markdown",
   "id": "a5b30a76",
   "metadata": {
    "papermill": {
     "duration": 0.009416,
     "end_time": "2023-01-31T13:05:55.532032",
     "exception": false,
     "start_time": "2023-01-31T13:05:55.522616",
     "status": "completed"
    },
    "tags": []
   },
   "source": []
  },
  {
   "cell_type": "code",
   "execution_count": 9,
   "id": "46857b09",
   "metadata": {
    "execution": {
     "iopub.execute_input": "2023-01-31T13:05:55.553912Z",
     "iopub.status.busy": "2023-01-31T13:05:55.553547Z",
     "iopub.status.idle": "2023-01-31T13:05:55.605012Z",
     "shell.execute_reply": "2023-01-31T13:05:55.603778Z"
    },
    "papermill": {
     "duration": 0.065781,
     "end_time": "2023-01-31T13:05:55.607607",
     "exception": false,
     "start_time": "2023-01-31T13:05:55.541826",
     "status": "completed"
    },
    "tags": []
   },
   "outputs": [
    {
     "name": "stdout",
     "output_type": "stream",
     "text": [
      "Shape of Fraudulant transactions: (492, 31)\n",
      "Shape of Non-Fraudulant transactions: (284315, 31)\n"
     ]
    }
   ],
   "source": [
    "fraud = data[data['Class']==1]\n",
    "normal = data[data['Class']==0]\n",
    "\n",
    "print(f\"Shape of Fraudulant transactions: {fraud.shape}\")\n",
    "print(f\"Shape of Non-Fraudulant transactions: {normal.shape}\")"
   ]
  },
  {
   "cell_type": "markdown",
   "id": "a5429970",
   "metadata": {
    "papermill": {
     "duration": 0.010546,
     "end_time": "2023-01-31T13:05:55.628203",
     "exception": false,
     "start_time": "2023-01-31T13:05:55.617657",
     "status": "completed"
    },
    "tags": []
   },
   "source": [
    "How different are the amount of money used in different transaction classes?"
   ]
  },
  {
   "cell_type": "code",
   "execution_count": 10,
   "id": "fc2bedcb",
   "metadata": {
    "execution": {
     "iopub.execute_input": "2023-01-31T13:05:55.650051Z",
     "iopub.status.busy": "2023-01-31T13:05:55.649682Z",
     "iopub.status.idle": "2023-01-31T13:05:55.679572Z",
     "shell.execute_reply": "2023-01-31T13:05:55.678285Z"
    },
    "papermill": {
     "duration": 0.04332,
     "end_time": "2023-01-31T13:05:55.682016",
     "exception": false,
     "start_time": "2023-01-31T13:05:55.638696",
     "status": "completed"
    },
    "tags": []
   },
   "outputs": [
    {
     "data": {
      "text/html": [
       "<div>\n",
       "<style scoped>\n",
       "    .dataframe tbody tr th:only-of-type {\n",
       "        vertical-align: middle;\n",
       "    }\n",
       "\n",
       "    .dataframe tbody tr th {\n",
       "        vertical-align: top;\n",
       "    }\n",
       "\n",
       "    .dataframe thead th {\n",
       "        text-align: right;\n",
       "    }\n",
       "</style>\n",
       "<table border=\"1\" class=\"dataframe\">\n",
       "  <thead>\n",
       "    <tr style=\"text-align: right;\">\n",
       "      <th></th>\n",
       "      <th>Amount</th>\n",
       "      <th>Amount</th>\n",
       "    </tr>\n",
       "  </thead>\n",
       "  <tbody>\n",
       "    <tr>\n",
       "      <th>count</th>\n",
       "      <td>492.00</td>\n",
       "      <td>284315.00</td>\n",
       "    </tr>\n",
       "    <tr>\n",
       "      <th>mean</th>\n",
       "      <td>122.21</td>\n",
       "      <td>88.29</td>\n",
       "    </tr>\n",
       "    <tr>\n",
       "      <th>std</th>\n",
       "      <td>256.68</td>\n",
       "      <td>250.11</td>\n",
       "    </tr>\n",
       "    <tr>\n",
       "      <th>min</th>\n",
       "      <td>0.00</td>\n",
       "      <td>0.00</td>\n",
       "    </tr>\n",
       "    <tr>\n",
       "      <th>25%</th>\n",
       "      <td>1.00</td>\n",
       "      <td>5.65</td>\n",
       "    </tr>\n",
       "    <tr>\n",
       "      <th>50%</th>\n",
       "      <td>9.25</td>\n",
       "      <td>22.00</td>\n",
       "    </tr>\n",
       "    <tr>\n",
       "      <th>75%</th>\n",
       "      <td>105.89</td>\n",
       "      <td>77.05</td>\n",
       "    </tr>\n",
       "    <tr>\n",
       "      <th>max</th>\n",
       "      <td>2125.87</td>\n",
       "      <td>25691.16</td>\n",
       "    </tr>\n",
       "  </tbody>\n",
       "</table>\n",
       "</div>"
      ],
      "text/plain": [
       "       Amount    Amount\n",
       "count  492.00 284315.00\n",
       "mean   122.21     88.29\n",
       "std    256.68    250.11\n",
       "min      0.00      0.00\n",
       "25%      1.00      5.65\n",
       "50%      9.25     22.00\n",
       "75%    105.89     77.05\n",
       "max   2125.87  25691.16"
      ]
     },
     "execution_count": 10,
     "metadata": {},
     "output_type": "execute_result"
    }
   ],
   "source": [
    "pd.concat([fraud.Amount.describe(), normal.Amount.describe()], axis=1)"
   ]
  },
  {
   "cell_type": "markdown",
   "id": "be42d92e",
   "metadata": {
    "papermill": {
     "duration": 0.010211,
     "end_time": "2023-01-31T13:05:55.702778",
     "exception": false,
     "start_time": "2023-01-31T13:05:55.692567",
     "status": "completed"
    },
    "tags": []
   },
   "source": [
    "Do fraudulent transactions occur more often during certain time frame ?"
   ]
  },
  {
   "cell_type": "code",
   "execution_count": 11,
   "id": "a11f301a",
   "metadata": {
    "execution": {
     "iopub.execute_input": "2023-01-31T13:05:55.724633Z",
     "iopub.status.busy": "2023-01-31T13:05:55.724148Z",
     "iopub.status.idle": "2023-01-31T13:05:55.746786Z",
     "shell.execute_reply": "2023-01-31T13:05:55.745527Z"
    },
    "papermill": {
     "duration": 0.036937,
     "end_time": "2023-01-31T13:05:55.749822",
     "exception": false,
     "start_time": "2023-01-31T13:05:55.712885",
     "status": "completed"
    },
    "tags": []
   },
   "outputs": [
    {
     "data": {
      "text/html": [
       "<div>\n",
       "<style scoped>\n",
       "    .dataframe tbody tr th:only-of-type {\n",
       "        vertical-align: middle;\n",
       "    }\n",
       "\n",
       "    .dataframe tbody tr th {\n",
       "        vertical-align: top;\n",
       "    }\n",
       "\n",
       "    .dataframe thead th {\n",
       "        text-align: right;\n",
       "    }\n",
       "</style>\n",
       "<table border=\"1\" class=\"dataframe\">\n",
       "  <thead>\n",
       "    <tr style=\"text-align: right;\">\n",
       "      <th></th>\n",
       "      <th>Time</th>\n",
       "      <th>Time</th>\n",
       "    </tr>\n",
       "  </thead>\n",
       "  <tbody>\n",
       "    <tr>\n",
       "      <th>count</th>\n",
       "      <td>492.00</td>\n",
       "      <td>284315.00</td>\n",
       "    </tr>\n",
       "    <tr>\n",
       "      <th>mean</th>\n",
       "      <td>80746.81</td>\n",
       "      <td>94838.20</td>\n",
       "    </tr>\n",
       "    <tr>\n",
       "      <th>std</th>\n",
       "      <td>47835.37</td>\n",
       "      <td>47484.02</td>\n",
       "    </tr>\n",
       "    <tr>\n",
       "      <th>min</th>\n",
       "      <td>406.00</td>\n",
       "      <td>0.00</td>\n",
       "    </tr>\n",
       "    <tr>\n",
       "      <th>25%</th>\n",
       "      <td>41241.50</td>\n",
       "      <td>54230.00</td>\n",
       "    </tr>\n",
       "    <tr>\n",
       "      <th>50%</th>\n",
       "      <td>75568.50</td>\n",
       "      <td>84711.00</td>\n",
       "    </tr>\n",
       "    <tr>\n",
       "      <th>75%</th>\n",
       "      <td>128483.00</td>\n",
       "      <td>139333.00</td>\n",
       "    </tr>\n",
       "    <tr>\n",
       "      <th>max</th>\n",
       "      <td>170348.00</td>\n",
       "      <td>172792.00</td>\n",
       "    </tr>\n",
       "  </tbody>\n",
       "</table>\n",
       "</div>"
      ],
      "text/plain": [
       "           Time      Time\n",
       "count    492.00 284315.00\n",
       "mean   80746.81  94838.20\n",
       "std    47835.37  47484.02\n",
       "min      406.00      0.00\n",
       "25%    41241.50  54230.00\n",
       "50%    75568.50  84711.00\n",
       "75%   128483.00 139333.00\n",
       "max   170348.00 172792.00"
      ]
     },
     "execution_count": 11,
     "metadata": {},
     "output_type": "execute_result"
    }
   ],
   "source": [
    "pd.concat([fraud.Time.describe(), normal.Time.describe()], axis=1)"
   ]
  },
  {
   "cell_type": "code",
   "execution_count": 12,
   "id": "d18edda0",
   "metadata": {
    "execution": {
     "iopub.execute_input": "2023-01-31T13:05:55.773134Z",
     "iopub.status.busy": "2023-01-31T13:05:55.772764Z",
     "iopub.status.idle": "2023-01-31T13:06:17.473472Z",
     "shell.execute_reply": "2023-01-31T13:06:17.472481Z"
    },
    "papermill": {
     "duration": 21.714964,
     "end_time": "2023-01-31T13:06:17.475678",
     "exception": false,
     "start_time": "2023-01-31T13:05:55.760714",
     "status": "completed"
    },
    "tags": []
   },
   "outputs": [
    {
     "name": "stderr",
     "output_type": "stream",
     "text": [
      "C:\\Users\\rabhi\\AppData\\Local\\Temp\\ipykernel_5852\\3161143837.py:10: MatplotlibDeprecationWarning: Auto-removal of overlapping axes is deprecated since 3.6 and will be removed two minor releases later; explicitly call ax.remove() as needed.\n",
      "  plt.subplot(2, 2, 2)\n"
     ]
    },
    {
     "data": {
      "image/png": "[encoded data removed]",
      "text/plain": [
       "<Figure size 1400x1000 with 1 Axes>"
      ]
     },
     "metadata": {},
     "output_type": "display_data"
    },
    {
     "data": {
      "image/png": "[encoded data removed]",
      "text/plain": [
       "<Figure size 500x500 with 1 Axes>"
      ]
     },
     "metadata": {},
     "output_type": "display_data"
    },
    {
     "data": {
      "image/png": "[encoded data removed]",
      "text/plain": [
       "<Figure size 500x500 with 1 Axes>"
      ]
     },
     "metadata": {},
     "output_type": "display_data"
    }
   ],
   "source": [
    "# plot the time feature\n",
    "plt.figure(figsize=(14,10))\n",
    "\n",
    "plt.subplot(2, 2, 1)\n",
    "plt.title('Time Distribution (Seconds)')\n",
    "\n",
    "sns.displot(data['Time'], color='blue');\n",
    "\n",
    "#plot the amount feature\n",
    "plt.subplot(2, 2, 2)\n",
    "plt.title('Distribution of Amount')\n",
    "sns.displot(data['Amount'],color='blue');"
   ]
  },
  {
   "cell_type": "code",
   "execution_count": 13,
   "id": "f9759711",
   "metadata": {
    "execution": {
     "iopub.execute_input": "2023-01-31T13:06:17.500082Z",
     "iopub.status.busy": "2023-01-31T13:06:17.498117Z",
     "iopub.status.idle": "2023-01-31T13:06:18.059223Z",
     "shell.execute_reply": "2023-01-31T13:06:18.058277Z"
    },
    "papermill": {
     "duration": 0.575034,
     "end_time": "2023-01-31T13:06:18.061322",
     "exception": false,
     "start_time": "2023-01-31T13:06:17.486288",
     "status": "completed"
    },
    "tags": []
   },
   "outputs": [
    {
     "data": {
      "text/plain": [
       "<matplotlib.legend.Legend at 0x20e04d77e50>"
      ]
     },
     "execution_count": 13,
     "metadata": {},
     "output_type": "execute_result"
    },
    {
     "data": {
      "image/png": "[encoded data removed]",
      "text/plain": [
       "<Figure size 1400x1200 with 2 Axes>"
      ]
     },
     "metadata": {},
     "output_type": "display_data"
    }
   ],
   "source": [
    "# data[data.Class == 0].Time.hist(bins=35, color='blue', alpha=0.6)\n",
    "plt.figure(figsize=(14, 12))\n",
    "\n",
    "plt.subplot(2, 2, 1)\n",
    "data[data.Class == 1].Time.hist(bins=35, color='blue', alpha=0.6, label=\"Fraudulant Transaction\")\n",
    "plt.legend()\n",
    "\n",
    "plt.subplot(2, 2, 2)\n",
    "data[data.Class == 0].Time.hist(bins=35, color='blue', alpha=0.6, label=\"Non Fraudulant Transaction\")\n",
    "plt.legend()"
   ]
  },
  {
   "cell_type": "markdown",
   "id": "77357553",
   "metadata": {
    "papermill": {
     "duration": 0.010444,
     "end_time": "2023-01-31T13:06:18.082891",
     "exception": false,
     "start_time": "2023-01-31T13:06:18.072447",
     "status": "completed"
    },
    "tags": []
   },
   "source": []
  },
  {
   "cell_type": "code",
   "execution_count": 14,
   "id": "4065fc67",
   "metadata": {
    "execution": {
     "iopub.execute_input": "2023-01-31T13:06:18.105975Z",
     "iopub.status.busy": "2023-01-31T13:06:18.105211Z",
     "iopub.status.idle": "2023-01-31T13:06:19.696220Z",
     "shell.execute_reply": "2023-01-31T13:06:19.695341Z"
    },
    "papermill": {
     "duration": 1.604884,
     "end_time": "2023-01-31T13:06:19.698423",
     "exception": false,
     "start_time": "2023-01-31T13:06:18.093539",
     "status": "completed"
    },
    "tags": []
   },
   "outputs": [
    {
     "data": {
      "image/png": "[encoded data removed]",
      "text/plain": [
       "<Figure size 1000x1000 with 2 Axes>"
      ]
     },
     "metadata": {},
     "output_type": "display_data"
    }
   ],
   "source": [
    "# heatmap to find any high correlations\n",
    "\n",
    "plt.figure(figsize=(10,10))\n",
    "sns.heatmap(data=data.corr(), cmap=\"seismic\")\n",
    "plt.show();"
   ]
  },
  {
   "cell_type": "markdown",
   "id": "e629ac0e",
   "metadata": {
    "papermill": {
     "duration": 0.010924,
     "end_time": "2023-01-31T13:06:19.720871",
     "exception": false,
     "start_time": "2023-01-31T13:06:19.709947",
     "status": "completed"
    },
    "tags": []
   },
   "source": [
    "### Highest correlations come from:"
   ]
  },
  {
   "cell_type": "markdown",
   "id": "5cba5437",
   "metadata": {
    "papermill": {
     "duration": 0.01069,
     "end_time": "2023-01-31T13:06:19.742440",
     "exception": false,
     "start_time": "2023-01-31T13:06:19.731750",
     "status": "completed"
    },
    "tags": []
   },
   "source": [
    "# 3. Data Pre-processing"
   ]
  },
  {
   "cell_type": "code",
   "execution_count": 15,
   "id": "c2263ab1",
   "metadata": {
    "execution": {
     "iopub.execute_input": "2023-01-31T13:06:19.765616Z",
     "iopub.status.busy": "2023-01-31T13:06:19.765261Z",
     "iopub.status.idle": "2023-01-31T13:06:20.163303Z",
     "shell.execute_reply": "2023-01-31T13:06:20.162076Z"
    },
    "papermill": {
     "duration": 0.412938,
     "end_time": "2023-01-31T13:06:20.166156",
     "exception": false,
     "start_time": "2023-01-31T13:06:19.753218",
     "status": "completed"
    },
    "tags": []
   },
   "outputs": [
    {
     "name": "stdout",
     "output_type": "stream",
     "text": [
      "Fraudulant transaction weight: 0.0017994745785028623\n",
      "Non-Fraudulant transaction weight: 0.9982005254214972\n"
     ]
    }
   ],
   "source": [
    "from sklearn.model_selection import train_test_split\n",
    "from sklearn.preprocessing import StandardScaler\n",
    "\n",
    "scalar = StandardScaler()\n",
    "\n",
    "X = data.drop('Class', axis=1)\n",
    "y = data.Class\n",
    "\n",
    "X_train_v, X_test, y_train_v, y_test = train_test_split(X, y, \n",
    "                                                    test_size=0.3, random_state=42)\n",
    "X_train, X_validate, y_train, y_validate = train_test_split(X_train_v, y_train_v, \n",
    "                                                            test_size=0.2, random_state=42)\n",
    "\n",
    "X_train = scalar.fit_transform(X_train)\n",
    "X_validate = scalar.transform(X_validate)\n",
    "X_test = scalar.transform(X_test)\n",
    "\n",
    "w_p = y_train.value_counts()[0] / len(y_train)\n",
    "w_n = y_train.value_counts()[1] / len(y_train)\n",
    "\n",
    "print(f\"Fraudulant transaction weight: {w_n}\")\n",
    "print(f\"Non-Fraudulant transaction weight: {w_p}\")"
   ]
  },
  {
   "cell_type": "code",
   "execution_count": 16,
   "id": "a316b725",
   "metadata": {
    "execution": {
     "iopub.execute_input": "2023-01-31T13:06:20.190505Z",
     "iopub.status.busy": "2023-01-31T13:06:20.189857Z",
     "iopub.status.idle": "2023-01-31T13:06:20.197048Z",
     "shell.execute_reply": "2023-01-31T13:06:20.195321Z"
    },
    "papermill": {
     "duration": 0.022336,
     "end_time": "2023-01-31T13:06:20.199725",
     "exception": false,
     "start_time": "2023-01-31T13:06:20.177389",
     "status": "completed"
    },
    "tags": []
   },
   "outputs": [
    {
     "name": "stdout",
     "output_type": "stream",
     "text": [
      "TRAINING: X_train: (159491, 30), y_train: (159491,)\n",
      "_______________________________________________________\n",
      "VALIDATION: X_validate: (39873, 30), y_validate: (39873,)\n",
      "__________________________________________________\n",
      "TESTING: X_test: (85443, 30), y_test: (85443,)\n"
     ]
    }
   ],
   "source": [
    "print(f\"TRAINING: X_train: {X_train.shape}, y_train: {y_train.shape}\\n{'_'*55}\")\n",
    "print(f\"VALIDATION: X_validate: {X_validate.shape}, y_validate: {y_validate.shape}\\n{'_'*50}\")\n",
    "print(f\"TESTING: X_test: {X_test.shape}, y_test: {y_test.shape}\")"
   ]
  },
  {
   "cell_type": "code",
   "execution_count": 17,
   "id": "d9417505",
   "metadata": {
    "execution": {
     "iopub.execute_input": "2023-01-31T13:06:20.224134Z",
     "iopub.status.busy": "2023-01-31T13:06:20.223294Z",
     "iopub.status.idle": "2023-01-31T13:06:20.231060Z",
     "shell.execute_reply": "2023-01-31T13:06:20.230225Z"
    },
    "papermill": {
     "duration": 0.021779,
     "end_time": "2023-01-31T13:06:20.233028",
     "exception": false,
     "start_time": "2023-01-31T13:06:20.211249",
     "status": "completed"
    },
    "tags": []
   },
   "outputs": [],
   "source": [
    "from sklearn.metrics import accuracy_score, confusion_matrix, classification_report, f1_score\n",
    "\n",
    "def print_score(label, prediction, train=True):\n",
    "    if train:\n",
    "        clf_report = pd.DataFrame(classification_report(label, prediction, output_dict=True))\n",
    "        print(\"Train Result:\\n================================================\")\n",
    "        print(f\"Accuracy Score: {accuracy_score(label, prediction) * 100:.2f}%\")\n",
    "        print(\"_______________________________________________\")\n",
    "        print(f\"Classification Report:\\n{clf_report}\")\n",
    "        print(\"_______________________________________________\")\n",
    "        print(f\"Confusion Matrix: \\n {confusion_matrix(y_train, prediction)}\\n\")\n",
    "        \n",
    "    elif train==False:\n",
    "        clf_report = pd.DataFrame(classification_report(label, prediction, output_dict=True))\n",
    "        print(\"Test Result:\\n================================================\")        \n",
    "        print(f\"Accuracy Score: {accuracy_score(label, prediction) * 100:.2f}%\")\n",
    "        print(\"_______________________________________________\")\n",
    "        print(f\"Classification Report:\\n{clf_report}\")\n",
    "        print(\"_______________________________________________\")\n",
    "        print(f\"Confusion Matrix: \\n {confusion_matrix(label, prediction)}\\n\") "
   ]
  },
  {
   "cell_type": "markdown",
   "id": "682196e8",
   "metadata": {
    "papermill": {
     "duration": 0.010827,
     "end_time": "2023-01-31T13:06:20.255033",
     "exception": false,
     "start_time": "2023-01-31T13:06:20.244206",
     "status": "completed"
    },
    "tags": []
   },
   "source": [
    "# 4. Model Building\n",
    "# 4. 1. Artificial Neural Network (ANNs)"
   ]
  },
  {
   "cell_type": "code",
   "execution_count": 18,
   "id": "12b1d4d1",
   "metadata": {
    "execution": {
     "iopub.execute_input": "2023-01-31T13:06:20.279051Z",
     "iopub.status.busy": "2023-01-31T13:06:20.278148Z",
     "iopub.status.idle": "2023-01-31T13:06:27.053831Z",
     "shell.execute_reply": "2023-01-31T13:06:27.049526Z"
    },
    "papermill": {
     "duration": 6.790555,
     "end_time": "2023-01-31T13:06:27.056585",
     "exception": false,
     "start_time": "2023-01-31T13:06:20.266030",
     "status": "completed"
    },
    "tags": []
   },
   "outputs": [
    {
     "name": "stdout",
     "output_type": "stream",
     "text": [
      "Model: \"sequential\"\n",
      "_________________________________________________________________\n",
      " Layer (type)                Output Shape              Param #   \n",
      "=================================================================\n",
      " dense (Dense)               (None, 256)               7936      \n",
      "                                                                 \n",
      " batch_normalization (BatchN  (None, 256)              1024      \n",
      " ormalization)                                                   \n",
      "                                                                 \n",
      " dropout (Dropout)           (None, 256)               0         \n",
      "                                                                 \n",
      " dense_1 (Dense)             (None, 256)               65792     \n",
      "                                                                 \n",
      " batch_normalization_1 (Batc  (None, 256)              1024      \n",
      " hNormalization)                                                 \n",
      "                                                                 \n",
      " dropout_1 (Dropout)         (None, 256)               0         \n",
      "                                                                 \n",
      " dense_2 (Dense)             (None, 256)               65792     \n",
      "                                                                 \n",
      " batch_normalization_2 (Batc  (None, 256)              1024      \n",
      " hNormalization)                                                 \n",
      "                                                                 \n",
      " dropout_2 (Dropout)         (None, 256)               0         \n",
      "                                                                 \n",
      " dense_3 (Dense)             (None, 1)                 257       \n",
      "                                                                 \n",
      "=================================================================\n",
      "Total params: 142,849\n",
      "Trainable params: 141,313\n",
      "Non-trainable params: 1,536\n",
      "_________________________________________________________________\n"
     ]
    }
   ],
   "source": [
    "\n",
    "from tensorflow import keras\n",
    "\n",
    "model = keras.Sequential([\n",
    "    keras.layers.Dense(256, activation='relu', input_shape=(X_train.shape[-1],)),\n",
    "    keras.layers.BatchNormalization(),\n",
    "    keras.layers.Dropout(0.3),\n",
    "    keras.layers.Dense(256, activation='relu'),\n",
    "    keras.layers.BatchNormalization(),\n",
    "    keras.layers.Dropout(0.3),\n",
    "    keras.layers.Dense(256, activation='relu'),\n",
    "    keras.layers.BatchNormalization(),\n",
    "    keras.layers.Dropout(0.3),\n",
    "    keras.layers.Dense(1, activation='sigmoid'),\n",
    "])\n",
    "\n",
    "model.summary()"
   ]
  },
  {
   "cell_type": "code",
   "execution_count": 23,
   "id": "c063a9c9",
   "metadata": {
    "_kg_hide-output": true,
    "execution": {
     "iopub.execute_input": "2023-01-31T13:06:27.083232Z",
     "iopub.status.busy": "2023-01-31T13:06:27.082285Z",
     "iopub.status.idle": "2023-01-31T13:10:50.995174Z",
     "shell.execute_reply": "2023-01-31T13:10:50.994129Z"
    },
    "papermill": {
     "duration": 263.928975,
     "end_time": "2023-01-31T13:10:50.997935",
     "exception": false,
     "start_time": "2023-01-31T13:06:27.068960",
     "status": "completed"
    },
    "tags": []
   },
   "outputs": [
    {
     "name": "stdout",
     "output_type": "stream",
     "text": [
      "Epoch 1/300\n",
      "78/78 [==============================] - 8s 75ms/step - loss: 0.0038 - fn: 77.0000 - fp: 20.0000 - tn: 159184.0000 - tp: 210.0000 - precision: 0.9130 - recall: 0.7317 - val_loss: 0.0047 - val_fn: 17.0000 - val_fp: 8.0000 - val_tn: 39796.0000 - val_tp: 52.0000 - val_precision: 0.8667 - val_recall: 0.7536\n",
      "Epoch 2/300\n",
      "78/78 [==============================] - 5s 66ms/step - loss: 0.0042 - fn: 84.0000 - fp: 24.0000 - tn: 159180.0000 - tp: 203.0000 - precision: 0.8943 - recall: 0.7073 - val_loss: 0.0050 - val_fn: 16.0000 - val_fp: 10.0000 - val_tn: 39794.0000 - val_tp: 53.0000 - val_precision: 0.8413 - val_recall: 0.7681\n",
      "Epoch 3/300\n",
      "78/78 [==============================] - 5s 68ms/step - loss: 0.0034 - fn: 76.0000 - fp: 17.0000 - tn: 159187.0000 - tp: 211.0000 - precision: 0.9254 - recall: 0.7352 - val_loss: 0.0051 - val_fn: 16.0000 - val_fp: 10.0000 - val_tn: 39794.0000 - val_tp: 53.0000 - val_precision: 0.8413 - val_recall: 0.7681\n",
      "Epoch 4/300\n",
      "78/78 [==============================] - 5s 64ms/step - loss: 0.0036 - fn: 75.0000 - fp: 27.0000 - tn: 159177.0000 - tp: 212.0000 - precision: 0.8870 - recall: 0.7387 - val_loss: 0.0048 - val_fn: 16.0000 - val_fp: 10.0000 - val_tn: 39794.0000 - val_tp: 53.0000 - val_precision: 0.8413 - val_recall: 0.7681\n",
      "Epoch 5/300\n",
      "78/78 [==============================] - 5s 64ms/step - loss: 0.0032 - fn: 74.0000 - fp: 23.0000 - tn: 159181.0000 - tp: 213.0000 - precision: 0.9025 - recall: 0.7422 - val_loss: 0.0048 - val_fn: 17.0000 - val_fp: 9.0000 - val_tn: 39795.0000 - val_tp: 52.0000 - val_precision: 0.8525 - val_recall: 0.7536\n",
      "Epoch 6/300\n",
      "78/78 [==============================] - 5s 60ms/step - loss: 0.0032 - fn: 81.0000 - fp: 20.0000 - tn: 159184.0000 - tp: 206.0000 - precision: 0.9115 - recall: 0.7178 - val_loss: 0.0049 - val_fn: 16.0000 - val_fp: 10.0000 - val_tn: 39794.0000 - val_tp: 53.0000 - val_precision: 0.8413 - val_recall: 0.7681\n",
      "Epoch 7/300\n",
      "78/78 [==============================] - 5s 60ms/step - loss: 0.0031 - fn: 75.0000 - fp: 20.0000 - tn: 159184.0000 - tp: 212.0000 - precision: 0.9138 - recall: 0.7387 - val_loss: 0.0050 - val_fn: 16.0000 - val_fp: 11.0000 - val_tn: 39793.0000 - val_tp: 53.0000 - val_precision: 0.8281 - val_recall: 0.7681\n",
      "Epoch 8/300\n",
      "78/78 [==============================] - 5s 64ms/step - loss: 0.0037 - fn: 76.0000 - fp: 33.0000 - tn: 159171.0000 - tp: 211.0000 - precision: 0.8648 - recall: 0.7352 - val_loss: 0.0051 - val_fn: 16.0000 - val_fp: 10.0000 - val_tn: 39794.0000 - val_tp: 53.0000 - val_precision: 0.8413 - val_recall: 0.7681\n",
      "Epoch 9/300\n",
      "78/78 [==============================] - 5s 62ms/step - loss: 0.0034 - fn: 77.0000 - fp: 20.0000 - tn: 159184.0000 - tp: 210.0000 - precision: 0.9130 - recall: 0.7317 - val_loss: 0.0051 - val_fn: 17.0000 - val_fp: 9.0000 - val_tn: 39795.0000 - val_tp: 52.0000 - val_precision: 0.8525 - val_recall: 0.7536\n",
      "Epoch 10/300\n",
      "78/78 [==============================] - 5s 65ms/step - loss: 0.0029 - fn: 69.0000 - fp: 16.0000 - tn: 159188.0000 - tp: 218.0000 - precision: 0.9316 - recall: 0.7596 - val_loss: 0.0050 - val_fn: 17.0000 - val_fp: 8.0000 - val_tn: 39796.0000 - val_tp: 52.0000 - val_precision: 0.8667 - val_recall: 0.7536\n",
      "Epoch 11/300\n",
      "78/78 [==============================] - 5s 62ms/step - loss: 0.0032 - fn: 69.0000 - fp: 22.0000 - tn: 159182.0000 - tp: 218.0000 - precision: 0.9083 - recall: 0.7596 - val_loss: 0.0050 - val_fn: 16.0000 - val_fp: 7.0000 - val_tn: 39797.0000 - val_tp: 53.0000 - val_precision: 0.8833 - val_recall: 0.7681\n",
      "Epoch 12/300\n",
      "78/78 [==============================] - 5s 68ms/step - loss: 0.0031 - fn: 69.0000 - fp: 19.0000 - tn: 159185.0000 - tp: 218.0000 - precision: 0.9198 - recall: 0.7596 - val_loss: 0.0051 - val_fn: 16.0000 - val_fp: 8.0000 - val_tn: 39796.0000 - val_tp: 53.0000 - val_precision: 0.8689 - val_recall: 0.7681\n",
      "Epoch 13/300\n",
      "78/78 [==============================] - 5s 63ms/step - loss: 0.0031 - fn: 75.0000 - fp: 22.0000 - tn: 159182.0000 - tp: 212.0000 - precision: 0.9060 - recall: 0.7387 - val_loss: 0.0053 - val_fn: 13.0000 - val_fp: 10.0000 - val_tn: 39794.0000 - val_tp: 56.0000 - val_precision: 0.8485 - val_recall: 0.8116\n",
      "Epoch 14/300\n",
      "78/78 [==============================] - 5s 67ms/step - loss: 0.0034 - fn: 66.0000 - fp: 25.0000 - tn: 159179.0000 - tp: 221.0000 - precision: 0.8984 - recall: 0.7700 - val_loss: 0.0051 - val_fn: 16.0000 - val_fp: 9.0000 - val_tn: 39795.0000 - val_tp: 53.0000 - val_precision: 0.8548 - val_recall: 0.7681\n",
      "Epoch 15/300\n",
      "78/78 [==============================] - 5s 64ms/step - loss: 0.0033 - fn: 74.0000 - fp: 25.0000 - tn: 159179.0000 - tp: 213.0000 - precision: 0.8950 - recall: 0.7422 - val_loss: 0.0051 - val_fn: 16.0000 - val_fp: 8.0000 - val_tn: 39796.0000 - val_tp: 53.0000 - val_precision: 0.8689 - val_recall: 0.7681\n",
      "Epoch 16/300\n",
      "78/78 [==============================] - 5s 63ms/step - loss: 0.0031 - fn: 74.0000 - fp: 20.0000 - tn: 159184.0000 - tp: 213.0000 - precision: 0.9142 - recall: 0.7422 - val_loss: 0.0051 - val_fn: 16.0000 - val_fp: 9.0000 - val_tn: 39795.0000 - val_tp: 53.0000 - val_precision: 0.8548 - val_recall: 0.7681\n",
      "Epoch 17/300\n",
      "78/78 [==============================] - 5s 67ms/step - loss: 0.0029 - fn: 68.0000 - fp: 19.0000 - tn: 159185.0000 - tp: 219.0000 - precision: 0.9202 - recall: 0.7631 - val_loss: 0.0050 - val_fn: 17.0000 - val_fp: 7.0000 - val_tn: 39797.0000 - val_tp: 52.0000 - val_precision: 0.8814 - val_recall: 0.7536\n",
      "Epoch 18/300\n",
      "78/78 [==============================] - 5s 63ms/step - loss: 0.0028 - fn: 70.0000 - fp: 18.0000 - tn: 159186.0000 - tp: 217.0000 - precision: 0.9234 - recall: 0.7561 - val_loss: 0.0052 - val_fn: 16.0000 - val_fp: 10.0000 - val_tn: 39794.0000 - val_tp: 53.0000 - val_precision: 0.8413 - val_recall: 0.7681\n",
      "Epoch 19/300\n",
      "78/78 [==============================] - 5s 61ms/step - loss: 0.0026 - fn: 67.0000 - fp: 16.0000 - tn: 159188.0000 - tp: 220.0000 - precision: 0.9322 - recall: 0.7666 - val_loss: 0.0052 - val_fn: 15.0000 - val_fp: 10.0000 - val_tn: 39794.0000 - val_tp: 54.0000 - val_precision: 0.8438 - val_recall: 0.7826\n",
      "Epoch 20/300\n",
      "78/78 [==============================] - 5s 64ms/step - loss: 0.0029 - fn: 69.0000 - fp: 15.0000 - tn: 159189.0000 - tp: 218.0000 - precision: 0.9356 - recall: 0.7596 - val_loss: 0.0049 - val_fn: 16.0000 - val_fp: 7.0000 - val_tn: 39797.0000 - val_tp: 53.0000 - val_precision: 0.8833 - val_recall: 0.7681\n",
      "Epoch 21/300\n",
      "78/78 [==============================] - 5s 59ms/step - loss: 0.0027 - fn: 70.0000 - fp: 16.0000 - tn: 159188.0000 - tp: 217.0000 - precision: 0.9313 - recall: 0.7561 - val_loss: 0.0050 - val_fn: 16.0000 - val_fp: 9.0000 - val_tn: 39795.0000 - val_tp: 53.0000 - val_precision: 0.8548 - val_recall: 0.7681\n",
      "Epoch 22/300\n",
      "78/78 [==============================] - 5s 64ms/step - loss: 0.0027 - fn: 67.0000 - fp: 20.0000 - tn: 159184.0000 - tp: 220.0000 - precision: 0.9167 - recall: 0.7666 - val_loss: 0.0050 - val_fn: 16.0000 - val_fp: 9.0000 - val_tn: 39795.0000 - val_tp: 53.0000 - val_precision: 0.8548 - val_recall: 0.7681\n",
      "Epoch 23/300\n",
      "78/78 [==============================] - 5s 61ms/step - loss: 0.0028 - fn: 70.0000 - fp: 26.0000 - tn: 159178.0000 - tp: 217.0000 - precision: 0.8930 - recall: 0.7561 - val_loss: 0.0051 - val_fn: 17.0000 - val_fp: 9.0000 - val_tn: 39795.0000 - val_tp: 52.0000 - val_precision: 0.8525 - val_recall: 0.7536\n",
      "Epoch 24/300\n",
      "78/78 [==============================] - 5s 63ms/step - loss: 0.0028 - fn: 78.0000 - fp: 19.0000 - tn: 159185.0000 - tp: 209.0000 - precision: 0.9167 - recall: 0.7282 - val_loss: 0.0053 - val_fn: 13.0000 - val_fp: 10.0000 - val_tn: 39794.0000 - val_tp: 56.0000 - val_precision: 0.8485 - val_recall: 0.8116\n",
      "Epoch 25/300\n",
      "78/78 [==============================] - 5s 62ms/step - loss: 0.0029 - fn: 65.0000 - fp: 19.0000 - tn: 159185.0000 - tp: 222.0000 - precision: 0.9212 - recall: 0.7735 - val_loss: 0.0048 - val_fn: 17.0000 - val_fp: 7.0000 - val_tn: 39797.0000 - val_tp: 52.0000 - val_precision: 0.8814 - val_recall: 0.7536\n",
      "Epoch 26/300\n",
      "78/78 [==============================] - 5s 62ms/step - loss: 0.0027 - fn: 69.0000 - fp: 19.0000 - tn: 159185.0000 - tp: 218.0000 - precision: 0.9198 - recall: 0.7596 - val_loss: 0.0049 - val_fn: 15.0000 - val_fp: 9.0000 - val_tn: 39795.0000 - val_tp: 54.0000 - val_precision: 0.8571 - val_recall: 0.7826\n"
     ]
    },
    {
     "name": "stdout",
     "output_type": "stream",
     "text": [
      "Epoch 27/300\n",
      "78/78 [==============================] - 5s 70ms/step - loss: 0.0026 - fn: 66.0000 - fp: 21.0000 - tn: 159183.0000 - tp: 221.0000 - precision: 0.9132 - recall: 0.7700 - val_loss: 0.0047 - val_fn: 17.0000 - val_fp: 8.0000 - val_tn: 39796.0000 - val_tp: 52.0000 - val_precision: 0.8667 - val_recall: 0.7536\n",
      "Epoch 28/300\n",
      "78/78 [==============================] - 5s 67ms/step - loss: 0.0028 - fn: 73.0000 - fp: 21.0000 - tn: 159183.0000 - tp: 214.0000 - precision: 0.9106 - recall: 0.7456 - val_loss: 0.0047 - val_fn: 17.0000 - val_fp: 7.0000 - val_tn: 39797.0000 - val_tp: 52.0000 - val_precision: 0.8814 - val_recall: 0.7536\n",
      "Epoch 29/300\n",
      "78/78 [==============================] - 5s 68ms/step - loss: 0.0024 - fn: 68.0000 - fp: 15.0000 - tn: 159189.0000 - tp: 219.0000 - precision: 0.9359 - recall: 0.7631 - val_loss: 0.0048 - val_fn: 16.0000 - val_fp: 9.0000 - val_tn: 39795.0000 - val_tp: 53.0000 - val_precision: 0.8548 - val_recall: 0.7681\n",
      "Epoch 30/300\n",
      "78/78 [==============================] - 5s 59ms/step - loss: 0.0026 - fn: 64.0000 - fp: 20.0000 - tn: 159184.0000 - tp: 223.0000 - precision: 0.9177 - recall: 0.7770 - val_loss: 0.0048 - val_fn: 15.0000 - val_fp: 8.0000 - val_tn: 39796.0000 - val_tp: 54.0000 - val_precision: 0.8710 - val_recall: 0.7826\n",
      "Epoch 31/300\n",
      "78/78 [==============================] - 4s 56ms/step - loss: 0.0025 - fn: 66.0000 - fp: 19.0000 - tn: 159185.0000 - tp: 221.0000 - precision: 0.9208 - recall: 0.7700 - val_loss: 0.0047 - val_fn: 17.0000 - val_fp: 8.0000 - val_tn: 39796.0000 - val_tp: 52.0000 - val_precision: 0.8667 - val_recall: 0.7536\n",
      "Epoch 32/300\n",
      "78/78 [==============================] - 4s 54ms/step - loss: 0.0026 - fn: 72.0000 - fp: 19.0000 - tn: 159185.0000 - tp: 215.0000 - precision: 0.9188 - recall: 0.7491 - val_loss: 0.0048 - val_fn: 13.0000 - val_fp: 9.0000 - val_tn: 39795.0000 - val_tp: 56.0000 - val_precision: 0.8615 - val_recall: 0.8116\n",
      "Epoch 33/300\n",
      "78/78 [==============================] - 4s 55ms/step - loss: 0.0025 - fn: 63.0000 - fp: 20.0000 - tn: 159184.0000 - tp: 224.0000 - precision: 0.9180 - recall: 0.7805 - val_loss: 0.0050 - val_fn: 16.0000 - val_fp: 9.0000 - val_tn: 39795.0000 - val_tp: 53.0000 - val_precision: 0.8548 - val_recall: 0.7681\n",
      "Epoch 34/300\n",
      "78/78 [==============================] - 4s 57ms/step - loss: 0.0026 - fn: 64.0000 - fp: 17.0000 - tn: 159187.0000 - tp: 223.0000 - precision: 0.9292 - recall: 0.7770 - val_loss: 0.0049 - val_fn: 16.0000 - val_fp: 9.0000 - val_tn: 39795.0000 - val_tp: 53.0000 - val_precision: 0.8548 - val_recall: 0.7681\n",
      "Epoch 35/300\n",
      "78/78 [==============================] - 4s 57ms/step - loss: 0.0024 - fn: 62.0000 - fp: 17.0000 - tn: 159187.0000 - tp: 225.0000 - precision: 0.9298 - recall: 0.7840 - val_loss: 0.0049 - val_fn: 15.0000 - val_fp: 9.0000 - val_tn: 39795.0000 - val_tp: 54.0000 - val_precision: 0.8571 - val_recall: 0.7826\n",
      "Epoch 36/300\n",
      "78/78 [==============================] - 5s 59ms/step - loss: 0.0025 - fn: 60.0000 - fp: 15.0000 - tn: 159189.0000 - tp: 227.0000 - precision: 0.9380 - recall: 0.7909 - val_loss: 0.0049 - val_fn: 16.0000 - val_fp: 9.0000 - val_tn: 39795.0000 - val_tp: 53.0000 - val_precision: 0.8548 - val_recall: 0.7681\n",
      "Epoch 37/300\n",
      "78/78 [==============================] - 5s 63ms/step - loss: 0.0026 - fn: 67.0000 - fp: 21.0000 - tn: 159183.0000 - tp: 220.0000 - precision: 0.9129 - recall: 0.7666 - val_loss: 0.0047 - val_fn: 17.0000 - val_fp: 8.0000 - val_tn: 39796.0000 - val_tp: 52.0000 - val_precision: 0.8667 - val_recall: 0.7536\n",
      "Epoch 38/300\n",
      "78/78 [==============================] - 4s 55ms/step - loss: 0.0024 - fn: 64.0000 - fp: 14.0000 - tn: 159190.0000 - tp: 223.0000 - precision: 0.9409 - recall: 0.7770 - val_loss: 0.0047 - val_fn: 16.0000 - val_fp: 8.0000 - val_tn: 39796.0000 - val_tp: 53.0000 - val_precision: 0.8689 - val_recall: 0.7681\n",
      "Epoch 39/300\n",
      "78/78 [==============================] - 4s 55ms/step - loss: 0.0026 - fn: 66.0000 - fp: 18.0000 - tn: 159186.0000 - tp: 221.0000 - precision: 0.9247 - recall: 0.7700 - val_loss: 0.0048 - val_fn: 16.0000 - val_fp: 8.0000 - val_tn: 39796.0000 - val_tp: 53.0000 - val_precision: 0.8689 - val_recall: 0.7681\n",
      "Epoch 40/300\n",
      "78/78 [==============================] - 4s 56ms/step - loss: 0.0022 - fn: 62.0000 - fp: 22.0000 - tn: 159182.0000 - tp: 225.0000 - precision: 0.9109 - recall: 0.7840 - val_loss: 0.0047 - val_fn: 17.0000 - val_fp: 6.0000 - val_tn: 39798.0000 - val_tp: 52.0000 - val_precision: 0.8966 - val_recall: 0.7536\n",
      "Epoch 41/300\n",
      "78/78 [==============================] - 5s 58ms/step - loss: 0.0021 - fn: 63.0000 - fp: 14.0000 - tn: 159190.0000 - tp: 224.0000 - precision: 0.9412 - recall: 0.7805 - val_loss: 0.0048 - val_fn: 16.0000 - val_fp: 9.0000 - val_tn: 39795.0000 - val_tp: 53.0000 - val_precision: 0.8548 - val_recall: 0.7681\n",
      "Epoch 42/300\n",
      "78/78 [==============================] - 5s 58ms/step - loss: 0.0025 - fn: 64.0000 - fp: 19.0000 - tn: 159185.0000 - tp: 223.0000 - precision: 0.9215 - recall: 0.7770 - val_loss: 0.0048 - val_fn: 17.0000 - val_fp: 6.0000 - val_tn: 39798.0000 - val_tp: 52.0000 - val_precision: 0.8966 - val_recall: 0.7536\n",
      "Epoch 43/300\n",
      "78/78 [==============================] - 5s 61ms/step - loss: 0.0024 - fn: 61.0000 - fp: 20.0000 - tn: 159184.0000 - tp: 226.0000 - precision: 0.9187 - recall: 0.7875 - val_loss: 0.0047 - val_fn: 16.0000 - val_fp: 8.0000 - val_tn: 39796.0000 - val_tp: 53.0000 - val_precision: 0.8689 - val_recall: 0.7681\n",
      "Epoch 44/300\n",
      "78/78 [==============================] - 5s 62ms/step - loss: 0.0021 - fn: 59.0000 - fp: 16.0000 - tn: 159188.0000 - tp: 228.0000 - precision: 0.9344 - recall: 0.7944 - val_loss: 0.0048 - val_fn: 15.0000 - val_fp: 8.0000 - val_tn: 39796.0000 - val_tp: 54.0000 - val_precision: 0.8710 - val_recall: 0.7826\n",
      "Epoch 45/300\n",
      "78/78 [==============================] - 5s 65ms/step - loss: 0.0022 - fn: 65.0000 - fp: 21.0000 - tn: 159183.0000 - tp: 222.0000 - precision: 0.9136 - recall: 0.7735 - val_loss: 0.0048 - val_fn: 16.0000 - val_fp: 8.0000 - val_tn: 39796.0000 - val_tp: 53.0000 - val_precision: 0.8689 - val_recall: 0.7681\n",
      "Epoch 46/300\n",
      "78/78 [==============================] - 5s 61ms/step - loss: 0.0023 - fn: 62.0000 - fp: 17.0000 - tn: 159187.0000 - tp: 225.0000 - precision: 0.9298 - recall: 0.7840 - val_loss: 0.0048 - val_fn: 17.0000 - val_fp: 7.0000 - val_tn: 39797.0000 - val_tp: 52.0000 - val_precision: 0.8814 - val_recall: 0.7536\n",
      "Epoch 47/300\n",
      "78/78 [==============================] - 5s 60ms/step - loss: 0.0022 - fn: 61.0000 - fp: 15.0000 - tn: 159189.0000 - tp: 226.0000 - precision: 0.9378 - recall: 0.7875 - val_loss: 0.0050 - val_fn: 13.0000 - val_fp: 9.0000 - val_tn: 39795.0000 - val_tp: 56.0000 - val_precision: 0.8615 - val_recall: 0.8116\n",
      "Epoch 48/300\n",
      "78/78 [==============================] - 5s 58ms/step - loss: 0.0026 - fn: 64.0000 - fp: 21.0000 - tn: 159183.0000 - tp: 223.0000 - precision: 0.9139 - recall: 0.7770 - val_loss: 0.0049 - val_fn: 15.0000 - val_fp: 8.0000 - val_tn: 39796.0000 - val_tp: 54.0000 - val_precision: 0.8710 - val_recall: 0.7826\n",
      "Epoch 49/300\n",
      "78/78 [==============================] - 5s 64ms/step - loss: 0.0022 - fn: 59.0000 - fp: 16.0000 - tn: 159188.0000 - tp: 228.0000 - precision: 0.9344 - recall: 0.7944 - val_loss: 0.0049 - val_fn: 13.0000 - val_fp: 8.0000 - val_tn: 39796.0000 - val_tp: 56.0000 - val_precision: 0.8750 - val_recall: 0.8116\n",
      "Epoch 50/300\n",
      "78/78 [==============================] - 5s 62ms/step - loss: 0.0024 - fn: 57.0000 - fp: 17.0000 - tn: 159187.0000 - tp: 230.0000 - precision: 0.9312 - recall: 0.8014 - val_loss: 0.0049 - val_fn: 16.0000 - val_fp: 7.0000 - val_tn: 39797.0000 - val_tp: 53.0000 - val_precision: 0.8833 - val_recall: 0.7681\n",
      "Epoch 51/300\n",
      "78/78 [==============================] - 4s 56ms/step - loss: 0.0020 - fn: 57.0000 - fp: 10.0000 - tn: 159194.0000 - tp: 230.0000 - precision: 0.9583 - recall: 0.8014 - val_loss: 0.0049 - val_fn: 13.0000 - val_fp: 8.0000 - val_tn: 39796.0000 - val_tp: 56.0000 - val_precision: 0.8750 - val_recall: 0.8116\n",
      "Epoch 52/300\n",
      "78/78 [==============================] - 4s 55ms/step - loss: 0.0019 - fn: 51.0000 - fp: 15.0000 - tn: 159189.0000 - tp: 236.0000 - precision: 0.9402 - recall: 0.8223 - val_loss: 0.0048 - val_fn: 16.0000 - val_fp: 7.0000 - val_tn: 39797.0000 - val_tp: 53.0000 - val_precision: 0.8833 - val_recall: 0.7681\n"
     ]
    },
    {
     "name": "stdout",
     "output_type": "stream",
     "text": [
      "Epoch 53/300\n",
      "78/78 [==============================] - 4s 56ms/step - loss: 0.0021 - fn: 57.0000 - fp: 19.0000 - tn: 159185.0000 - tp: 230.0000 - precision: 0.9237 - recall: 0.8014 - val_loss: 0.0047 - val_fn: 13.0000 - val_fp: 9.0000 - val_tn: 39795.0000 - val_tp: 56.0000 - val_precision: 0.8615 - val_recall: 0.8116\n",
      "Epoch 54/300\n",
      "78/78 [==============================] - 5s 58ms/step - loss: 0.0023 - fn: 59.0000 - fp: 15.0000 - tn: 159189.0000 - tp: 228.0000 - precision: 0.9383 - recall: 0.7944 - val_loss: 0.0048 - val_fn: 15.0000 - val_fp: 7.0000 - val_tn: 39797.0000 - val_tp: 54.0000 - val_precision: 0.8852 - val_recall: 0.7826\n",
      "Epoch 55/300\n",
      "78/78 [==============================] - 4s 53ms/step - loss: 0.0020 - fn: 60.0000 - fp: 17.0000 - tn: 159187.0000 - tp: 227.0000 - precision: 0.9303 - recall: 0.7909 - val_loss: 0.0049 - val_fn: 14.0000 - val_fp: 9.0000 - val_tn: 39795.0000 - val_tp: 55.0000 - val_precision: 0.8594 - val_recall: 0.7971\n",
      "Epoch 56/300\n",
      "78/78 [==============================] - 4s 54ms/step - loss: 0.0021 - fn: 63.0000 - fp: 19.0000 - tn: 159185.0000 - tp: 224.0000 - precision: 0.9218 - recall: 0.7805 - val_loss: 0.0048 - val_fn: 16.0000 - val_fp: 7.0000 - val_tn: 39797.0000 - val_tp: 53.0000 - val_precision: 0.8833 - val_recall: 0.7681\n",
      "Epoch 57/300\n",
      "78/78 [==============================] - 4s 54ms/step - loss: 0.0023 - fn: 63.0000 - fp: 16.0000 - tn: 159188.0000 - tp: 224.0000 - precision: 0.9333 - recall: 0.7805 - val_loss: 0.0048 - val_fn: 13.0000 - val_fp: 9.0000 - val_tn: 39795.0000 - val_tp: 56.0000 - val_precision: 0.8615 - val_recall: 0.8116\n",
      "Epoch 58/300\n",
      "78/78 [==============================] - 4s 56ms/step - loss: 0.0021 - fn: 54.0000 - fp: 21.0000 - tn: 159183.0000 - tp: 233.0000 - precision: 0.9173 - recall: 0.8118 - val_loss: 0.0047 - val_fn: 16.0000 - val_fp: 7.0000 - val_tn: 39797.0000 - val_tp: 53.0000 - val_precision: 0.8833 - val_recall: 0.7681\n",
      "Epoch 59/300\n",
      "78/78 [==============================] - 4s 55ms/step - loss: 0.0022 - fn: 54.0000 - fp: 17.0000 - tn: 159187.0000 - tp: 233.0000 - precision: 0.9320 - recall: 0.8118 - val_loss: 0.0049 - val_fn: 15.0000 - val_fp: 7.0000 - val_tn: 39797.0000 - val_tp: 54.0000 - val_precision: 0.8852 - val_recall: 0.7826\n",
      "Epoch 60/300\n",
      "78/78 [==============================] - 4s 56ms/step - loss: 0.0021 - fn: 66.0000 - fp: 16.0000 - tn: 159188.0000 - tp: 221.0000 - precision: 0.9325 - recall: 0.7700 - val_loss: 0.0047 - val_fn: 16.0000 - val_fp: 7.0000 - val_tn: 39797.0000 - val_tp: 53.0000 - val_precision: 0.8833 - val_recall: 0.7681\n",
      "Epoch 61/300\n",
      "78/78 [==============================] - 4s 56ms/step - loss: 0.0020 - fn: 56.0000 - fp: 18.0000 - tn: 159186.0000 - tp: 231.0000 - precision: 0.9277 - recall: 0.8049 - val_loss: 0.0047 - val_fn: 15.0000 - val_fp: 7.0000 - val_tn: 39797.0000 - val_tp: 54.0000 - val_precision: 0.8852 - val_recall: 0.7826\n",
      "Epoch 62/300\n",
      "78/78 [==============================] - 4s 55ms/step - loss: 0.0019 - fn: 55.0000 - fp: 13.0000 - tn: 159191.0000 - tp: 232.0000 - precision: 0.9469 - recall: 0.8084 - val_loss: 0.0049 - val_fn: 15.0000 - val_fp: 8.0000 - val_tn: 39796.0000 - val_tp: 54.0000 - val_precision: 0.8710 - val_recall: 0.7826\n",
      "Epoch 63/300\n",
      "78/78 [==============================] - 4s 55ms/step - loss: 0.0018 - fn: 55.0000 - fp: 14.0000 - tn: 159190.0000 - tp: 232.0000 - precision: 0.9431 - recall: 0.8084 - val_loss: 0.0051 - val_fn: 13.0000 - val_fp: 9.0000 - val_tn: 39795.0000 - val_tp: 56.0000 - val_precision: 0.8615 - val_recall: 0.8116\n",
      "Epoch 64/300\n",
      "78/78 [==============================] - 4s 56ms/step - loss: 0.0019 - fn: 54.0000 - fp: 19.0000 - tn: 159185.0000 - tp: 233.0000 - precision: 0.9246 - recall: 0.8118 - val_loss: 0.0050 - val_fn: 14.0000 - val_fp: 8.0000 - val_tn: 39796.0000 - val_tp: 55.0000 - val_precision: 0.8730 - val_recall: 0.7971\n",
      "Epoch 65/300\n",
      "78/78 [==============================] - 4s 55ms/step - loss: 0.0020 - fn: 56.0000 - fp: 15.0000 - tn: 159189.0000 - tp: 231.0000 - precision: 0.9390 - recall: 0.8049 - val_loss: 0.0050 - val_fn: 15.0000 - val_fp: 8.0000 - val_tn: 39796.0000 - val_tp: 54.0000 - val_precision: 0.8710 - val_recall: 0.7826\n",
      "Epoch 66/300\n",
      "78/78 [==============================] - 4s 54ms/step - loss: 0.0019 - fn: 53.0000 - fp: 16.0000 - tn: 159188.0000 - tp: 234.0000 - precision: 0.9360 - recall: 0.8153 - val_loss: 0.0051 - val_fn: 13.0000 - val_fp: 9.0000 - val_tn: 39795.0000 - val_tp: 56.0000 - val_precision: 0.8615 - val_recall: 0.8116\n",
      "Epoch 67/300\n",
      "78/78 [==============================] - 6s 80ms/step - loss: 0.0019 - fn: 49.0000 - fp: 17.0000 - tn: 159187.0000 - tp: 238.0000 - precision: 0.9333 - recall: 0.8293 - val_loss: 0.0049 - val_fn: 16.0000 - val_fp: 6.0000 - val_tn: 39798.0000 - val_tp: 53.0000 - val_precision: 0.8983 - val_recall: 0.7681\n",
      "Epoch 68/300\n",
      "78/78 [==============================] - 5s 67ms/step - loss: 0.0021 - fn: 59.0000 - fp: 18.0000 - tn: 159186.0000 - tp: 228.0000 - precision: 0.9268 - recall: 0.7944 - val_loss: 0.0048 - val_fn: 15.0000 - val_fp: 6.0000 - val_tn: 39798.0000 - val_tp: 54.0000 - val_precision: 0.9000 - val_recall: 0.7826\n",
      "Epoch 69/300\n",
      "78/78 [==============================] - 5s 66ms/step - loss: 0.0018 - fn: 56.0000 - fp: 8.0000 - tn: 159196.0000 - tp: 231.0000 - precision: 0.9665 - recall: 0.8049 - val_loss: 0.0050 - val_fn: 15.0000 - val_fp: 7.0000 - val_tn: 39797.0000 - val_tp: 54.0000 - val_precision: 0.8852 - val_recall: 0.7826\n",
      "Epoch 70/300\n",
      "78/78 [==============================] - 6s 73ms/step - loss: 0.0018 - fn: 53.0000 - fp: 15.0000 - tn: 159189.0000 - tp: 234.0000 - precision: 0.9398 - recall: 0.8153 - val_loss: 0.0051 - val_fn: 13.0000 - val_fp: 9.0000 - val_tn: 39795.0000 - val_tp: 56.0000 - val_precision: 0.8615 - val_recall: 0.8116\n",
      "Epoch 71/300\n",
      "78/78 [==============================] - 5s 58ms/step - loss: 0.0020 - fn: 50.0000 - fp: 16.0000 - tn: 159188.0000 - tp: 237.0000 - precision: 0.9368 - recall: 0.8258 - val_loss: 0.0050 - val_fn: 15.0000 - val_fp: 7.0000 - val_tn: 39797.0000 - val_tp: 54.0000 - val_precision: 0.8852 - val_recall: 0.7826\n",
      "Epoch 72/300\n",
      "78/78 [==============================] - 5s 58ms/step - loss: 0.0018 - fn: 55.0000 - fp: 10.0000 - tn: 159194.0000 - tp: 232.0000 - precision: 0.9587 - recall: 0.8084 - val_loss: 0.0050 - val_fn: 13.0000 - val_fp: 9.0000 - val_tn: 39795.0000 - val_tp: 56.0000 - val_precision: 0.8615 - val_recall: 0.8116\n",
      "Epoch 73/300\n",
      "78/78 [==============================] - 5s 59ms/step - loss: 0.0020 - fn: 49.0000 - fp: 19.0000 - tn: 159185.0000 - tp: 238.0000 - precision: 0.9261 - recall: 0.8293 - val_loss: 0.0049 - val_fn: 14.0000 - val_fp: 7.0000 - val_tn: 39797.0000 - val_tp: 55.0000 - val_precision: 0.8871 - val_recall: 0.7971\n",
      "Epoch 74/300\n",
      "78/78 [==============================] - 5s 59ms/step - loss: 0.0020 - fn: 53.0000 - fp: 16.0000 - tn: 159188.0000 - tp: 234.0000 - precision: 0.9360 - recall: 0.8153 - val_loss: 0.0048 - val_fn: 14.0000 - val_fp: 7.0000 - val_tn: 39797.0000 - val_tp: 55.0000 - val_precision: 0.8871 - val_recall: 0.7971\n",
      "Epoch 75/300\n",
      "78/78 [==============================] - 5s 63ms/step - loss: 0.0017 - fn: 52.0000 - fp: 5.0000 - tn: 159199.0000 - tp: 235.0000 - precision: 0.9792 - recall: 0.8188 - val_loss: 0.0051 - val_fn: 13.0000 - val_fp: 7.0000 - val_tn: 39797.0000 - val_tp: 56.0000 - val_precision: 0.8889 - val_recall: 0.8116\n",
      "Epoch 76/300\n",
      "78/78 [==============================] - 5s 59ms/step - loss: 0.0015 - fn: 46.0000 - fp: 14.0000 - tn: 159190.0000 - tp: 241.0000 - precision: 0.9451 - recall: 0.8397 - val_loss: 0.0051 - val_fn: 13.0000 - val_fp: 7.0000 - val_tn: 39797.0000 - val_tp: 56.0000 - val_precision: 0.8889 - val_recall: 0.8116\n",
      "Epoch 77/300\n",
      "78/78 [==============================] - 5s 60ms/step - loss: 0.0020 - fn: 58.0000 - fp: 13.0000 - tn: 159191.0000 - tp: 229.0000 - precision: 0.9463 - recall: 0.7979 - val_loss: 0.0051 - val_fn: 13.0000 - val_fp: 9.0000 - val_tn: 39795.0000 - val_tp: 56.0000 - val_precision: 0.8615 - val_recall: 0.8116\n",
      "Epoch 78/300\n",
      "78/78 [==============================] - 5s 58ms/step - loss: 0.0018 - fn: 53.0000 - fp: 17.0000 - tn: 159187.0000 - tp: 234.0000 - precision: 0.9323 - recall: 0.8153 - val_loss: 0.0051 - val_fn: 13.0000 - val_fp: 8.0000 - val_tn: 39796.0000 - val_tp: 56.0000 - val_precision: 0.8750 - val_recall: 0.8116\n"
     ]
    },
    {
     "name": "stdout",
     "output_type": "stream",
     "text": [
      "Epoch 79/300\n",
      "78/78 [==============================] - 5s 59ms/step - loss: 0.0017 - fn: 50.0000 - fp: 16.0000 - tn: 159188.0000 - tp: 237.0000 - precision: 0.9368 - recall: 0.8258 - val_loss: 0.0055 - val_fn: 13.0000 - val_fp: 8.0000 - val_tn: 39796.0000 - val_tp: 56.0000 - val_precision: 0.8750 - val_recall: 0.8116\n",
      "Epoch 80/300\n",
      "78/78 [==============================] - 4s 55ms/step - loss: 0.0018 - fn: 50.0000 - fp: 14.0000 - tn: 159190.0000 - tp: 237.0000 - precision: 0.9442 - recall: 0.8258 - val_loss: 0.0054 - val_fn: 13.0000 - val_fp: 9.0000 - val_tn: 39795.0000 - val_tp: 56.0000 - val_precision: 0.8615 - val_recall: 0.8116\n",
      "Epoch 81/300\n",
      "78/78 [==============================] - 9s 113ms/step - loss: 0.0019 - fn: 52.0000 - fp: 17.0000 - tn: 159187.0000 - tp: 235.0000 - precision: 0.9325 - recall: 0.8188 - val_loss: 0.0053 - val_fn: 13.0000 - val_fp: 9.0000 - val_tn: 39795.0000 - val_tp: 56.0000 - val_precision: 0.8615 - val_recall: 0.8116\n",
      "Epoch 82/300\n",
      "78/78 [==============================] - 12s 160ms/step - loss: 0.0017 - fn: 54.0000 - fp: 16.0000 - tn: 159188.0000 - tp: 233.0000 - precision: 0.9357 - recall: 0.8118 - val_loss: 0.0054 - val_fn: 13.0000 - val_fp: 9.0000 - val_tn: 39795.0000 - val_tp: 56.0000 - val_precision: 0.8615 - val_recall: 0.8116\n",
      "Epoch 83/300\n",
      "78/78 [==============================] - 13s 160ms/step - loss: 0.0017 - fn: 47.0000 - fp: 14.0000 - tn: 159190.0000 - tp: 240.0000 - precision: 0.9449 - recall: 0.8362 - val_loss: 0.0051 - val_fn: 14.0000 - val_fp: 8.0000 - val_tn: 39796.0000 - val_tp: 55.0000 - val_precision: 0.8730 - val_recall: 0.7971\n",
      "Epoch 84/300\n",
      "78/78 [==============================] - 13s 162ms/step - loss: 0.0020 - fn: 54.0000 - fp: 20.0000 - tn: 159184.0000 - tp: 233.0000 - precision: 0.9209 - recall: 0.8118 - val_loss: 0.0050 - val_fn: 14.0000 - val_fp: 7.0000 - val_tn: 39797.0000 - val_tp: 55.0000 - val_precision: 0.8871 - val_recall: 0.7971\n",
      "Epoch 85/300\n",
      "78/78 [==============================] - 12s 151ms/step - loss: 0.0019 - fn: 50.0000 - fp: 16.0000 - tn: 159188.0000 - tp: 237.0000 - precision: 0.9368 - recall: 0.8258 - val_loss: 0.0054 - val_fn: 14.0000 - val_fp: 8.0000 - val_tn: 39796.0000 - val_tp: 55.0000 - val_precision: 0.8730 - val_recall: 0.7971\n",
      "Epoch 86/300\n",
      "78/78 [==============================] - 5s 64ms/step - loss: 0.0017 - fn: 56.0000 - fp: 12.0000 - tn: 159192.0000 - tp: 231.0000 - precision: 0.9506 - recall: 0.8049 - val_loss: 0.0055 - val_fn: 13.0000 - val_fp: 9.0000 - val_tn: 39795.0000 - val_tp: 56.0000 - val_precision: 0.8615 - val_recall: 0.8116\n",
      "Epoch 87/300\n",
      "78/78 [==============================] - 12s 158ms/step - loss: 0.0018 - fn: 50.0000 - fp: 13.0000 - tn: 159191.0000 - tp: 237.0000 - precision: 0.9480 - recall: 0.8258 - val_loss: 0.0051 - val_fn: 13.0000 - val_fp: 9.0000 - val_tn: 39795.0000 - val_tp: 56.0000 - val_precision: 0.8615 - val_recall: 0.8116\n",
      "Epoch 88/300\n",
      "78/78 [==============================] - 14s 179ms/step - loss: 0.0016 - fn: 48.0000 - fp: 12.0000 - tn: 159192.0000 - tp: 239.0000 - precision: 0.9522 - recall: 0.8328 - val_loss: 0.0050 - val_fn: 14.0000 - val_fp: 5.0000 - val_tn: 39799.0000 - val_tp: 55.0000 - val_precision: 0.9167 - val_recall: 0.7971\n",
      "Epoch 89/300\n",
      "78/78 [==============================] - 14s 173ms/step - loss: 0.0016 - fn: 45.0000 - fp: 15.0000 - tn: 159189.0000 - tp: 242.0000 - precision: 0.9416 - recall: 0.8432 - val_loss: 0.0051 - val_fn: 13.0000 - val_fp: 7.0000 - val_tn: 39797.0000 - val_tp: 56.0000 - val_precision: 0.8889 - val_recall: 0.8116\n",
      "Epoch 90/300\n",
      "78/78 [==============================] - 10s 126ms/step - loss: 0.0017 - fn: 53.0000 - fp: 19.0000 - tn: 159185.0000 - tp: 234.0000 - precision: 0.9249 - recall: 0.8153 - val_loss: 0.0052 - val_fn: 13.0000 - val_fp: 7.0000 - val_tn: 39797.0000 - val_tp: 56.0000 - val_precision: 0.8889 - val_recall: 0.8116\n",
      "Epoch 91/300\n",
      "78/78 [==============================] - 5s 61ms/step - loss: 0.0016 - fn: 53.0000 - fp: 13.0000 - tn: 159191.0000 - tp: 234.0000 - precision: 0.9474 - recall: 0.8153 - val_loss: 0.0052 - val_fn: 13.0000 - val_fp: 7.0000 - val_tn: 39797.0000 - val_tp: 56.0000 - val_precision: 0.8889 - val_recall: 0.8116\n",
      "Epoch 92/300\n",
      "78/78 [==============================] - 4s 56ms/step - loss: 0.0019 - fn: 56.0000 - fp: 13.0000 - tn: 159191.0000 - tp: 231.0000 - precision: 0.9467 - recall: 0.8049 - val_loss: 0.0054 - val_fn: 13.0000 - val_fp: 8.0000 - val_tn: 39796.0000 - val_tp: 56.0000 - val_precision: 0.8750 - val_recall: 0.8116\n",
      "Epoch 93/300\n",
      "78/78 [==============================] - 4s 53ms/step - loss: 0.0017 - fn: 46.0000 - fp: 13.0000 - tn: 159191.0000 - tp: 241.0000 - precision: 0.9488 - recall: 0.8397 - val_loss: 0.0054 - val_fn: 13.0000 - val_fp: 8.0000 - val_tn: 39796.0000 - val_tp: 56.0000 - val_precision: 0.8750 - val_recall: 0.8116\n",
      "Epoch 94/300\n",
      "78/78 [==============================] - 5s 61ms/step - loss: 0.0015 - fn: 42.0000 - fp: 11.0000 - tn: 159193.0000 - tp: 245.0000 - precision: 0.9570 - recall: 0.8537 - val_loss: 0.0054 - val_fn: 13.0000 - val_fp: 9.0000 - val_tn: 39795.0000 - val_tp: 56.0000 - val_precision: 0.8615 - val_recall: 0.8116\n",
      "Epoch 95/300\n",
      "78/78 [==============================] - 4s 53ms/step - loss: 0.0017 - fn: 48.0000 - fp: 15.0000 - tn: 159189.0000 - tp: 239.0000 - precision: 0.9409 - recall: 0.8328 - val_loss: 0.0054 - val_fn: 13.0000 - val_fp: 7.0000 - val_tn: 39797.0000 - val_tp: 56.0000 - val_precision: 0.8889 - val_recall: 0.8116\n",
      "Epoch 96/300\n",
      "78/78 [==============================] - 4s 55ms/step - loss: 0.0016 - fn: 55.0000 - fp: 10.0000 - tn: 159194.0000 - tp: 232.0000 - precision: 0.9587 - recall: 0.8084 - val_loss: 0.0052 - val_fn: 14.0000 - val_fp: 7.0000 - val_tn: 39797.0000 - val_tp: 55.0000 - val_precision: 0.8871 - val_recall: 0.7971\n",
      "Epoch 97/300\n",
      "78/78 [==============================] - 4s 55ms/step - loss: 0.0017 - fn: 51.0000 - fp: 17.0000 - tn: 159187.0000 - tp: 236.0000 - precision: 0.9328 - recall: 0.8223 - val_loss: 0.0051 - val_fn: 14.0000 - val_fp: 7.0000 - val_tn: 39797.0000 - val_tp: 55.0000 - val_precision: 0.8871 - val_recall: 0.7971\n",
      "Epoch 98/300\n",
      "78/78 [==============================] - 4s 55ms/step - loss: 0.0016 - fn: 49.0000 - fp: 17.0000 - tn: 159187.0000 - tp: 238.0000 - precision: 0.9333 - recall: 0.8293 - val_loss: 0.0051 - val_fn: 14.0000 - val_fp: 8.0000 - val_tn: 39796.0000 - val_tp: 55.0000 - val_precision: 0.8730 - val_recall: 0.7971\n",
      "Epoch 99/300\n",
      "78/78 [==============================] - 4s 54ms/step - loss: 0.0016 - fn: 57.0000 - fp: 14.0000 - tn: 159190.0000 - tp: 230.0000 - precision: 0.9426 - recall: 0.8014 - val_loss: 0.0051 - val_fn: 14.0000 - val_fp: 7.0000 - val_tn: 39797.0000 - val_tp: 55.0000 - val_precision: 0.8871 - val_recall: 0.7971\n",
      "Epoch 100/300\n",
      "78/78 [==============================] - 4s 57ms/step - loss: 0.0016 - fn: 50.0000 - fp: 15.0000 - tn: 159189.0000 - tp: 237.0000 - precision: 0.9405 - recall: 0.8258 - val_loss: 0.0052 - val_fn: 13.0000 - val_fp: 9.0000 - val_tn: 39795.0000 - val_tp: 56.0000 - val_precision: 0.8615 - val_recall: 0.8116\n",
      "Epoch 101/300\n",
      "78/78 [==============================] - 5s 61ms/step - loss: 0.0015 - fn: 46.0000 - fp: 16.0000 - tn: 159188.0000 - tp: 241.0000 - precision: 0.9377 - recall: 0.8397 - val_loss: 0.0053 - val_fn: 13.0000 - val_fp: 9.0000 - val_tn: 39795.0000 - val_tp: 56.0000 - val_precision: 0.8615 - val_recall: 0.8116\n",
      "Epoch 102/300\n",
      "78/78 [==============================] - 5s 59ms/step - loss: 0.0015 - fn: 43.0000 - fp: 14.0000 - tn: 159190.0000 - tp: 244.0000 - precision: 0.9457 - recall: 0.8502 - val_loss: 0.0051 - val_fn: 13.0000 - val_fp: 4.0000 - val_tn: 39800.0000 - val_tp: 56.0000 - val_precision: 0.9333 - val_recall: 0.8116\n",
      "Epoch 103/300\n",
      "78/78 [==============================] - 5s 66ms/step - loss: 0.0015 - fn: 48.0000 - fp: 11.0000 - tn: 159193.0000 - tp: 239.0000 - precision: 0.9560 - recall: 0.8328 - val_loss: 0.0053 - val_fn: 13.0000 - val_fp: 8.0000 - val_tn: 39796.0000 - val_tp: 56.0000 - val_precision: 0.8750 - val_recall: 0.8116\n",
      "Epoch 104/300\n",
      "78/78 [==============================] - 5s 59ms/step - loss: 0.0014 - fn: 41.0000 - fp: 16.0000 - tn: 159188.0000 - tp: 246.0000 - precision: 0.9389 - recall: 0.8571 - val_loss: 0.0054 - val_fn: 13.0000 - val_fp: 6.0000 - val_tn: 39798.0000 - val_tp: 56.0000 - val_precision: 0.9032 - val_recall: 0.8116\n"
     ]
    },
    {
     "name": "stdout",
     "output_type": "stream",
     "text": [
      "Epoch 105/300\n",
      "78/78 [==============================] - 6s 75ms/step - loss: 0.0016 - fn: 47.0000 - fp: 16.0000 - tn: 159188.0000 - tp: 240.0000 - precision: 0.9375 - recall: 0.8362 - val_loss: 0.0055 - val_fn: 13.0000 - val_fp: 7.0000 - val_tn: 39797.0000 - val_tp: 56.0000 - val_precision: 0.8889 - val_recall: 0.8116\n",
      "Epoch 106/300\n",
      "78/78 [==============================] - 5s 63ms/step - loss: 0.0015 - fn: 45.0000 - fp: 10.0000 - tn: 159194.0000 - tp: 242.0000 - precision: 0.9603 - recall: 0.8432 - val_loss: 0.0053 - val_fn: 13.0000 - val_fp: 7.0000 - val_tn: 39797.0000 - val_tp: 56.0000 - val_precision: 0.8889 - val_recall: 0.8116\n",
      "Epoch 107/300\n",
      "78/78 [==============================] - 5s 59ms/step - loss: 0.0016 - fn: 49.0000 - fp: 18.0000 - tn: 159186.0000 - tp: 238.0000 - precision: 0.9297 - recall: 0.8293 - val_loss: 0.0053 - val_fn: 13.0000 - val_fp: 7.0000 - val_tn: 39797.0000 - val_tp: 56.0000 - val_precision: 0.8889 - val_recall: 0.8116\n",
      "Epoch 108/300\n",
      "78/78 [==============================] - 5s 61ms/step - loss: 0.0015 - fn: 42.0000 - fp: 14.0000 - tn: 159190.0000 - tp: 245.0000 - precision: 0.9459 - recall: 0.8537 - val_loss: 0.0053 - val_fn: 14.0000 - val_fp: 7.0000 - val_tn: 39797.0000 - val_tp: 55.0000 - val_precision: 0.8871 - val_recall: 0.7971\n",
      "Epoch 109/300\n",
      "78/78 [==============================] - 4s 54ms/step - loss: 0.0014 - fn: 42.0000 - fp: 11.0000 - tn: 159193.0000 - tp: 245.0000 - precision: 0.9570 - recall: 0.8537 - val_loss: 0.0053 - val_fn: 14.0000 - val_fp: 4.0000 - val_tn: 39800.0000 - val_tp: 55.0000 - val_precision: 0.9322 - val_recall: 0.7971\n",
      "Epoch 110/300\n",
      "78/78 [==============================] - 4s 56ms/step - loss: 0.0015 - fn: 53.0000 - fp: 16.0000 - tn: 159188.0000 - tp: 234.0000 - precision: 0.9360 - recall: 0.8153 - val_loss: 0.0054 - val_fn: 13.0000 - val_fp: 6.0000 - val_tn: 39798.0000 - val_tp: 56.0000 - val_precision: 0.9032 - val_recall: 0.8116\n",
      "Epoch 111/300\n",
      "78/78 [==============================] - 4s 55ms/step - loss: 0.0013 - fn: 37.0000 - fp: 12.0000 - tn: 159192.0000 - tp: 250.0000 - precision: 0.9542 - recall: 0.8711 - val_loss: 0.0054 - val_fn: 13.0000 - val_fp: 6.0000 - val_tn: 39798.0000 - val_tp: 56.0000 - val_precision: 0.9032 - val_recall: 0.8116\n",
      "Epoch 112/300\n",
      "78/78 [==============================] - 4s 56ms/step - loss: 0.0014 - fn: 45.0000 - fp: 9.0000 - tn: 159195.0000 - tp: 242.0000 - precision: 0.9641 - recall: 0.8432 - val_loss: 0.0054 - val_fn: 13.0000 - val_fp: 5.0000 - val_tn: 39799.0000 - val_tp: 56.0000 - val_precision: 0.9180 - val_recall: 0.8116\n",
      "Epoch 113/300\n",
      "78/78 [==============================] - 4s 54ms/step - loss: 0.0015 - fn: 43.0000 - fp: 12.0000 - tn: 159192.0000 - tp: 244.0000 - precision: 0.9531 - recall: 0.8502 - val_loss: 0.0055 - val_fn: 13.0000 - val_fp: 7.0000 - val_tn: 39797.0000 - val_tp: 56.0000 - val_precision: 0.8889 - val_recall: 0.8116\n",
      "Epoch 114/300\n",
      "78/78 [==============================] - 4s 55ms/step - loss: 0.0013 - fn: 39.0000 - fp: 10.0000 - tn: 159194.0000 - tp: 248.0000 - precision: 0.9612 - recall: 0.8641 - val_loss: 0.0054 - val_fn: 14.0000 - val_fp: 7.0000 - val_tn: 39797.0000 - val_tp: 55.0000 - val_precision: 0.8871 - val_recall: 0.7971\n",
      "Epoch 115/300\n",
      "78/78 [==============================] - 4s 53ms/step - loss: 0.0015 - fn: 45.0000 - fp: 10.0000 - tn: 159194.0000 - tp: 242.0000 - precision: 0.9603 - recall: 0.8432 - val_loss: 0.0055 - val_fn: 13.0000 - val_fp: 8.0000 - val_tn: 39796.0000 - val_tp: 56.0000 - val_precision: 0.8750 - val_recall: 0.8116\n",
      "Epoch 116/300\n",
      "78/78 [==============================] - 4s 56ms/step - loss: 0.0014 - fn: 46.0000 - fp: 15.0000 - tn: 159189.0000 - tp: 241.0000 - precision: 0.9414 - recall: 0.8397 - val_loss: 0.0054 - val_fn: 14.0000 - val_fp: 7.0000 - val_tn: 39797.0000 - val_tp: 55.0000 - val_precision: 0.8871 - val_recall: 0.7971\n",
      "Epoch 117/300\n",
      "78/78 [==============================] - 4s 57ms/step - loss: 0.0013 - fn: 44.0000 - fp: 12.0000 - tn: 159192.0000 - tp: 243.0000 - precision: 0.9529 - recall: 0.8467 - val_loss: 0.0055 - val_fn: 14.0000 - val_fp: 7.0000 - val_tn: 39797.0000 - val_tp: 55.0000 - val_precision: 0.8871 - val_recall: 0.7971\n",
      "Epoch 118/300\n",
      "78/78 [==============================] - 4s 56ms/step - loss: 0.0014 - fn: 43.0000 - fp: 16.0000 - tn: 159188.0000 - tp: 244.0000 - precision: 0.9385 - recall: 0.8502 - val_loss: 0.0055 - val_fn: 13.0000 - val_fp: 7.0000 - val_tn: 39797.0000 - val_tp: 56.0000 - val_precision: 0.8889 - val_recall: 0.8116\n",
      "Epoch 119/300\n",
      "78/78 [==============================] - 5s 58ms/step - loss: 0.0012 - fn: 41.0000 - fp: 11.0000 - tn: 159193.0000 - tp: 246.0000 - precision: 0.9572 - recall: 0.8571 - val_loss: 0.0055 - val_fn: 13.0000 - val_fp: 7.0000 - val_tn: 39797.0000 - val_tp: 56.0000 - val_precision: 0.8889 - val_recall: 0.8116\n",
      "Epoch 120/300\n",
      "78/78 [==============================] - 4s 55ms/step - loss: 0.0016 - fn: 51.0000 - fp: 17.0000 - tn: 159187.0000 - tp: 236.0000 - precision: 0.9328 - recall: 0.8223 - val_loss: 0.0057 - val_fn: 13.0000 - val_fp: 7.0000 - val_tn: 39797.0000 - val_tp: 56.0000 - val_precision: 0.8889 - val_recall: 0.8116\n",
      "Epoch 121/300\n",
      "78/78 [==============================] - 5s 59ms/step - loss: 0.0013 - fn: 40.0000 - fp: 15.0000 - tn: 159189.0000 - tp: 247.0000 - precision: 0.9427 - recall: 0.8606 - val_loss: 0.0057 - val_fn: 13.0000 - val_fp: 8.0000 - val_tn: 39796.0000 - val_tp: 56.0000 - val_precision: 0.8750 - val_recall: 0.8116\n",
      "Epoch 122/300\n",
      "78/78 [==============================] - 6s 74ms/step - loss: 0.0013 - fn: 48.0000 - fp: 12.0000 - tn: 159192.0000 - tp: 239.0000 - precision: 0.9522 - recall: 0.8328 - val_loss: 0.0056 - val_fn: 13.0000 - val_fp: 7.0000 - val_tn: 39797.0000 - val_tp: 56.0000 - val_precision: 0.8889 - val_recall: 0.8116\n",
      "Epoch 123/300\n",
      "78/78 [==============================] - 5s 61ms/step - loss: 0.0013 - fn: 44.0000 - fp: 10.0000 - tn: 159194.0000 - tp: 243.0000 - precision: 0.9605 - recall: 0.8467 - val_loss: 0.0058 - val_fn: 13.0000 - val_fp: 8.0000 - val_tn: 39796.0000 - val_tp: 56.0000 - val_precision: 0.8750 - val_recall: 0.8116\n",
      "Epoch 124/300\n",
      "78/78 [==============================] - 5s 60ms/step - loss: 0.0014 - fn: 42.0000 - fp: 11.0000 - tn: 159193.0000 - tp: 245.0000 - precision: 0.9570 - recall: 0.8537 - val_loss: 0.0058 - val_fn: 13.0000 - val_fp: 6.0000 - val_tn: 39798.0000 - val_tp: 56.0000 - val_precision: 0.9032 - val_recall: 0.8116\n",
      "Epoch 125/300\n",
      "78/78 [==============================] - 5s 62ms/step - loss: 0.0013 - fn: 42.0000 - fp: 10.0000 - tn: 159194.0000 - tp: 245.0000 - precision: 0.9608 - recall: 0.8537 - val_loss: 0.0057 - val_fn: 13.0000 - val_fp: 8.0000 - val_tn: 39796.0000 - val_tp: 56.0000 - val_precision: 0.8750 - val_recall: 0.8116\n",
      "Epoch 126/300\n",
      "78/78 [==============================] - 6s 75ms/step - loss: 0.0012 - fn: 39.0000 - fp: 16.0000 - tn: 159188.0000 - tp: 248.0000 - precision: 0.9394 - recall: 0.8641 - val_loss: 0.0057 - val_fn: 13.0000 - val_fp: 8.0000 - val_tn: 39796.0000 - val_tp: 56.0000 - val_precision: 0.8750 - val_recall: 0.8116\n",
      "Epoch 127/300\n",
      "78/78 [==============================] - 6s 79ms/step - loss: 0.0014 - fn: 39.0000 - fp: 11.0000 - tn: 159193.0000 - tp: 248.0000 - precision: 0.9575 - recall: 0.8641 - val_loss: 0.0056 - val_fn: 13.0000 - val_fp: 7.0000 - val_tn: 39797.0000 - val_tp: 56.0000 - val_precision: 0.8889 - val_recall: 0.8116\n",
      "Epoch 128/300\n",
      "78/78 [==============================] - 7s 84ms/step - loss: 0.0011 - fn: 40.0000 - fp: 11.0000 - tn: 159193.0000 - tp: 247.0000 - precision: 0.9574 - recall: 0.8606 - val_loss: 0.0057 - val_fn: 13.0000 - val_fp: 6.0000 - val_tn: 39798.0000 - val_tp: 56.0000 - val_precision: 0.9032 - val_recall: 0.8116\n",
      "Epoch 129/300\n",
      "78/78 [==============================] - 7s 92ms/step - loss: 0.0014 - fn: 44.0000 - fp: 11.0000 - tn: 159193.0000 - tp: 243.0000 - precision: 0.9567 - recall: 0.8467 - val_loss: 0.0059 - val_fn: 13.0000 - val_fp: 9.0000 - val_tn: 39795.0000 - val_tp: 56.0000 - val_precision: 0.8615 - val_recall: 0.8116\n",
      "Epoch 130/300\n",
      "78/78 [==============================] - 6s 79ms/step - loss: 0.0013 - fn: 37.0000 - fp: 15.0000 - tn: 159189.0000 - tp: 250.0000 - precision: 0.9434 - recall: 0.8711 - val_loss: 0.0057 - val_fn: 14.0000 - val_fp: 7.0000 - val_tn: 39797.0000 - val_tp: 55.0000 - val_precision: 0.8871 - val_recall: 0.7971\n"
     ]
    },
    {
     "name": "stdout",
     "output_type": "stream",
     "text": [
      "Epoch 131/300\n",
      "78/78 [==============================] - 6s 71ms/step - loss: 0.0013 - fn: 42.0000 - fp: 12.0000 - tn: 159192.0000 - tp: 245.0000 - precision: 0.9533 - recall: 0.8537 - val_loss: 0.0058 - val_fn: 13.0000 - val_fp: 6.0000 - val_tn: 39798.0000 - val_tp: 56.0000 - val_precision: 0.9032 - val_recall: 0.8116\n",
      "Epoch 132/300\n",
      "78/78 [==============================] - 6s 74ms/step - loss: 0.0012 - fn: 39.0000 - fp: 15.0000 - tn: 159189.0000 - tp: 248.0000 - precision: 0.9430 - recall: 0.8641 - val_loss: 0.0059 - val_fn: 13.0000 - val_fp: 6.0000 - val_tn: 39798.0000 - val_tp: 56.0000 - val_precision: 0.9032 - val_recall: 0.8116\n",
      "Epoch 133/300\n",
      "78/78 [==============================] - 6s 75ms/step - loss: 0.0012 - fn: 42.0000 - fp: 10.0000 - tn: 159194.0000 - tp: 245.0000 - precision: 0.9608 - recall: 0.8537 - val_loss: 0.0058 - val_fn: 14.0000 - val_fp: 5.0000 - val_tn: 39799.0000 - val_tp: 55.0000 - val_precision: 0.9167 - val_recall: 0.7971\n",
      "Epoch 134/300\n",
      "78/78 [==============================] - 6s 76ms/step - loss: 0.0013 - fn: 42.0000 - fp: 11.0000 - tn: 159193.0000 - tp: 245.0000 - precision: 0.9570 - recall: 0.8537 - val_loss: 0.0060 - val_fn: 13.0000 - val_fp: 9.0000 - val_tn: 39795.0000 - val_tp: 56.0000 - val_precision: 0.8615 - val_recall: 0.8116\n",
      "Epoch 135/300\n",
      "78/78 [==============================] - 6s 76ms/step - loss: 0.0011 - fn: 35.0000 - fp: 10.0000 - tn: 159194.0000 - tp: 252.0000 - precision: 0.9618 - recall: 0.8780 - val_loss: 0.0059 - val_fn: 13.0000 - val_fp: 7.0000 - val_tn: 39797.0000 - val_tp: 56.0000 - val_precision: 0.8889 - val_recall: 0.8116\n",
      "Epoch 136/300\n",
      "78/78 [==============================] - 6s 81ms/step - loss: 0.0012 - fn: 41.0000 - fp: 11.0000 - tn: 159193.0000 - tp: 246.0000 - precision: 0.9572 - recall: 0.8571 - val_loss: 0.0060 - val_fn: 13.0000 - val_fp: 9.0000 - val_tn: 39795.0000 - val_tp: 56.0000 - val_precision: 0.8615 - val_recall: 0.8116\n",
      "Epoch 137/300\n",
      "78/78 [==============================] - 5s 68ms/step - loss: 0.0011 - fn: 38.0000 - fp: 10.0000 - tn: 159194.0000 - tp: 249.0000 - precision: 0.9614 - recall: 0.8676 - val_loss: 0.0058 - val_fn: 13.0000 - val_fp: 7.0000 - val_tn: 39797.0000 - val_tp: 56.0000 - val_precision: 0.8889 - val_recall: 0.8116\n",
      "Epoch 138/300\n",
      "78/78 [==============================] - 6s 80ms/step - loss: 0.0012 - fn: 33.0000 - fp: 11.0000 - tn: 159193.0000 - tp: 254.0000 - precision: 0.9585 - recall: 0.8850 - val_loss: 0.0058 - val_fn: 14.0000 - val_fp: 6.0000 - val_tn: 39798.0000 - val_tp: 55.0000 - val_precision: 0.9016 - val_recall: 0.7971\n",
      "Epoch 139/300\n",
      "78/78 [==============================] - 6s 77ms/step - loss: 0.0013 - fn: 42.0000 - fp: 20.0000 - tn: 159184.0000 - tp: 245.0000 - precision: 0.9245 - recall: 0.8537 - val_loss: 0.0060 - val_fn: 14.0000 - val_fp: 7.0000 - val_tn: 39797.0000 - val_tp: 55.0000 - val_precision: 0.8871 - val_recall: 0.7971\n",
      "Epoch 140/300\n",
      "78/78 [==============================] - 5s 69ms/step - loss: 0.0011 - fn: 39.0000 - fp: 9.0000 - tn: 159195.0000 - tp: 248.0000 - precision: 0.9650 - recall: 0.8641 - val_loss: 0.0061 - val_fn: 13.0000 - val_fp: 8.0000 - val_tn: 39796.0000 - val_tp: 56.0000 - val_precision: 0.8750 - val_recall: 0.8116\n",
      "Epoch 141/300\n",
      "78/78 [==============================] - 5s 70ms/step - loss: 9.9388e-04 - fn: 35.0000 - fp: 11.0000 - tn: 159193.0000 - tp: 252.0000 - precision: 0.9582 - recall: 0.8780 - val_loss: 0.0060 - val_fn: 14.0000 - val_fp: 8.0000 - val_tn: 39796.0000 - val_tp: 55.0000 - val_precision: 0.8730 - val_recall: 0.7971\n",
      "Epoch 142/300\n",
      "78/78 [==============================] - 5s 62ms/step - loss: 0.0012 - fn: 37.0000 - fp: 12.0000 - tn: 159192.0000 - tp: 250.0000 - precision: 0.9542 - recall: 0.8711 - val_loss: 0.0058 - val_fn: 14.0000 - val_fp: 6.0000 - val_tn: 39798.0000 - val_tp: 55.0000 - val_precision: 0.9016 - val_recall: 0.7971\n",
      "Epoch 143/300\n",
      "78/78 [==============================] - 5s 58ms/step - loss: 0.0011 - fn: 33.0000 - fp: 14.0000 - tn: 159190.0000 - tp: 254.0000 - precision: 0.9478 - recall: 0.8850 - val_loss: 0.0060 - val_fn: 14.0000 - val_fp: 6.0000 - val_tn: 39798.0000 - val_tp: 55.0000 - val_precision: 0.9016 - val_recall: 0.7971\n",
      "Epoch 144/300\n",
      "78/78 [==============================] - 5s 59ms/step - loss: 0.0013 - fn: 39.0000 - fp: 12.0000 - tn: 159192.0000 - tp: 248.0000 - precision: 0.9538 - recall: 0.8641 - val_loss: 0.0059 - val_fn: 14.0000 - val_fp: 7.0000 - val_tn: 39797.0000 - val_tp: 55.0000 - val_precision: 0.8871 - val_recall: 0.7971\n",
      "Epoch 145/300\n",
      "78/78 [==============================] - 4s 58ms/step - loss: 0.0011 - fn: 34.0000 - fp: 13.0000 - tn: 159191.0000 - tp: 253.0000 - precision: 0.9511 - recall: 0.8815 - val_loss: 0.0059 - val_fn: 14.0000 - val_fp: 6.0000 - val_tn: 39798.0000 - val_tp: 55.0000 - val_precision: 0.9016 - val_recall: 0.7971\n",
      "Epoch 146/300\n",
      "78/78 [==============================] - 5s 60ms/step - loss: 0.0010 - fn: 31.0000 - fp: 8.0000 - tn: 159196.0000 - tp: 256.0000 - precision: 0.9697 - recall: 0.8920 - val_loss: 0.0061 - val_fn: 13.0000 - val_fp: 8.0000 - val_tn: 39796.0000 - val_tp: 56.0000 - val_precision: 0.8750 - val_recall: 0.8116\n",
      "Epoch 147/300\n",
      "78/78 [==============================] - 5s 60ms/step - loss: 0.0011 - fn: 35.0000 - fp: 9.0000 - tn: 159195.0000 - tp: 252.0000 - precision: 0.9655 - recall: 0.8780 - val_loss: 0.0060 - val_fn: 13.0000 - val_fp: 10.0000 - val_tn: 39794.0000 - val_tp: 56.0000 - val_precision: 0.8485 - val_recall: 0.8116\n",
      "Epoch 148/300\n",
      "78/78 [==============================] - 5s 63ms/step - loss: 0.0011 - fn: 33.0000 - fp: 14.0000 - tn: 159190.0000 - tp: 254.0000 - precision: 0.9478 - recall: 0.8850 - val_loss: 0.0059 - val_fn: 14.0000 - val_fp: 8.0000 - val_tn: 39796.0000 - val_tp: 55.0000 - val_precision: 0.8730 - val_recall: 0.7971\n",
      "Epoch 149/300\n",
      "78/78 [==============================] - 5s 62ms/step - loss: 0.0013 - fn: 43.0000 - fp: 10.0000 - tn: 159194.0000 - tp: 244.0000 - precision: 0.9606 - recall: 0.8502 - val_loss: 0.0061 - val_fn: 13.0000 - val_fp: 10.0000 - val_tn: 39794.0000 - val_tp: 56.0000 - val_precision: 0.8485 - val_recall: 0.8116\n",
      "Epoch 150/300\n",
      "78/78 [==============================] - 5s 62ms/step - loss: 9.3982e-04 - fn: 31.0000 - fp: 8.0000 - tn: 159196.0000 - tp: 256.0000 - precision: 0.9697 - recall: 0.8920 - val_loss: 0.0060 - val_fn: 13.0000 - val_fp: 10.0000 - val_tn: 39794.0000 - val_tp: 56.0000 - val_precision: 0.8485 - val_recall: 0.8116\n",
      "Epoch 151/300\n",
      "78/78 [==============================] - 5s 57ms/step - loss: 0.0013 - fn: 35.0000 - fp: 10.0000 - tn: 159194.0000 - tp: 252.0000 - precision: 0.9618 - recall: 0.8780 - val_loss: 0.0059 - val_fn: 13.0000 - val_fp: 5.0000 - val_tn: 39799.0000 - val_tp: 56.0000 - val_precision: 0.9180 - val_recall: 0.8116\n",
      "Epoch 152/300\n",
      "78/78 [==============================] - 4s 57ms/step - loss: 0.0011 - fn: 38.0000 - fp: 8.0000 - tn: 159196.0000 - tp: 249.0000 - precision: 0.9689 - recall: 0.8676 - val_loss: 0.0061 - val_fn: 13.0000 - val_fp: 8.0000 - val_tn: 39796.0000 - val_tp: 56.0000 - val_precision: 0.8750 - val_recall: 0.8116\n",
      "Epoch 153/300\n",
      "78/78 [==============================] - 4s 55ms/step - loss: 0.0011 - fn: 36.0000 - fp: 12.0000 - tn: 159192.0000 - tp: 251.0000 - precision: 0.9544 - recall: 0.8746 - val_loss: 0.0063 - val_fn: 13.0000 - val_fp: 10.0000 - val_tn: 39794.0000 - val_tp: 56.0000 - val_precision: 0.8485 - val_recall: 0.8116\n",
      "Epoch 154/300\n",
      "78/78 [==============================] - 4s 56ms/step - loss: 0.0012 - fn: 34.0000 - fp: 12.0000 - tn: 159192.0000 - tp: 253.0000 - precision: 0.9547 - recall: 0.8815 - val_loss: 0.0060 - val_fn: 13.0000 - val_fp: 7.0000 - val_tn: 39797.0000 - val_tp: 56.0000 - val_precision: 0.8889 - val_recall: 0.8116\n",
      "Epoch 155/300\n",
      "78/78 [==============================] - 4s 52ms/step - loss: 0.0010 - fn: 35.0000 - fp: 8.0000 - tn: 159196.0000 - tp: 252.0000 - precision: 0.9692 - recall: 0.8780 - val_loss: 0.0061 - val_fn: 13.0000 - val_fp: 7.0000 - val_tn: 39797.0000 - val_tp: 56.0000 - val_precision: 0.8889 - val_recall: 0.8116\n",
      "Epoch 156/300\n",
      "78/78 [==============================] - 4s 56ms/step - loss: 0.0011 - fn: 34.0000 - fp: 9.0000 - tn: 159195.0000 - tp: 253.0000 - precision: 0.9656 - recall: 0.8815 - val_loss: 0.0060 - val_fn: 13.0000 - val_fp: 6.0000 - val_tn: 39798.0000 - val_tp: 56.0000 - val_precision: 0.9032 - val_recall: 0.8116\n"
     ]
    },
    {
     "name": "stdout",
     "output_type": "stream",
     "text": [
      "Epoch 157/300\n",
      "78/78 [==============================] - 4s 54ms/step - loss: 0.0012 - fn: 35.0000 - fp: 15.0000 - tn: 159189.0000 - tp: 252.0000 - precision: 0.9438 - recall: 0.8780 - val_loss: 0.0060 - val_fn: 13.0000 - val_fp: 6.0000 - val_tn: 39798.0000 - val_tp: 56.0000 - val_precision: 0.9032 - val_recall: 0.8116\n",
      "Epoch 158/300\n",
      "78/78 [==============================] - 4s 54ms/step - loss: 0.0010 - fn: 39.0000 - fp: 13.0000 - tn: 159191.0000 - tp: 248.0000 - precision: 0.9502 - recall: 0.8641 - val_loss: 0.0062 - val_fn: 13.0000 - val_fp: 7.0000 - val_tn: 39797.0000 - val_tp: 56.0000 - val_precision: 0.8889 - val_recall: 0.8116\n",
      "Epoch 159/300\n",
      "78/78 [==============================] - 4s 55ms/step - loss: 9.5205e-04 - fn: 33.0000 - fp: 8.0000 - tn: 159196.0000 - tp: 254.0000 - precision: 0.9695 - recall: 0.8850 - val_loss: 0.0060 - val_fn: 13.0000 - val_fp: 6.0000 - val_tn: 39798.0000 - val_tp: 56.0000 - val_precision: 0.9032 - val_recall: 0.8116\n",
      "Epoch 160/300\n",
      "78/78 [==============================] - 6s 78ms/step - loss: 9.8326e-04 - fn: 33.0000 - fp: 9.0000 - tn: 159195.0000 - tp: 254.0000 - precision: 0.9658 - recall: 0.8850 - val_loss: 0.0061 - val_fn: 13.0000 - val_fp: 6.0000 - val_tn: 39798.0000 - val_tp: 56.0000 - val_precision: 0.9032 - val_recall: 0.8116\n",
      "Epoch 161/300\n",
      "78/78 [==============================] - 5s 66ms/step - loss: 0.0011 - fn: 39.0000 - fp: 9.0000 - tn: 159195.0000 - tp: 248.0000 - precision: 0.9650 - recall: 0.8641 - val_loss: 0.0062 - val_fn: 13.0000 - val_fp: 9.0000 - val_tn: 39795.0000 - val_tp: 56.0000 - val_precision: 0.8615 - val_recall: 0.8116\n",
      "Epoch 162/300\n",
      "78/78 [==============================] - 5s 63ms/step - loss: 0.0010 - fn: 36.0000 - fp: 8.0000 - tn: 159196.0000 - tp: 251.0000 - precision: 0.9691 - recall: 0.8746 - val_loss: 0.0060 - val_fn: 13.0000 - val_fp: 5.0000 - val_tn: 39799.0000 - val_tp: 56.0000 - val_precision: 0.9180 - val_recall: 0.8116\n",
      "Epoch 163/300\n",
      "78/78 [==============================] - 5s 66ms/step - loss: 9.5976e-04 - fn: 30.0000 - fp: 15.0000 - tn: 159189.0000 - tp: 257.0000 - precision: 0.9449 - recall: 0.8955 - val_loss: 0.0060 - val_fn: 15.0000 - val_fp: 5.0000 - val_tn: 39799.0000 - val_tp: 54.0000 - val_precision: 0.9153 - val_recall: 0.7826\n",
      "Epoch 164/300\n",
      "78/78 [==============================] - 5s 69ms/step - loss: 0.0010 - fn: 33.0000 - fp: 7.0000 - tn: 159197.0000 - tp: 254.0000 - precision: 0.9732 - recall: 0.8850 - val_loss: 0.0060 - val_fn: 13.0000 - val_fp: 7.0000 - val_tn: 39797.0000 - val_tp: 56.0000 - val_precision: 0.8889 - val_recall: 0.8116\n",
      "Epoch 165/300\n",
      "78/78 [==============================] - 5s 70ms/step - loss: 9.9950e-04 - fn: 34.0000 - fp: 7.0000 - tn: 159197.0000 - tp: 253.0000 - precision: 0.9731 - recall: 0.8815 - val_loss: 0.0061 - val_fn: 13.0000 - val_fp: 10.0000 - val_tn: 39794.0000 - val_tp: 56.0000 - val_precision: 0.8485 - val_recall: 0.8116\n",
      "Epoch 166/300\n",
      "78/78 [==============================] - 5s 69ms/step - loss: 9.4453e-04 - fn: 31.0000 - fp: 9.0000 - tn: 159195.0000 - tp: 256.0000 - precision: 0.9660 - recall: 0.8920 - val_loss: 0.0062 - val_fn: 13.0000 - val_fp: 10.0000 - val_tn: 39794.0000 - val_tp: 56.0000 - val_precision: 0.8485 - val_recall: 0.8116\n",
      "Epoch 167/300\n",
      "78/78 [==============================] - 5s 67ms/step - loss: 0.0012 - fn: 32.0000 - fp: 14.0000 - tn: 159190.0000 - tp: 255.0000 - precision: 0.9480 - recall: 0.8885 - val_loss: 0.0063 - val_fn: 13.0000 - val_fp: 9.0000 - val_tn: 39795.0000 - val_tp: 56.0000 - val_precision: 0.8615 - val_recall: 0.8116\n",
      "Epoch 168/300\n",
      "78/78 [==============================] - 5s 60ms/step - loss: 9.8137e-04 - fn: 32.0000 - fp: 8.0000 - tn: 159196.0000 - tp: 255.0000 - precision: 0.9696 - recall: 0.8885 - val_loss: 0.0062 - val_fn: 13.0000 - val_fp: 10.0000 - val_tn: 39794.0000 - val_tp: 56.0000 - val_precision: 0.8485 - val_recall: 0.8116\n",
      "Epoch 169/300\n",
      "78/78 [==============================] - 5s 58ms/step - loss: 0.0011 - fn: 41.0000 - fp: 15.0000 - tn: 159189.0000 - tp: 246.0000 - precision: 0.9425 - recall: 0.8571 - val_loss: 0.0061 - val_fn: 13.0000 - val_fp: 9.0000 - val_tn: 39795.0000 - val_tp: 56.0000 - val_precision: 0.8615 - val_recall: 0.8116\n",
      "Epoch 170/300\n",
      "78/78 [==============================] - 4s 55ms/step - loss: 0.0010 - fn: 34.0000 - fp: 9.0000 - tn: 159195.0000 - tp: 253.0000 - precision: 0.9656 - recall: 0.8815 - val_loss: 0.0061 - val_fn: 13.0000 - val_fp: 9.0000 - val_tn: 39795.0000 - val_tp: 56.0000 - val_precision: 0.8615 - val_recall: 0.8116\n",
      "Epoch 171/300\n",
      "78/78 [==============================] - 4s 57ms/step - loss: 0.0011 - fn: 32.0000 - fp: 11.0000 - tn: 159193.0000 - tp: 255.0000 - precision: 0.9586 - recall: 0.8885 - val_loss: 0.0060 - val_fn: 13.0000 - val_fp: 7.0000 - val_tn: 39797.0000 - val_tp: 56.0000 - val_precision: 0.8889 - val_recall: 0.8116\n",
      "Epoch 172/300\n",
      "78/78 [==============================] - 4s 54ms/step - loss: 0.0012 - fn: 38.0000 - fp: 16.0000 - tn: 159188.0000 - tp: 249.0000 - precision: 0.9396 - recall: 0.8676 - val_loss: 0.0062 - val_fn: 13.0000 - val_fp: 7.0000 - val_tn: 39797.0000 - val_tp: 56.0000 - val_precision: 0.8889 - val_recall: 0.8116\n",
      "Epoch 173/300\n",
      "78/78 [==============================] - 6s 72ms/step - loss: 0.0011 - fn: 35.0000 - fp: 9.0000 - tn: 159195.0000 - tp: 252.0000 - precision: 0.9655 - recall: 0.8780 - val_loss: 0.0063 - val_fn: 13.0000 - val_fp: 9.0000 - val_tn: 39795.0000 - val_tp: 56.0000 - val_precision: 0.8615 - val_recall: 0.8116\n",
      "Epoch 174/300\n",
      "78/78 [==============================] - 6s 76ms/step - loss: 9.3019e-04 - fn: 35.0000 - fp: 8.0000 - tn: 159196.0000 - tp: 252.0000 - precision: 0.9692 - recall: 0.8780 - val_loss: 0.0063 - val_fn: 13.0000 - val_fp: 8.0000 - val_tn: 39796.0000 - val_tp: 56.0000 - val_precision: 0.8750 - val_recall: 0.8116\n",
      "Epoch 175/300\n",
      "78/78 [==============================] - 5s 60ms/step - loss: 9.8650e-04 - fn: 27.0000 - fp: 18.0000 - tn: 159186.0000 - tp: 260.0000 - precision: 0.9353 - recall: 0.9059 - val_loss: 0.0065 - val_fn: 13.0000 - val_fp: 10.0000 - val_tn: 39794.0000 - val_tp: 56.0000 - val_precision: 0.8485 - val_recall: 0.8116\n",
      "Epoch 176/300\n",
      "78/78 [==============================] - 5s 63ms/step - loss: 8.1024e-04 - fn: 31.0000 - fp: 10.0000 - tn: 159194.0000 - tp: 256.0000 - precision: 0.9624 - recall: 0.8920 - val_loss: 0.0062 - val_fn: 13.0000 - val_fp: 7.0000 - val_tn: 39797.0000 - val_tp: 56.0000 - val_precision: 0.8889 - val_recall: 0.8116\n",
      "Epoch 177/300\n",
      "78/78 [==============================] - 5s 61ms/step - loss: 9.9624e-04 - fn: 35.0000 - fp: 13.0000 - tn: 159191.0000 - tp: 252.0000 - precision: 0.9509 - recall: 0.8780 - val_loss: 0.0063 - val_fn: 13.0000 - val_fp: 7.0000 - val_tn: 39797.0000 - val_tp: 56.0000 - val_precision: 0.8889 - val_recall: 0.8116\n",
      "Epoch 178/300\n",
      "78/78 [==============================] - 4s 57ms/step - loss: 9.6751e-04 - fn: 37.0000 - fp: 15.0000 - tn: 159189.0000 - tp: 250.0000 - precision: 0.9434 - recall: 0.8711 - val_loss: 0.0062 - val_fn: 13.0000 - val_fp: 6.0000 - val_tn: 39798.0000 - val_tp: 56.0000 - val_precision: 0.9032 - val_recall: 0.8116\n",
      "Epoch 179/300\n",
      "78/78 [==============================] - 6s 81ms/step - loss: 9.5654e-04 - fn: 36.0000 - fp: 11.0000 - tn: 159193.0000 - tp: 251.0000 - precision: 0.9580 - recall: 0.8746 - val_loss: 0.0063 - val_fn: 14.0000 - val_fp: 5.0000 - val_tn: 39799.0000 - val_tp: 55.0000 - val_precision: 0.9167 - val_recall: 0.7971\n",
      "Epoch 180/300\n",
      "78/78 [==============================] - 5s 62ms/step - loss: 8.2809e-04 - fn: 31.0000 - fp: 10.0000 - tn: 159194.0000 - tp: 256.0000 - precision: 0.9624 - recall: 0.8920 - val_loss: 0.0063 - val_fn: 13.0000 - val_fp: 7.0000 - val_tn: 39797.0000 - val_tp: 56.0000 - val_precision: 0.8889 - val_recall: 0.8116\n",
      "Epoch 181/300\n",
      "78/78 [==============================] - 4s 54ms/step - loss: 0.0010 - fn: 33.0000 - fp: 12.0000 - tn: 159192.0000 - tp: 254.0000 - precision: 0.9549 - recall: 0.8850 - val_loss: 0.0063 - val_fn: 13.0000 - val_fp: 7.0000 - val_tn: 39797.0000 - val_tp: 56.0000 - val_precision: 0.8889 - val_recall: 0.8116\n",
      "Epoch 182/300\n"
     ]
    },
    {
     "name": "stdout",
     "output_type": "stream",
     "text": [
      "78/78 [==============================] - 5s 59ms/step - loss: 9.6826e-04 - fn: 33.0000 - fp: 7.0000 - tn: 159197.0000 - tp: 254.0000 - precision: 0.9732 - recall: 0.8850 - val_loss: 0.0062 - val_fn: 14.0000 - val_fp: 8.0000 - val_tn: 39796.0000 - val_tp: 55.0000 - val_precision: 0.8730 - val_recall: 0.7971\n",
      "Epoch 183/300\n",
      "78/78 [==============================] - 5s 61ms/step - loss: 9.6301e-04 - fn: 34.0000 - fp: 12.0000 - tn: 159192.0000 - tp: 253.0000 - precision: 0.9547 - recall: 0.8815 - val_loss: 0.0063 - val_fn: 14.0000 - val_fp: 9.0000 - val_tn: 39795.0000 - val_tp: 55.0000 - val_precision: 0.8594 - val_recall: 0.7971\n",
      "Epoch 184/300\n",
      "78/78 [==============================] - 4s 54ms/step - loss: 9.4479e-04 - fn: 37.0000 - fp: 12.0000 - tn: 159192.0000 - tp: 250.0000 - precision: 0.9542 - recall: 0.8711 - val_loss: 0.0065 - val_fn: 13.0000 - val_fp: 8.0000 - val_tn: 39796.0000 - val_tp: 56.0000 - val_precision: 0.8750 - val_recall: 0.8116\n",
      "Epoch 185/300\n",
      "78/78 [==============================] - 5s 58ms/step - loss: 8.6605e-04 - fn: 29.0000 - fp: 12.0000 - tn: 159192.0000 - tp: 258.0000 - precision: 0.9556 - recall: 0.8990 - val_loss: 0.0064 - val_fn: 13.0000 - val_fp: 8.0000 - val_tn: 39796.0000 - val_tp: 56.0000 - val_precision: 0.8750 - val_recall: 0.8116\n",
      "Epoch 186/300\n",
      "78/78 [==============================] - 4s 57ms/step - loss: 7.7910e-04 - fn: 30.0000 - fp: 11.0000 - tn: 159193.0000 - tp: 257.0000 - precision: 0.9590 - recall: 0.8955 - val_loss: 0.0064 - val_fn: 13.0000 - val_fp: 7.0000 - val_tn: 39797.0000 - val_tp: 56.0000 - val_precision: 0.8889 - val_recall: 0.8116\n",
      "Epoch 187/300\n",
      "78/78 [==============================] - 4s 56ms/step - loss: 9.6989e-04 - fn: 33.0000 - fp: 11.0000 - tn: 159193.0000 - tp: 254.0000 - precision: 0.9585 - recall: 0.8850 - val_loss: 0.0063 - val_fn: 14.0000 - val_fp: 7.0000 - val_tn: 39797.0000 - val_tp: 55.0000 - val_precision: 0.8871 - val_recall: 0.7971\n",
      "Epoch 188/300\n",
      "78/78 [==============================] - 4s 53ms/step - loss: 8.3476e-04 - fn: 32.0000 - fp: 5.0000 - tn: 159199.0000 - tp: 255.0000 - precision: 0.9808 - recall: 0.8885 - val_loss: 0.0063 - val_fn: 14.0000 - val_fp: 7.0000 - val_tn: 39797.0000 - val_tp: 55.0000 - val_precision: 0.8871 - val_recall: 0.7971\n",
      "Epoch 189/300\n",
      "78/78 [==============================] - 4s 55ms/step - loss: 0.0010 - fn: 30.0000 - fp: 12.0000 - tn: 159192.0000 - tp: 257.0000 - precision: 0.9554 - recall: 0.8955 - val_loss: 0.0063 - val_fn: 14.0000 - val_fp: 8.0000 - val_tn: 39796.0000 - val_tp: 55.0000 - val_precision: 0.8730 - val_recall: 0.7971\n",
      "Epoch 190/300\n",
      "78/78 [==============================] - 4s 57ms/step - loss: 8.8949e-04 - fn: 30.0000 - fp: 9.0000 - tn: 159195.0000 - tp: 257.0000 - precision: 0.9662 - recall: 0.8955 - val_loss: 0.0065 - val_fn: 13.0000 - val_fp: 11.0000 - val_tn: 39793.0000 - val_tp: 56.0000 - val_precision: 0.8358 - val_recall: 0.8116\n",
      "Epoch 191/300\n",
      "78/78 [==============================] - 5s 58ms/step - loss: 7.3797e-04 - fn: 28.0000 - fp: 8.0000 - tn: 159196.0000 - tp: 259.0000 - precision: 0.9700 - recall: 0.9024 - val_loss: 0.0065 - val_fn: 13.0000 - val_fp: 9.0000 - val_tn: 39795.0000 - val_tp: 56.0000 - val_precision: 0.8615 - val_recall: 0.8116\n",
      "Epoch 192/300\n",
      "78/78 [==============================] - 5s 58ms/step - loss: 9.6906e-04 - fn: 31.0000 - fp: 11.0000 - tn: 159193.0000 - tp: 256.0000 - precision: 0.9588 - recall: 0.8920 - val_loss: 0.0064 - val_fn: 13.0000 - val_fp: 9.0000 - val_tn: 39795.0000 - val_tp: 56.0000 - val_precision: 0.8615 - val_recall: 0.8116\n",
      "Epoch 193/300\n",
      "78/78 [==============================] - 5s 62ms/step - loss: 8.6636e-04 - fn: 30.0000 - fp: 12.0000 - tn: 159192.0000 - tp: 257.0000 - precision: 0.9554 - recall: 0.8955 - val_loss: 0.0063 - val_fn: 14.0000 - val_fp: 7.0000 - val_tn: 39797.0000 - val_tp: 55.0000 - val_precision: 0.8871 - val_recall: 0.7971\n",
      "Epoch 194/300\n",
      "78/78 [==============================] - 6s 75ms/step - loss: 0.0011 - fn: 35.0000 - fp: 12.0000 - tn: 159192.0000 - tp: 252.0000 - precision: 0.9545 - recall: 0.8780 - val_loss: 0.0063 - val_fn: 13.0000 - val_fp: 8.0000 - val_tn: 39796.0000 - val_tp: 56.0000 - val_precision: 0.8750 - val_recall: 0.8116\n",
      "Epoch 195/300\n",
      "78/78 [==============================] - 6s 75ms/step - loss: 8.5052e-04 - fn: 26.0000 - fp: 12.0000 - tn: 159192.0000 - tp: 261.0000 - precision: 0.9560 - recall: 0.9094 - val_loss: 0.0066 - val_fn: 13.0000 - val_fp: 8.0000 - val_tn: 39796.0000 - val_tp: 56.0000 - val_precision: 0.8750 - val_recall: 0.8116\n",
      "Epoch 196/300\n",
      "78/78 [==============================] - 4s 56ms/step - loss: 7.7968e-04 - fn: 29.0000 - fp: 13.0000 - tn: 159191.0000 - tp: 258.0000 - precision: 0.9520 - recall: 0.8990 - val_loss: 0.0067 - val_fn: 13.0000 - val_fp: 8.0000 - val_tn: 39796.0000 - val_tp: 56.0000 - val_precision: 0.8750 - val_recall: 0.8116\n",
      "Epoch 197/300\n",
      "78/78 [==============================] - 6s 77ms/step - loss: 9.7612e-04 - fn: 35.0000 - fp: 12.0000 - tn: 159192.0000 - tp: 252.0000 - precision: 0.9545 - recall: 0.8780 - val_loss: 0.0067 - val_fn: 13.0000 - val_fp: 8.0000 - val_tn: 39796.0000 - val_tp: 56.0000 - val_precision: 0.8750 - val_recall: 0.8116\n",
      "Epoch 198/300\n",
      "78/78 [==============================] - 5s 68ms/step - loss: 0.0011 - fn: 37.0000 - fp: 11.0000 - tn: 159193.0000 - tp: 250.0000 - precision: 0.9579 - recall: 0.8711 - val_loss: 0.0068 - val_fn: 13.0000 - val_fp: 10.0000 - val_tn: 39794.0000 - val_tp: 56.0000 - val_precision: 0.8485 - val_recall: 0.8116\n",
      "Epoch 199/300\n",
      "78/78 [==============================] - 5s 65ms/step - loss: 7.9386e-04 - fn: 32.0000 - fp: 8.0000 - tn: 159196.0000 - tp: 255.0000 - precision: 0.9696 - recall: 0.8885 - val_loss: 0.0066 - val_fn: 13.0000 - val_fp: 8.0000 - val_tn: 39796.0000 - val_tp: 56.0000 - val_precision: 0.8750 - val_recall: 0.8116\n",
      "Epoch 200/300\n",
      "78/78 [==============================] - 5s 62ms/step - loss: 8.4700e-04 - fn: 29.0000 - fp: 12.0000 - tn: 159192.0000 - tp: 258.0000 - precision: 0.9556 - recall: 0.8990 - val_loss: 0.0065 - val_fn: 14.0000 - val_fp: 8.0000 - val_tn: 39796.0000 - val_tp: 55.0000 - val_precision: 0.8730 - val_recall: 0.7971\n",
      "Epoch 201/300\n",
      "78/78 [==============================] - 4s 57ms/step - loss: 8.8674e-04 - fn: 32.0000 - fp: 11.0000 - tn: 159193.0000 - tp: 255.0000 - precision: 0.9586 - recall: 0.8885 - val_loss: 0.0065 - val_fn: 13.0000 - val_fp: 8.0000 - val_tn: 39796.0000 - val_tp: 56.0000 - val_precision: 0.8750 - val_recall: 0.8116\n",
      "Epoch 202/300\n",
      "78/78 [==============================] - 5s 68ms/step - loss: 7.0328e-04 - fn: 31.0000 - fp: 4.0000 - tn: 159200.0000 - tp: 256.0000 - precision: 0.9846 - recall: 0.8920 - val_loss: 0.0067 - val_fn: 13.0000 - val_fp: 10.0000 - val_tn: 39794.0000 - val_tp: 56.0000 - val_precision: 0.8485 - val_recall: 0.8116\n",
      "Epoch 203/300\n",
      "78/78 [==============================] - 5s 69ms/step - loss: 7.9124e-04 - fn: 27.0000 - fp: 10.0000 - tn: 159194.0000 - tp: 260.0000 - precision: 0.9630 - recall: 0.9059 - val_loss: 0.0064 - val_fn: 13.0000 - val_fp: 9.0000 - val_tn: 39795.0000 - val_tp: 56.0000 - val_precision: 0.8615 - val_recall: 0.8116\n",
      "Epoch 204/300\n",
      "78/78 [==============================] - 4s 58ms/step - loss: 6.4280e-04 - fn: 23.0000 - fp: 10.0000 - tn: 159194.0000 - tp: 264.0000 - precision: 0.9635 - recall: 0.9199 - val_loss: 0.0061 - val_fn: 14.0000 - val_fp: 5.0000 - val_tn: 39799.0000 - val_tp: 55.0000 - val_precision: 0.9167 - val_recall: 0.7971\n",
      "Epoch 205/300\n",
      "78/78 [==============================] - 6s 75ms/step - loss: 9.7616e-04 - fn: 27.0000 - fp: 13.0000 - tn: 159191.0000 - tp: 260.0000 - precision: 0.9524 - recall: 0.9059 - val_loss: 0.0062 - val_fn: 14.0000 - val_fp: 4.0000 - val_tn: 39800.0000 - val_tp: 55.0000 - val_precision: 0.9322 - val_recall: 0.7971\n",
      "Epoch 206/300\n",
      "78/78 [==============================] - 5s 60ms/step - loss: 8.1132e-04 - fn: 28.0000 - fp: 8.0000 - tn: 159196.0000 - tp: 259.0000 - precision: 0.9700 - recall: 0.9024 - val_loss: 0.0062 - val_fn: 14.0000 - val_fp: 5.0000 - val_tn: 39799.0000 - val_tp: 55.0000 - val_precision: 0.9167 - val_recall: 0.7971\n",
      "Epoch 207/300\n"
     ]
    },
    {
     "name": "stdout",
     "output_type": "stream",
     "text": [
      "78/78 [==============================] - 5s 64ms/step - loss: 7.7511e-04 - fn: 26.0000 - fp: 8.0000 - tn: 159196.0000 - tp: 261.0000 - precision: 0.9703 - recall: 0.9094 - val_loss: 0.0063 - val_fn: 13.0000 - val_fp: 7.0000 - val_tn: 39797.0000 - val_tp: 56.0000 - val_precision: 0.8889 - val_recall: 0.8116\n",
      "Epoch 208/300\n",
      "78/78 [==============================] - 5s 67ms/step - loss: 8.7708e-04 - fn: 29.0000 - fp: 10.0000 - tn: 159194.0000 - tp: 258.0000 - precision: 0.9627 - recall: 0.8990 - val_loss: 0.0063 - val_fn: 14.0000 - val_fp: 7.0000 - val_tn: 39797.0000 - val_tp: 55.0000 - val_precision: 0.8871 - val_recall: 0.7971\n",
      "Epoch 209/300\n",
      "78/78 [==============================] - 5s 65ms/step - loss: 7.4696e-04 - fn: 27.0000 - fp: 7.0000 - tn: 159197.0000 - tp: 260.0000 - precision: 0.9738 - recall: 0.9059 - val_loss: 0.0064 - val_fn: 13.0000 - val_fp: 8.0000 - val_tn: 39796.0000 - val_tp: 56.0000 - val_precision: 0.8750 - val_recall: 0.8116\n",
      "Epoch 210/300\n",
      "78/78 [==============================] - 5s 67ms/step - loss: 9.0680e-04 - fn: 31.0000 - fp: 9.0000 - tn: 159195.0000 - tp: 256.0000 - precision: 0.9660 - recall: 0.8920 - val_loss: 0.0063 - val_fn: 14.0000 - val_fp: 8.0000 - val_tn: 39796.0000 - val_tp: 55.0000 - val_precision: 0.8730 - val_recall: 0.7971\n",
      "Epoch 211/300\n",
      "78/78 [==============================] - 5s 65ms/step - loss: 7.4291e-04 - fn: 22.0000 - fp: 10.0000 - tn: 159194.0000 - tp: 265.0000 - precision: 0.9636 - recall: 0.9233 - val_loss: 0.0064 - val_fn: 14.0000 - val_fp: 8.0000 - val_tn: 39796.0000 - val_tp: 55.0000 - val_precision: 0.8730 - val_recall: 0.7971\n",
      "Epoch 212/300\n",
      "78/78 [==============================] - 5s 66ms/step - loss: 6.7484e-04 - fn: 26.0000 - fp: 5.0000 - tn: 159199.0000 - tp: 261.0000 - precision: 0.9812 - recall: 0.9094 - val_loss: 0.0064 - val_fn: 13.0000 - val_fp: 10.0000 - val_tn: 39794.0000 - val_tp: 56.0000 - val_precision: 0.8485 - val_recall: 0.8116\n",
      "Epoch 213/300\n",
      "78/78 [==============================] - 5s 66ms/step - loss: 8.9808e-04 - fn: 27.0000 - fp: 11.0000 - tn: 159193.0000 - tp: 260.0000 - precision: 0.9594 - recall: 0.9059 - val_loss: 0.0064 - val_fn: 14.0000 - val_fp: 7.0000 - val_tn: 39797.0000 - val_tp: 55.0000 - val_precision: 0.8871 - val_recall: 0.7971\n",
      "Epoch 214/300\n",
      "78/78 [==============================] - 5s 66ms/step - loss: 8.1229e-04 - fn: 28.0000 - fp: 7.0000 - tn: 159197.0000 - tp: 259.0000 - precision: 0.9737 - recall: 0.9024 - val_loss: 0.0065 - val_fn: 14.0000 - val_fp: 10.0000 - val_tn: 39794.0000 - val_tp: 55.0000 - val_precision: 0.8462 - val_recall: 0.7971\n",
      "Epoch 215/300\n",
      "78/78 [==============================] - 5s 63ms/step - loss: 7.4986e-04 - fn: 23.0000 - fp: 8.0000 - tn: 159196.0000 - tp: 264.0000 - precision: 0.9706 - recall: 0.9199 - val_loss: 0.0066 - val_fn: 14.0000 - val_fp: 7.0000 - val_tn: 39797.0000 - val_tp: 55.0000 - val_precision: 0.8871 - val_recall: 0.7971\n",
      "Epoch 216/300\n",
      "78/78 [==============================] - 5s 65ms/step - loss: 7.3580e-04 - fn: 26.0000 - fp: 5.0000 - tn: 159199.0000 - tp: 261.0000 - precision: 0.9812 - recall: 0.9094 - val_loss: 0.0065 - val_fn: 14.0000 - val_fp: 7.0000 - val_tn: 39797.0000 - val_tp: 55.0000 - val_precision: 0.8871 - val_recall: 0.7971\n",
      "Epoch 217/300\n",
      "78/78 [==============================] - 5s 65ms/step - loss: 7.7192e-04 - fn: 30.0000 - fp: 5.0000 - tn: 159199.0000 - tp: 257.0000 - precision: 0.9809 - recall: 0.8955 - val_loss: 0.0067 - val_fn: 14.0000 - val_fp: 10.0000 - val_tn: 39794.0000 - val_tp: 55.0000 - val_precision: 0.8462 - val_recall: 0.7971\n",
      "Epoch 218/300\n",
      "78/78 [==============================] - 5s 67ms/step - loss: 8.1778e-04 - fn: 28.0000 - fp: 11.0000 - tn: 159193.0000 - tp: 259.0000 - precision: 0.9593 - recall: 0.9024 - val_loss: 0.0067 - val_fn: 14.0000 - val_fp: 9.0000 - val_tn: 39795.0000 - val_tp: 55.0000 - val_precision: 0.8594 - val_recall: 0.7971\n",
      "Epoch 219/300\n",
      "78/78 [==============================] - 5s 67ms/step - loss: 7.0232e-04 - fn: 25.0000 - fp: 7.0000 - tn: 159197.0000 - tp: 262.0000 - precision: 0.9740 - recall: 0.9129 - val_loss: 0.0065 - val_fn: 14.0000 - val_fp: 6.0000 - val_tn: 39798.0000 - val_tp: 55.0000 - val_precision: 0.9016 - val_recall: 0.7971\n",
      "Epoch 220/300\n",
      "78/78 [==============================] - 5s 65ms/step - loss: 8.3152e-04 - fn: 33.0000 - fp: 7.0000 - tn: 159197.0000 - tp: 254.0000 - precision: 0.9732 - recall: 0.8850 - val_loss: 0.0065 - val_fn: 13.0000 - val_fp: 6.0000 - val_tn: 39798.0000 - val_tp: 56.0000 - val_precision: 0.9032 - val_recall: 0.8116\n",
      "Epoch 221/300\n",
      "78/78 [==============================] - 5s 66ms/step - loss: 6.1441e-04 - fn: 20.0000 - fp: 9.0000 - tn: 159195.0000 - tp: 267.0000 - precision: 0.9674 - recall: 0.9303 - val_loss: 0.0065 - val_fn: 13.0000 - val_fp: 6.0000 - val_tn: 39798.0000 - val_tp: 56.0000 - val_precision: 0.9032 - val_recall: 0.8116\n",
      "Epoch 222/300\n",
      "78/78 [==============================] - 5s 60ms/step - loss: 6.6266e-04 - fn: 28.0000 - fp: 3.0000 - tn: 159201.0000 - tp: 259.0000 - precision: 0.9885 - recall: 0.9024 - val_loss: 0.0068 - val_fn: 13.0000 - val_fp: 10.0000 - val_tn: 39794.0000 - val_tp: 56.0000 - val_precision: 0.8485 - val_recall: 0.8116\n",
      "Epoch 223/300\n",
      "78/78 [==============================] - 5s 59ms/step - loss: 8.6818e-04 - fn: 28.0000 - fp: 11.0000 - tn: 159193.0000 - tp: 259.0000 - precision: 0.9593 - recall: 0.9024 - val_loss: 0.0066 - val_fn: 13.0000 - val_fp: 7.0000 - val_tn: 39797.0000 - val_tp: 56.0000 - val_precision: 0.8889 - val_recall: 0.8116\n",
      "Epoch 224/300\n",
      "78/78 [==============================] - 6s 72ms/step - loss: 7.3857e-04 - fn: 23.0000 - fp: 5.0000 - tn: 159199.0000 - tp: 264.0000 - precision: 0.9814 - recall: 0.9199 - val_loss: 0.0066 - val_fn: 13.0000 - val_fp: 9.0000 - val_tn: 39795.0000 - val_tp: 56.0000 - val_precision: 0.8615 - val_recall: 0.8116\n",
      "Epoch 225/300\n",
      "78/78 [==============================] - 6s 74ms/step - loss: 7.6671e-04 - fn: 27.0000 - fp: 7.0000 - tn: 159197.0000 - tp: 260.0000 - precision: 0.9738 - recall: 0.9059 - val_loss: 0.0066 - val_fn: 13.0000 - val_fp: 8.0000 - val_tn: 39796.0000 - val_tp: 56.0000 - val_precision: 0.8750 - val_recall: 0.8116\n",
      "Epoch 226/300\n",
      "78/78 [==============================] - 7s 85ms/step - loss: 7.2772e-04 - fn: 26.0000 - fp: 11.0000 - tn: 159193.0000 - tp: 261.0000 - precision: 0.9596 - recall: 0.9094 - val_loss: 0.0066 - val_fn: 13.0000 - val_fp: 8.0000 - val_tn: 39796.0000 - val_tp: 56.0000 - val_precision: 0.8750 - val_recall: 0.8116\n",
      "Epoch 227/300\n",
      "78/78 [==============================] - 8s 99ms/step - loss: 7.8459e-04 - fn: 23.0000 - fp: 13.0000 - tn: 159191.0000 - tp: 264.0000 - precision: 0.9531 - recall: 0.9199 - val_loss: 0.0066 - val_fn: 13.0000 - val_fp: 7.0000 - val_tn: 39797.0000 - val_tp: 56.0000 - val_precision: 0.8889 - val_recall: 0.8116\n",
      "Epoch 228/300\n",
      "78/78 [==============================] - 8s 97ms/step - loss: 7.0525e-04 - fn: 29.0000 - fp: 11.0000 - tn: 159193.0000 - tp: 258.0000 - precision: 0.9591 - recall: 0.8990 - val_loss: 0.0066 - val_fn: 13.0000 - val_fp: 8.0000 - val_tn: 39796.0000 - val_tp: 56.0000 - val_precision: 0.8750 - val_recall: 0.8116\n",
      "Epoch 229/300\n",
      "78/78 [==============================] - 7s 94ms/step - loss: 7.3452e-04 - fn: 29.0000 - fp: 6.0000 - tn: 159198.0000 - tp: 258.0000 - precision: 0.9773 - recall: 0.8990 - val_loss: 0.0070 - val_fn: 13.0000 - val_fp: 9.0000 - val_tn: 39795.0000 - val_tp: 56.0000 - val_precision: 0.8615 - val_recall: 0.8116\n",
      "Epoch 230/300\n",
      "78/78 [==============================] - 6s 73ms/step - loss: 7.4602e-04 - fn: 30.0000 - fp: 5.0000 - tn: 159199.0000 - tp: 257.0000 - precision: 0.9809 - recall: 0.8955 - val_loss: 0.0069 - val_fn: 13.0000 - val_fp: 8.0000 - val_tn: 39796.0000 - val_tp: 56.0000 - val_precision: 0.8750 - val_recall: 0.8116\n",
      "Epoch 231/300\n",
      "78/78 [==============================] - 4s 57ms/step - loss: 7.7753e-04 - fn: 25.0000 - fp: 11.0000 - tn: 159193.0000 - tp: 262.0000 - precision: 0.9597 - recall: 0.9129 - val_loss: 0.0067 - val_fn: 13.0000 - val_fp: 8.0000 - val_tn: 39796.0000 - val_tp: 56.0000 - val_precision: 0.8750 - val_recall: 0.8116\n",
      "Epoch 232/300\n"
     ]
    },
    {
     "name": "stdout",
     "output_type": "stream",
     "text": [
      "78/78 [==============================] - 4s 57ms/step - loss: 7.8205e-04 - fn: 29.0000 - fp: 11.0000 - tn: 159193.0000 - tp: 258.0000 - precision: 0.9591 - recall: 0.8990 - val_loss: 0.0067 - val_fn: 13.0000 - val_fp: 8.0000 - val_tn: 39796.0000 - val_tp: 56.0000 - val_precision: 0.8750 - val_recall: 0.8116\n",
      "Epoch 233/300\n",
      "78/78 [==============================] - 5s 59ms/step - loss: 7.8501e-04 - fn: 24.0000 - fp: 7.0000 - tn: 159197.0000 - tp: 263.0000 - precision: 0.9741 - recall: 0.9164 - val_loss: 0.0066 - val_fn: 13.0000 - val_fp: 6.0000 - val_tn: 39798.0000 - val_tp: 56.0000 - val_precision: 0.9032 - val_recall: 0.8116\n",
      "Epoch 234/300\n",
      "78/78 [==============================] - 4s 53ms/step - loss: 8.6464e-04 - fn: 29.0000 - fp: 13.0000 - tn: 159191.0000 - tp: 258.0000 - precision: 0.9520 - recall: 0.8990 - val_loss: 0.0066 - val_fn: 13.0000 - val_fp: 8.0000 - val_tn: 39796.0000 - val_tp: 56.0000 - val_precision: 0.8750 - val_recall: 0.8116\n",
      "Epoch 235/300\n",
      "78/78 [==============================] - 6s 82ms/step - loss: 6.4715e-04 - fn: 23.0000 - fp: 11.0000 - tn: 159193.0000 - tp: 264.0000 - precision: 0.9600 - recall: 0.9199 - val_loss: 0.0067 - val_fn: 13.0000 - val_fp: 7.0000 - val_tn: 39797.0000 - val_tp: 56.0000 - val_precision: 0.8889 - val_recall: 0.8116\n",
      "Epoch 236/300\n",
      "78/78 [==============================] - 6s 80ms/step - loss: 7.3757e-04 - fn: 27.0000 - fp: 8.0000 - tn: 159196.0000 - tp: 260.0000 - precision: 0.9701 - recall: 0.9059 - val_loss: 0.0068 - val_fn: 13.0000 - val_fp: 9.0000 - val_tn: 39795.0000 - val_tp: 56.0000 - val_precision: 0.8615 - val_recall: 0.8116\n",
      "Epoch 237/300\n",
      "78/78 [==============================] - 5s 65ms/step - loss: 7.3664e-04 - fn: 29.0000 - fp: 11.0000 - tn: 159193.0000 - tp: 258.0000 - precision: 0.9591 - recall: 0.8990 - val_loss: 0.0069 - val_fn: 13.0000 - val_fp: 10.0000 - val_tn: 39794.0000 - val_tp: 56.0000 - val_precision: 0.8485 - val_recall: 0.8116\n",
      "Epoch 238/300\n",
      "78/78 [==============================] - 7s 89ms/step - loss: 6.2710e-04 - fn: 26.0000 - fp: 9.0000 - tn: 159195.0000 - tp: 261.0000 - precision: 0.9667 - recall: 0.9094 - val_loss: 0.0068 - val_fn: 13.0000 - val_fp: 9.0000 - val_tn: 39795.0000 - val_tp: 56.0000 - val_precision: 0.8615 - val_recall: 0.8116\n",
      "Epoch 239/300\n",
      "78/78 [==============================] - 6s 80ms/step - loss: 6.7220e-04 - fn: 23.0000 - fp: 7.0000 - tn: 159197.0000 - tp: 264.0000 - precision: 0.9742 - recall: 0.9199 - val_loss: 0.0069 - val_fn: 13.0000 - val_fp: 9.0000 - val_tn: 39795.0000 - val_tp: 56.0000 - val_precision: 0.8615 - val_recall: 0.8116\n",
      "Epoch 240/300\n",
      "78/78 [==============================] - 7s 92ms/step - loss: 6.3255e-04 - fn: 25.0000 - fp: 9.0000 - tn: 159195.0000 - tp: 262.0000 - precision: 0.9668 - recall: 0.9129 - val_loss: 0.0070 - val_fn: 13.0000 - val_fp: 11.0000 - val_tn: 39793.0000 - val_tp: 56.0000 - val_precision: 0.8358 - val_recall: 0.8116\n",
      "Epoch 241/300\n",
      "78/78 [==============================] - 5s 68ms/step - loss: 7.3959e-04 - fn: 28.0000 - fp: 11.0000 - tn: 159193.0000 - tp: 259.0000 - precision: 0.9593 - recall: 0.9024 - val_loss: 0.0069 - val_fn: 13.0000 - val_fp: 9.0000 - val_tn: 39795.0000 - val_tp: 56.0000 - val_precision: 0.8615 - val_recall: 0.8116\n",
      "Epoch 242/300\n",
      "78/78 [==============================] - 5s 59ms/step - loss: 6.9811e-04 - fn: 26.0000 - fp: 11.0000 - tn: 159193.0000 - tp: 261.0000 - precision: 0.9596 - recall: 0.9094 - val_loss: 0.0067 - val_fn: 13.0000 - val_fp: 8.0000 - val_tn: 39796.0000 - val_tp: 56.0000 - val_precision: 0.8750 - val_recall: 0.8116\n",
      "Epoch 243/300\n",
      "78/78 [==============================] - 4s 55ms/step - loss: 7.3561e-04 - fn: 27.0000 - fp: 11.0000 - tn: 159193.0000 - tp: 260.0000 - precision: 0.9594 - recall: 0.9059 - val_loss: 0.0068 - val_fn: 13.0000 - val_fp: 9.0000 - val_tn: 39795.0000 - val_tp: 56.0000 - val_precision: 0.8615 - val_recall: 0.8116\n",
      "Epoch 244/300\n",
      "78/78 [==============================] - 4s 54ms/step - loss: 7.7660e-04 - fn: 23.0000 - fp: 20.0000 - tn: 159184.0000 - tp: 264.0000 - precision: 0.9296 - recall: 0.9199 - val_loss: 0.0069 - val_fn: 13.0000 - val_fp: 7.0000 - val_tn: 39797.0000 - val_tp: 56.0000 - val_precision: 0.8889 - val_recall: 0.8116\n",
      "Epoch 245/300\n",
      "78/78 [==============================] - 5s 60ms/step - loss: 6.6680e-04 - fn: 27.0000 - fp: 7.0000 - tn: 159197.0000 - tp: 260.0000 - precision: 0.9738 - recall: 0.9059 - val_loss: 0.0069 - val_fn: 13.0000 - val_fp: 7.0000 - val_tn: 39797.0000 - val_tp: 56.0000 - val_precision: 0.8889 - val_recall: 0.8116\n",
      "Epoch 246/300\n",
      "78/78 [==============================] - 5s 70ms/step - loss: 7.2289e-04 - fn: 23.0000 - fp: 10.0000 - tn: 159194.0000 - tp: 264.0000 - precision: 0.9635 - recall: 0.9199 - val_loss: 0.0068 - val_fn: 13.0000 - val_fp: 9.0000 - val_tn: 39795.0000 - val_tp: 56.0000 - val_precision: 0.8615 - val_recall: 0.8116\n",
      "Epoch 247/300\n",
      "78/78 [==============================] - 5s 66ms/step - loss: 5.5791e-04 - fn: 21.0000 - fp: 8.0000 - tn: 159196.0000 - tp: 266.0000 - precision: 0.9708 - recall: 0.9268 - val_loss: 0.0069 - val_fn: 13.0000 - val_fp: 7.0000 - val_tn: 39797.0000 - val_tp: 56.0000 - val_precision: 0.8889 - val_recall: 0.8116\n",
      "Epoch 248/300\n",
      "78/78 [==============================] - 5s 65ms/step - loss: 6.6321e-04 - fn: 24.0000 - fp: 4.0000 - tn: 159200.0000 - tp: 263.0000 - precision: 0.9850 - recall: 0.9164 - val_loss: 0.0071 - val_fn: 13.0000 - val_fp: 10.0000 - val_tn: 39794.0000 - val_tp: 56.0000 - val_precision: 0.8485 - val_recall: 0.8116\n",
      "Epoch 249/300\n",
      "78/78 [==============================] - 5s 66ms/step - loss: 7.4501e-04 - fn: 26.0000 - fp: 15.0000 - tn: 159189.0000 - tp: 261.0000 - precision: 0.9457 - recall: 0.9094 - val_loss: 0.0070 - val_fn: 13.0000 - val_fp: 8.0000 - val_tn: 39796.0000 - val_tp: 56.0000 - val_precision: 0.8750 - val_recall: 0.8116\n",
      "Epoch 250/300\n",
      "78/78 [==============================] - 5s 61ms/step - loss: 8.6706e-04 - fn: 33.0000 - fp: 13.0000 - tn: 159191.0000 - tp: 254.0000 - precision: 0.9513 - recall: 0.8850 - val_loss: 0.0072 - val_fn: 13.0000 - val_fp: 8.0000 - val_tn: 39796.0000 - val_tp: 56.0000 - val_precision: 0.8750 - val_recall: 0.8116\n",
      "Epoch 251/300\n",
      "78/78 [==============================] - 5s 62ms/step - loss: 5.9124e-04 - fn: 24.0000 - fp: 9.0000 - tn: 159195.0000 - tp: 263.0000 - precision: 0.9669 - recall: 0.9164 - val_loss: 0.0072 - val_fn: 13.0000 - val_fp: 9.0000 - val_tn: 39795.0000 - val_tp: 56.0000 - val_precision: 0.8615 - val_recall: 0.8116\n",
      "Epoch 252/300\n",
      "78/78 [==============================] - 5s 62ms/step - loss: 7.5005e-04 - fn: 23.0000 - fp: 9.0000 - tn: 159195.0000 - tp: 264.0000 - precision: 0.9670 - recall: 0.9199 - val_loss: 0.0070 - val_fn: 13.0000 - val_fp: 8.0000 - val_tn: 39796.0000 - val_tp: 56.0000 - val_precision: 0.8750 - val_recall: 0.8116\n",
      "Epoch 253/300\n",
      "78/78 [==============================] - 5s 63ms/step - loss: 6.5614e-04 - fn: 22.0000 - fp: 5.0000 - tn: 159199.0000 - tp: 265.0000 - precision: 0.9815 - recall: 0.9233 - val_loss: 0.0070 - val_fn: 13.0000 - val_fp: 10.0000 - val_tn: 39794.0000 - val_tp: 56.0000 - val_precision: 0.8485 - val_recall: 0.8116\n",
      "Epoch 254/300\n",
      "78/78 [==============================] - 5s 64ms/step - loss: 6.4682e-04 - fn: 22.0000 - fp: 10.0000 - tn: 159194.0000 - tp: 265.0000 - precision: 0.9636 - recall: 0.9233 - val_loss: 0.0070 - val_fn: 13.0000 - val_fp: 9.0000 - val_tn: 39795.0000 - val_tp: 56.0000 - val_precision: 0.8615 - val_recall: 0.8116\n",
      "Epoch 255/300\n",
      "78/78 [==============================] - 5s 62ms/step - loss: 6.4697e-04 - fn: 20.0000 - fp: 8.0000 - tn: 159196.0000 - tp: 267.0000 - precision: 0.9709 - recall: 0.9303 - val_loss: 0.0071 - val_fn: 13.0000 - val_fp: 7.0000 - val_tn: 39797.0000 - val_tp: 56.0000 - val_precision: 0.8889 - val_recall: 0.8116\n",
      "Epoch 256/300\n",
      "78/78 [==============================] - 5s 61ms/step - loss: 8.4180e-04 - fn: 27.0000 - fp: 8.0000 - tn: 159196.0000 - tp: 260.0000 - precision: 0.9701 - recall: 0.9059 - val_loss: 0.0069 - val_fn: 13.0000 - val_fp: 8.0000 - val_tn: 39796.0000 - val_tp: 56.0000 - val_precision: 0.8750 - val_recall: 0.8116\n",
      "Epoch 257/300\n"
     ]
    },
    {
     "name": "stdout",
     "output_type": "stream",
     "text": [
      "78/78 [==============================] - 5s 64ms/step - loss: 5.4519e-04 - fn: 21.0000 - fp: 7.0000 - tn: 159197.0000 - tp: 266.0000 - precision: 0.9744 - recall: 0.9268 - val_loss: 0.0069 - val_fn: 13.0000 - val_fp: 9.0000 - val_tn: 39795.0000 - val_tp: 56.0000 - val_precision: 0.8615 - val_recall: 0.8116\n",
      "Epoch 258/300\n",
      "78/78 [==============================] - 5s 65ms/step - loss: 6.4495e-04 - fn: 26.0000 - fp: 9.0000 - tn: 159195.0000 - tp: 261.0000 - precision: 0.9667 - recall: 0.9094 - val_loss: 0.0070 - val_fn: 13.0000 - val_fp: 10.0000 - val_tn: 39794.0000 - val_tp: 56.0000 - val_precision: 0.8485 - val_recall: 0.8116\n",
      "Epoch 259/300\n",
      "78/78 [==============================] - 5s 68ms/step - loss: 6.0248e-04 - fn: 18.0000 - fp: 8.0000 - tn: 159196.0000 - tp: 269.0000 - precision: 0.9711 - recall: 0.9373 - val_loss: 0.0069 - val_fn: 13.0000 - val_fp: 7.0000 - val_tn: 39797.0000 - val_tp: 56.0000 - val_precision: 0.8889 - val_recall: 0.8116\n",
      "Epoch 260/300\n",
      "78/78 [==============================] - 6s 71ms/step - loss: 6.1443e-04 - fn: 26.0000 - fp: 7.0000 - tn: 159197.0000 - tp: 261.0000 - precision: 0.9739 - recall: 0.9094 - val_loss: 0.0071 - val_fn: 13.0000 - val_fp: 10.0000 - val_tn: 39794.0000 - val_tp: 56.0000 - val_precision: 0.8485 - val_recall: 0.8116\n",
      "Epoch 261/300\n",
      "78/78 [==============================] - 6s 71ms/step - loss: 5.6552e-04 - fn: 25.0000 - fp: 9.0000 - tn: 159195.0000 - tp: 262.0000 - precision: 0.9668 - recall: 0.9129 - val_loss: 0.0070 - val_fn: 13.0000 - val_fp: 9.0000 - val_tn: 39795.0000 - val_tp: 56.0000 - val_precision: 0.8615 - val_recall: 0.8116\n",
      "Epoch 262/300\n",
      "78/78 [==============================] - 6s 76ms/step - loss: 4.7501e-04 - fn: 15.0000 - fp: 6.0000 - tn: 159198.0000 - tp: 272.0000 - precision: 0.9784 - recall: 0.9477 - val_loss: 0.0070 - val_fn: 13.0000 - val_fp: 8.0000 - val_tn: 39796.0000 - val_tp: 56.0000 - val_precision: 0.8750 - val_recall: 0.8116\n",
      "Epoch 263/300\n",
      "78/78 [==============================] - 5s 62ms/step - loss: 5.2105e-04 - fn: 25.0000 - fp: 8.0000 - tn: 159196.0000 - tp: 262.0000 - precision: 0.9704 - recall: 0.9129 - val_loss: 0.0069 - val_fn: 13.0000 - val_fp: 7.0000 - val_tn: 39797.0000 - val_tp: 56.0000 - val_precision: 0.8889 - val_recall: 0.8116\n",
      "Epoch 264/300\n",
      "78/78 [==============================] - 5s 58ms/step - loss: 5.9606e-04 - fn: 20.0000 - fp: 7.0000 - tn: 159197.0000 - tp: 267.0000 - precision: 0.9745 - recall: 0.9303 - val_loss: 0.0068 - val_fn: 13.0000 - val_fp: 7.0000 - val_tn: 39797.0000 - val_tp: 56.0000 - val_precision: 0.8889 - val_recall: 0.8116\n",
      "Epoch 265/300\n",
      "78/78 [==============================] - 4s 56ms/step - loss: 4.8596e-04 - fn: 23.0000 - fp: 3.0000 - tn: 159201.0000 - tp: 264.0000 - precision: 0.9888 - recall: 0.9199 - val_loss: 0.0068 - val_fn: 14.0000 - val_fp: 7.0000 - val_tn: 39797.0000 - val_tp: 55.0000 - val_precision: 0.8871 - val_recall: 0.7971\n",
      "Epoch 266/300\n",
      "78/78 [==============================] - 5s 64ms/step - loss: 6.6388e-04 - fn: 20.0000 - fp: 5.0000 - tn: 159199.0000 - tp: 267.0000 - precision: 0.9816 - recall: 0.9303 - val_loss: 0.0071 - val_fn: 14.0000 - val_fp: 10.0000 - val_tn: 39794.0000 - val_tp: 55.0000 - val_precision: 0.8462 - val_recall: 0.7971\n",
      "Epoch 267/300\n",
      "78/78 [==============================] - 5s 58ms/step - loss: 5.1225e-04 - fn: 18.0000 - fp: 6.0000 - tn: 159198.0000 - tp: 269.0000 - precision: 0.9782 - recall: 0.9373 - val_loss: 0.0070 - val_fn: 14.0000 - val_fp: 7.0000 - val_tn: 39797.0000 - val_tp: 55.0000 - val_precision: 0.8871 - val_recall: 0.7971\n",
      "Epoch 268/300\n",
      "78/78 [==============================] - 6s 71ms/step - loss: 6.8442e-04 - fn: 22.0000 - fp: 10.0000 - tn: 159194.0000 - tp: 265.0000 - precision: 0.9636 - recall: 0.9233 - val_loss: 0.0068 - val_fn: 13.0000 - val_fp: 5.0000 - val_tn: 39799.0000 - val_tp: 56.0000 - val_precision: 0.9180 - val_recall: 0.8116\n",
      "Epoch 269/300\n",
      "78/78 [==============================] - 5s 65ms/step - loss: 7.3312e-04 - fn: 24.0000 - fp: 9.0000 - tn: 159195.0000 - tp: 263.0000 - precision: 0.9669 - recall: 0.9164 - val_loss: 0.0070 - val_fn: 13.0000 - val_fp: 7.0000 - val_tn: 39797.0000 - val_tp: 56.0000 - val_precision: 0.8889 - val_recall: 0.8116\n",
      "Epoch 270/300\n",
      "78/78 [==============================] - 5s 68ms/step - loss: 5.4995e-04 - fn: 23.0000 - fp: 8.0000 - tn: 159196.0000 - tp: 264.0000 - precision: 0.9706 - recall: 0.9199 - val_loss: 0.0070 - val_fn: 13.0000 - val_fp: 9.0000 - val_tn: 39795.0000 - val_tp: 56.0000 - val_precision: 0.8615 - val_recall: 0.8116\n",
      "Epoch 271/300\n",
      "78/78 [==============================] - 5s 61ms/step - loss: 6.3643e-04 - fn: 22.0000 - fp: 8.0000 - tn: 159196.0000 - tp: 265.0000 - precision: 0.9707 - recall: 0.9233 - val_loss: 0.0070 - val_fn: 13.0000 - val_fp: 11.0000 - val_tn: 39793.0000 - val_tp: 56.0000 - val_precision: 0.8358 - val_recall: 0.8116\n",
      "Epoch 272/300\n",
      "78/78 [==============================] - 5s 62ms/step - loss: 6.2752e-04 - fn: 23.0000 - fp: 3.0000 - tn: 159201.0000 - tp: 264.0000 - precision: 0.9888 - recall: 0.9199 - val_loss: 0.0069 - val_fn: 13.0000 - val_fp: 10.0000 - val_tn: 39794.0000 - val_tp: 56.0000 - val_precision: 0.8485 - val_recall: 0.8116\n",
      "Epoch 273/300\n",
      "78/78 [==============================] - 5s 62ms/step - loss: 6.3004e-04 - fn: 22.0000 - fp: 9.0000 - tn: 159195.0000 - tp: 265.0000 - precision: 0.9672 - recall: 0.9233 - val_loss: 0.0068 - val_fn: 13.0000 - val_fp: 8.0000 - val_tn: 39796.0000 - val_tp: 56.0000 - val_precision: 0.8750 - val_recall: 0.8116\n",
      "Epoch 274/300\n",
      "78/78 [==============================] - 5s 63ms/step - loss: 5.8907e-04 - fn: 19.0000 - fp: 9.0000 - tn: 159195.0000 - tp: 268.0000 - precision: 0.9675 - recall: 0.9338 - val_loss: 0.0068 - val_fn: 13.0000 - val_fp: 8.0000 - val_tn: 39796.0000 - val_tp: 56.0000 - val_precision: 0.8750 - val_recall: 0.8116\n",
      "Epoch 275/300\n",
      "78/78 [==============================] - 5s 58ms/step - loss: 6.1524e-04 - fn: 23.0000 - fp: 4.0000 - tn: 159200.0000 - tp: 264.0000 - precision: 0.9851 - recall: 0.9199 - val_loss: 0.0069 - val_fn: 13.0000 - val_fp: 8.0000 - val_tn: 39796.0000 - val_tp: 56.0000 - val_precision: 0.8750 - val_recall: 0.8116\n",
      "Epoch 276/300\n",
      "78/78 [==============================] - 4s 57ms/step - loss: 5.3957e-04 - fn: 19.0000 - fp: 10.0000 - tn: 159194.0000 - tp: 268.0000 - precision: 0.9640 - recall: 0.9338 - val_loss: 0.0067 - val_fn: 14.0000 - val_fp: 7.0000 - val_tn: 39797.0000 - val_tp: 55.0000 - val_precision: 0.8871 - val_recall: 0.7971\n",
      "Epoch 277/300\n",
      "78/78 [==============================] - 4s 57ms/step - loss: 5.4321e-04 - fn: 22.0000 - fp: 9.0000 - tn: 159195.0000 - tp: 265.0000 - precision: 0.9672 - recall: 0.9233 - val_loss: 0.0069 - val_fn: 14.0000 - val_fp: 7.0000 - val_tn: 39797.0000 - val_tp: 55.0000 - val_precision: 0.8871 - val_recall: 0.7971\n",
      "Epoch 278/300\n",
      "78/78 [==============================] - 5s 59ms/step - loss: 6.4750e-04 - fn: 22.0000 - fp: 10.0000 - tn: 159194.0000 - tp: 265.0000 - precision: 0.9636 - recall: 0.9233 - val_loss: 0.0069 - val_fn: 13.0000 - val_fp: 8.0000 - val_tn: 39796.0000 - val_tp: 56.0000 - val_precision: 0.8750 - val_recall: 0.8116\n",
      "Epoch 279/300\n",
      "78/78 [==============================] - 8s 109ms/step - loss: 6.7704e-04 - fn: 21.0000 - fp: 9.0000 - tn: 159195.0000 - tp: 266.0000 - precision: 0.9673 - recall: 0.9268 - val_loss: 0.0069 - val_fn: 14.0000 - val_fp: 7.0000 - val_tn: 39797.0000 - val_tp: 55.0000 - val_precision: 0.8871 - val_recall: 0.7971\n",
      "Epoch 280/300\n",
      "78/78 [==============================] - 9s 112ms/step - loss: 5.6318e-04 - fn: 18.0000 - fp: 8.0000 - tn: 159196.0000 - tp: 269.0000 - precision: 0.9711 - recall: 0.9373 - val_loss: 0.0071 - val_fn: 14.0000 - val_fp: 8.0000 - val_tn: 39796.0000 - val_tp: 55.0000 - val_precision: 0.8730 - val_recall: 0.7971\n",
      "Epoch 281/300\n",
      "78/78 [==============================] - 9s 111ms/step - loss: 6.0470e-04 - fn: 25.0000 - fp: 8.0000 - tn: 159196.0000 - tp: 262.0000 - precision: 0.9704 - recall: 0.9129 - val_loss: 0.0071 - val_fn: 14.0000 - val_fp: 8.0000 - val_tn: 39796.0000 - val_tp: 55.0000 - val_precision: 0.8730 - val_recall: 0.7971\n",
      "Epoch 282/300\n"
     ]
    },
    {
     "name": "stdout",
     "output_type": "stream",
     "text": [
      "78/78 [==============================] - 9s 113ms/step - loss: 4.0715e-04 - fn: 18.0000 - fp: 2.0000 - tn: 159202.0000 - tp: 269.0000 - precision: 0.9926 - recall: 0.9373 - val_loss: 0.0073 - val_fn: 13.0000 - val_fp: 8.0000 - val_tn: 39796.0000 - val_tp: 56.0000 - val_precision: 0.8750 - val_recall: 0.8116\n",
      "Epoch 283/300\n",
      "78/78 [==============================] - 9s 111ms/step - loss: 5.9705e-04 - fn: 16.0000 - fp: 9.0000 - tn: 159195.0000 - tp: 271.0000 - precision: 0.9679 - recall: 0.9443 - val_loss: 0.0071 - val_fn: 13.0000 - val_fp: 8.0000 - val_tn: 39796.0000 - val_tp: 56.0000 - val_precision: 0.8750 - val_recall: 0.8116\n",
      "Epoch 284/300\n",
      "78/78 [==============================] - 9s 111ms/step - loss: 5.4527e-04 - fn: 21.0000 - fp: 7.0000 - tn: 159197.0000 - tp: 266.0000 - precision: 0.9744 - recall: 0.9268 - val_loss: 0.0072 - val_fn: 13.0000 - val_fp: 9.0000 - val_tn: 39795.0000 - val_tp: 56.0000 - val_precision: 0.8615 - val_recall: 0.8116\n",
      "Epoch 285/300\n",
      "78/78 [==============================] - 8s 106ms/step - loss: 5.4684e-04 - fn: 20.0000 - fp: 7.0000 - tn: 159197.0000 - tp: 267.0000 - precision: 0.9745 - recall: 0.9303 - val_loss: 0.0072 - val_fn: 13.0000 - val_fp: 8.0000 - val_tn: 39796.0000 - val_tp: 56.0000 - val_precision: 0.8750 - val_recall: 0.8116\n",
      "Epoch 286/300\n",
      "78/78 [==============================] - 9s 111ms/step - loss: 6.0656e-04 - fn: 20.0000 - fp: 6.0000 - tn: 159198.0000 - tp: 267.0000 - precision: 0.9780 - recall: 0.9303 - val_loss: 0.0072 - val_fn: 13.0000 - val_fp: 8.0000 - val_tn: 39796.0000 - val_tp: 56.0000 - val_precision: 0.8750 - val_recall: 0.8116\n",
      "Epoch 287/300\n",
      "78/78 [==============================] - 9s 110ms/step - loss: 6.0148e-04 - fn: 20.0000 - fp: 5.0000 - tn: 159199.0000 - tp: 267.0000 - precision: 0.9816 - recall: 0.9303 - val_loss: 0.0073 - val_fn: 13.0000 - val_fp: 9.0000 - val_tn: 39795.0000 - val_tp: 56.0000 - val_precision: 0.8615 - val_recall: 0.8116\n",
      "Epoch 288/300\n",
      "78/78 [==============================] - 9s 112ms/step - loss: 5.1982e-04 - fn: 17.0000 - fp: 9.0000 - tn: 159195.0000 - tp: 270.0000 - precision: 0.9677 - recall: 0.9408 - val_loss: 0.0071 - val_fn: 13.0000 - val_fp: 10.0000 - val_tn: 39794.0000 - val_tp: 56.0000 - val_precision: 0.8485 - val_recall: 0.8116\n",
      "Epoch 289/300\n",
      "78/78 [==============================] - 9s 113ms/step - loss: 5.0244e-04 - fn: 17.0000 - fp: 7.0000 - tn: 159197.0000 - tp: 270.0000 - precision: 0.9747 - recall: 0.9408 - val_loss: 0.0073 - val_fn: 13.0000 - val_fp: 9.0000 - val_tn: 39795.0000 - val_tp: 56.0000 - val_precision: 0.8615 - val_recall: 0.8116\n",
      "Epoch 290/300\n",
      "78/78 [==============================] - 9s 112ms/step - loss: 6.0609e-04 - fn: 17.0000 - fp: 12.0000 - tn: 159192.0000 - tp: 270.0000 - precision: 0.9574 - recall: 0.9408 - val_loss: 0.0070 - val_fn: 14.0000 - val_fp: 6.0000 - val_tn: 39798.0000 - val_tp: 55.0000 - val_precision: 0.9016 - val_recall: 0.7971\n",
      "Epoch 291/300\n",
      "78/78 [==============================] - 9s 112ms/step - loss: 5.3073e-04 - fn: 19.0000 - fp: 3.0000 - tn: 159201.0000 - tp: 268.0000 - precision: 0.9889 - recall: 0.9338 - val_loss: 0.0073 - val_fn: 13.0000 - val_fp: 8.0000 - val_tn: 39796.0000 - val_tp: 56.0000 - val_precision: 0.8750 - val_recall: 0.8116\n",
      "Epoch 292/300\n",
      "78/78 [==============================] - 9s 112ms/step - loss: 5.1684e-04 - fn: 17.0000 - fp: 6.0000 - tn: 159198.0000 - tp: 270.0000 - precision: 0.9783 - recall: 0.9408 - val_loss: 0.0072 - val_fn: 14.0000 - val_fp: 7.0000 - val_tn: 39797.0000 - val_tp: 55.0000 - val_precision: 0.8871 - val_recall: 0.7971\n",
      "Epoch 293/300\n",
      "78/78 [==============================] - 9s 111ms/step - loss: 6.2149e-04 - fn: 24.0000 - fp: 6.0000 - tn: 159198.0000 - tp: 263.0000 - precision: 0.9777 - recall: 0.9164 - val_loss: 0.0073 - val_fn: 14.0000 - val_fp: 9.0000 - val_tn: 39795.0000 - val_tp: 55.0000 - val_precision: 0.8594 - val_recall: 0.7971\n",
      "Epoch 294/300\n",
      "78/78 [==============================] - 9s 110ms/step - loss: 5.3271e-04 - fn: 19.0000 - fp: 9.0000 - tn: 159195.0000 - tp: 268.0000 - precision: 0.9675 - recall: 0.9338 - val_loss: 0.0073 - val_fn: 14.0000 - val_fp: 7.0000 - val_tn: 39797.0000 - val_tp: 55.0000 - val_precision: 0.8871 - val_recall: 0.7971\n",
      "Epoch 295/300\n",
      "78/78 [==============================] - 9s 111ms/step - loss: 6.7860e-04 - fn: 23.0000 - fp: 9.0000 - tn: 159195.0000 - tp: 264.0000 - precision: 0.9670 - recall: 0.9199 - val_loss: 0.0070 - val_fn: 14.0000 - val_fp: 7.0000 - val_tn: 39797.0000 - val_tp: 55.0000 - val_precision: 0.8871 - val_recall: 0.7971\n",
      "Epoch 296/300\n",
      "78/78 [==============================] - 9s 111ms/step - loss: 5.4998e-04 - fn: 24.0000 - fp: 5.0000 - tn: 159199.0000 - tp: 263.0000 - precision: 0.9813 - recall: 0.9164 - val_loss: 0.0073 - val_fn: 13.0000 - val_fp: 12.0000 - val_tn: 39792.0000 - val_tp: 56.0000 - val_precision: 0.8235 - val_recall: 0.8116\n",
      "Epoch 297/300\n",
      "78/78 [==============================] - 9s 111ms/step - loss: 4.5350e-04 - fn: 18.0000 - fp: 7.0000 - tn: 159197.0000 - tp: 269.0000 - precision: 0.9746 - recall: 0.9373 - val_loss: 0.0073 - val_fn: 13.0000 - val_fp: 10.0000 - val_tn: 39794.0000 - val_tp: 56.0000 - val_precision: 0.8485 - val_recall: 0.8116\n",
      "Epoch 298/300\n",
      "78/78 [==============================] - 9s 111ms/step - loss: 5.7842e-04 - fn: 22.0000 - fp: 8.0000 - tn: 159196.0000 - tp: 265.0000 - precision: 0.9707 - recall: 0.9233 - val_loss: 0.0072 - val_fn: 13.0000 - val_fp: 8.0000 - val_tn: 39796.0000 - val_tp: 56.0000 - val_precision: 0.8750 - val_recall: 0.8116\n",
      "Epoch 299/300\n",
      "78/78 [==============================] - 9s 111ms/step - loss: 6.2469e-04 - fn: 22.0000 - fp: 13.0000 - tn: 159191.0000 - tp: 265.0000 - precision: 0.9532 - recall: 0.9233 - val_loss: 0.0072 - val_fn: 13.0000 - val_fp: 8.0000 - val_tn: 39796.0000 - val_tp: 56.0000 - val_precision: 0.8750 - val_recall: 0.8116\n",
      "Epoch 300/300\n",
      "78/78 [==============================] - 9s 111ms/step - loss: 6.1097e-04 - fn: 23.0000 - fp: 9.0000 - tn: 159195.0000 - tp: 264.0000 - precision: 0.9670 - recall: 0.9199 - val_loss: 0.0071 - val_fn: 13.0000 - val_fp: 10.0000 - val_tn: 39794.0000 - val_tp: 56.0000 - val_precision: 0.8485 - val_recall: 0.8116\n"
     ]
    }
   ],
   "source": [
    "METRICS = [\n",
    "#     keras.metrics.Accuracy(name='accuracy'),\n",
    "    keras.metrics.FalseNegatives(name='fn'),\n",
    "    keras.metrics.FalsePositives(name='fp'),\n",
    "    keras.metrics.TrueNegatives(name='tn'),\n",
    "    keras.metrics.TruePositives(name='tp'),\n",
    "    keras.metrics.Precision(name='precision'),\n",
    "    keras.metrics.Recall(name='recall')\n",
    "]\n",
    "\n",
    "model.compile(optimizer=keras.optimizers.Adam(1e-4), loss='binary_crossentropy', metrics=METRICS)\n",
    "\n",
    "callbacks = [keras.callbacks.ModelCheckpoint('fraud_model_at_epoch_{epoch}.h5')]\n",
    "class_weight = {0:w_p, 1:w_n}\n",
    "\n",
    "r = model.fit(\n",
    "    X_train, y_train, \n",
    "    validation_data=(X_validate, y_validate),\n",
    "    batch_size=2048, \n",
    "    epochs=300, \n",
    "#     class_weight=class_weight,\n",
    "    callbacks=callbacks,\n",
    ")"
   ]
  },
  {
   "cell_type": "code",
   "execution_count": 24,
   "id": "d4ff6c79",
   "metadata": {
    "execution": {
     "iopub.execute_input": "2023-01-31T13:10:51.560413Z",
     "iopub.status.busy": "2023-01-31T13:10:51.559885Z",
     "iopub.status.idle": "2023-01-31T13:11:12.128529Z",
     "shell.execute_reply": "2023-01-31T13:11:12.127328Z"
    },
    "papermill": {
     "duration": 20.914894,
     "end_time": "2023-01-31T13:11:12.131067",
     "exception": false,
     "start_time": "2023-01-31T13:10:51.216173",
     "status": "completed"
    },
    "scrolled": true,
    "tags": []
   },
   "outputs": [
    {
     "name": "stdout",
     "output_type": "stream",
     "text": [
      "2671/2671 [==============================] - 13s 5ms/step - loss: 0.0040 - fn: 26.0000 - fp: 12.0000 - tn: 85295.0000 - tp: 110.0000 - precision: 0.9016 - recall: 0.8088\n",
      "[0.004014603327959776, 26.0, 12.0, 85295.0, 110.0, 0.9016393423080444, 0.8088235259056091]\n"
     ]
    }
   ],
   "source": [
    "score = model.evaluate(X_test, y_test)\n",
    "print(score)"
   ]
  },
  {
   "cell_type": "code",
   "execution_count": 25,
   "id": "834b09dd",
   "metadata": {
    "execution": {
     "iopub.execute_input": "2023-01-31T13:11:12.578697Z",
     "iopub.status.busy": "2023-01-31T13:11:12.578320Z",
     "iopub.status.idle": "2023-01-31T13:11:13.417323Z",
     "shell.execute_reply": "2023-01-31T13:11:13.416307Z"
    },
    "papermill": {
     "duration": 1.061233,
     "end_time": "2023-01-31T13:11:13.421019",
     "exception": false,
     "start_time": "2023-01-31T13:11:12.359786",
     "status": "completed"
    },
    "tags": []
   },
   "outputs": [
    {
     "data": {
      "text/plain": [
       "<matplotlib.legend.Legend at 0x20e0ee242e0>"
      ]
     },
     "execution_count": 25,
     "metadata": {},
     "output_type": "execute_result"
    },
    {
     "data": {
      "image/png": "[encoded data removed]",
      "text/plain": [
       "<Figure size 1200x1600 with 4 Axes>"
      ]
     },
     "metadata": {},
     "output_type": "display_data"
    }
   ],
   "source": [
    "plt.figure(figsize=(12, 16))\n",
    "\n",
    "plt.subplot(4, 2, 1)\n",
    "plt.plot(r.history['loss'], label='Loss')\n",
    "plt.plot(r.history['val_loss'], label='val_Loss')\n",
    "plt.title('Loss Function evolution during training')\n",
    "plt.legend()\n",
    "\n",
    "plt.subplot(4, 2, 2)\n",
    "plt.plot(r.history['fn'], label='fn')\n",
    "plt.plot(r.history['val_fn'], label='val_fn')\n",
    "plt.title('Accuracy evolution during training')\n",
    "plt.legend()\n",
    "\n",
    "plt.subplot(4, 2, 3)\n",
    "plt.plot(r.history['precision'], label='precision')\n",
    "plt.plot(r.history['val_precision'], label='val_precision')\n",
    "plt.title('Precision evolution during training')\n",
    "plt.legend()\n",
    "\n",
    "plt.subplot(4, 2, 4)\n",
    "plt.plot(r.history['recall'], label='recall')\n",
    "plt.plot(r.history['val_recall'], label='val_recall')\n",
    "plt.title('Recall evolution during training')\n",
    "plt.legend()"
   ]
  },
  {
   "cell_type": "code",
   "execution_count": 26,
   "id": "fe4fd5a8",
   "metadata": {
    "execution": {
     "iopub.execute_input": "2023-01-31T13:11:14.017575Z",
     "iopub.status.busy": "2023-01-31T13:11:14.016357Z",
     "iopub.status.idle": "2023-01-31T13:11:22.530970Z",
     "shell.execute_reply": "2023-01-31T13:11:22.529961Z"
    },
    "papermill": {
     "duration": 8.750844,
     "end_time": "2023-01-31T13:11:22.533236",
     "exception": false,
     "start_time": "2023-01-31T13:11:13.782392",
     "status": "completed"
    },
    "tags": []
   },
   "outputs": [
    {
     "name": "stdout",
     "output_type": "stream",
     "text": [
      "4985/4985 [==============================] - 20s 4ms/step\n",
      "2671/2671 [==============================] - 11s 4ms/step\n",
      "Train Result:\n",
      "================================================\n",
      "Accuracy Score: 100.00%\n",
      "_______________________________________________\n",
      "Classification Report:\n",
      "                  0      1  accuracy  macro avg  weighted avg\n",
      "precision      1.00   1.00      1.00       1.00          1.00\n",
      "recall         1.00   0.98      1.00       0.99          1.00\n",
      "f1-score       1.00   0.99      1.00       0.99          1.00\n",
      "support   159204.00 287.00      1.00  159491.00     159491.00\n",
      "_______________________________________________\n",
      "Confusion Matrix: \n",
      " [[159204      0]\n",
      " [     6    281]]\n",
      "\n",
      "Test Result:\n",
      "================================================\n",
      "Accuracy Score: 99.96%\n",
      "_______________________________________________\n",
      "Classification Report:\n",
      "                 0      1  accuracy  macro avg  weighted avg\n",
      "precision     1.00   0.90      1.00       0.95          1.00\n",
      "recall        1.00   0.81      1.00       0.90          1.00\n",
      "f1-score      1.00   0.85      1.00       0.93          1.00\n",
      "support   85307.00 136.00      1.00   85443.00      85443.00\n",
      "_______________________________________________\n",
      "Confusion Matrix: \n",
      " [[85295    12]\n",
      " [   26   110]]\n",
      "\n"
     ]
    }
   ],
   "source": [
    "y_train_pred = model.predict(X_train)\n",
    "y_test_pred = model.predict(X_test)\n",
    "\n",
    "print_score(y_train, y_train_pred.round(), train=True)\n",
    "print_score(y_test, y_test_pred.round(), train=False)\n",
    "\n",
    "scores_dict = {\n",
    "    'ANNs': {\n",
    "        'Train': f1_score(y_train, y_train_pred.round()),\n",
    "        'Test': f1_score(y_test, y_test_pred.round()),\n",
    "    },\n",
    "}"
   ]
  },
  {
   "cell_type": "markdown",
   "id": "26101e9b",
   "metadata": {
    "papermill": {
     "duration": 0.221421,
     "end_time": "2023-01-31T13:11:23.027587",
     "exception": false,
     "start_time": "2023-01-31T13:11:22.806166",
     "status": "completed"
    },
    "tags": []
   },
   "source": [
    "# 4. 2. XGBoost"
   ]
  },
  {
   "cell_type": "code",
   "execution_count": 31,
   "id": "b58a597e",
   "metadata": {},
   "outputs": [
    {
     "name": "stdout",
     "output_type": "stream",
     "text": [
      "Defaulting to user installation because normal site-packages is not writeable\n",
      "Requirement already satisfied: xgboost in c:\\users\\rabhi\\appdata\\roaming\\python\\python310\\site-packages (1.7.6)\n",
      "Requirement already satisfied: numpy in c:\\programdata\\anaconda3\\lib\\site-packages (from xgboost) (1.23.5)\n",
      "Requirement already satisfied: scipy in c:\\programdata\\anaconda3\\lib\\site-packages (from xgboost) (1.10.0)\n"
     ]
    }
   ],
   "source": [
    "!pip install xgboost"
   ]
  },
  {
   "cell_type": "code",
   "execution_count": 32,
   "id": "43791c4d",
   "metadata": {
    "execution": {
     "iopub.execute_input": "2023-01-31T13:11:23.470900Z",
     "iopub.status.busy": "2023-01-31T13:11:23.470303Z",
     "iopub.status.idle": "2023-01-31T13:12:29.873078Z",
     "shell.execute_reply": "2023-01-31T13:12:29.871226Z"
    },
    "papermill": {
     "duration": 66.854226,
     "end_time": "2023-01-31T13:12:30.102408",
     "exception": false,
     "start_time": "2023-01-31T13:11:23.248182",
     "status": "completed"
    },
    "tags": []
   },
   "outputs": [
    {
     "name": "stderr",
     "output_type": "stream",
     "text": [
      "C:\\Users\\rabhi\\AppData\\Roaming\\Python\\Python310\\site-packages\\xgboost\\sklearn.py:835: UserWarning: `eval_metric` in `fit` method is deprecated for better compatibility with scikit-learn, use `eval_metric` in constructor or`set_params` instead.\n",
      "  warnings.warn(\n"
     ]
    },
    {
     "name": "stdout",
     "output_type": "stream",
     "text": [
      "Train Result:\n",
      "================================================\n",
      "Accuracy Score: 100.00%\n",
      "_______________________________________________\n",
      "Classification Report:\n",
      "                  0      1  accuracy  macro avg  weighted avg\n",
      "precision      1.00   1.00      1.00       1.00          1.00\n",
      "recall         1.00   1.00      1.00       1.00          1.00\n",
      "f1-score       1.00   1.00      1.00       1.00          1.00\n",
      "support   159204.00 287.00      1.00  159491.00     159491.00\n",
      "_______________________________________________\n",
      "Confusion Matrix: \n",
      " [[159204      0]\n",
      " [     0    287]]\n",
      "\n",
      "Test Result:\n",
      "================================================\n",
      "Accuracy Score: 99.96%\n",
      "_______________________________________________\n",
      "Classification Report:\n",
      "                 0      1  accuracy  macro avg  weighted avg\n",
      "precision     1.00   0.95      1.00       0.97          1.00\n",
      "recall        1.00   0.82      1.00       0.91          1.00\n",
      "f1-score      1.00   0.88      1.00       0.94          1.00\n",
      "support   85307.00 136.00      1.00   85443.00      85443.00\n",
      "_______________________________________________\n",
      "Confusion Matrix: \n",
      " [[85301     6]\n",
      " [   25   111]]\n",
      "\n"
     ]
    }
   ],
   "source": [
    "from xgboost import XGBClassifier\n",
    "\n",
    "xgb_clf = XGBClassifier()\n",
    "xgb_clf.fit(X_train, y_train, eval_metric='aucpr')\n",
    "\n",
    "y_train_pred = xgb_clf.predict(X_train)\n",
    "y_test_pred = xgb_clf.predict(X_test)\n",
    "\n",
    "print_score(y_train, y_train_pred, train=True)\n",
    "print_score(y_test, y_test_pred, train=False)\n",
    "\n",
    "scores_dict['XGBoost'] = {\n",
    "        'Train': f1_score(y_train,y_train_pred),\n",
    "        'Test': f1_score(y_test, y_test_pred),\n",
    "}"
   ]
  },
  {
   "cell_type": "markdown",
   "id": "72269721",
   "metadata": {
    "papermill": {
     "duration": 0.337707,
     "end_time": "2023-01-31T13:12:30.783029",
     "exception": false,
     "start_time": "2023-01-31T13:12:30.445322",
     "status": "completed"
    },
    "tags": []
   },
   "source": [
    "# 4. 3. Random Forest"
   ]
  },
  {
   "cell_type": "code",
   "execution_count": null,
   "id": "133a4051",
   "metadata": {},
   "outputs": [],
   "source": [
    "!pip install sklearn"
   ]
  },
  {
   "cell_type": "code",
   "execution_count": null,
   "id": "890f4119",
   "metadata": {
    "execution": {
     "iopub.execute_input": "2023-01-31T13:12:31.327863Z",
     "iopub.status.busy": "2023-01-31T13:12:31.327440Z",
     "iopub.status.idle": "2023-01-31T13:14:33.072724Z",
     "shell.execute_reply": "2023-01-31T13:14:33.071628Z"
    },
    "papermill": {
     "duration": 122.276634,
     "end_time": "2023-01-31T13:14:33.314313",
     "exception": false,
     "start_time": "2023-01-31T13:12:31.037679",
     "status": "completed"
    },
    "tags": []
   },
   "outputs": [],
   "source": [
    "from sklearn.ensemble import RandomForestClassifier\n",
    "\n",
    "rf_clf = RandomForestClassifier(n_estimators=100, oob_score=False)\n",
    "rf_clf.fit(X_train, y_train)\n",
    "\n",
    "y_train_pred = rf_clf.predict(X_train)\n",
    "y_test_pred = rf_clf.predict(X_test)\n",
    "\n",
    "print_score(y_train, y_train_pred, train=True)\n",
    "print_score(y_test, y_test_pred, train=False)\n",
    "\n",
    "scores_dict['Random Forest'] = {\n",
    "        'Train': f1_score(y_train,y_train_pred),\n",
    "        'Test': f1_score(y_test, y_test_pred),\n",
    "}"
   ]
  },
  {
   "cell_type": "markdown",
   "id": "3066883f",
   "metadata": {
    "papermill": {
     "duration": 0.218604,
     "end_time": "2023-01-31T13:14:33.756292",
     "exception": false,
     "start_time": "2023-01-31T13:14:33.537688",
     "status": "completed"
    },
    "tags": []
   },
   "source": [
    "# 4. 4. CatBoost"
   ]
  },
  {
   "cell_type": "code",
   "execution_count": null,
   "id": "6db79280",
   "metadata": {
    "_kg_hide-output": true,
    "execution": {
     "iopub.execute_input": "2023-01-31T13:14:34.203391Z",
     "iopub.status.busy": "2023-01-31T13:14:34.202993Z",
     "iopub.status.idle": "2023-01-31T13:15:26.970296Z",
     "shell.execute_reply": "2023-01-31T13:15:26.968539Z"
    },
    "jupyter": {
     "outputs_hidden": true
    },
    "papermill": {
     "duration": 52.99479,
     "end_time": "2023-01-31T13:15:26.972537",
     "exception": false,
     "start_time": "2023-01-31T13:14:33.977747",
     "status": "completed"
    },
    "tags": []
   },
   "outputs": [],
   "source": [
    "from catboost import CatBoostClassifier\n",
    "\n",
    "cb_clf = CatBoostClassifier()\n",
    "cb_clf.fit(X_train, y_train)"
   ]
  },
  {
   "cell_type": "code",
   "execution_count": null,
   "id": "bad42f4f",
   "metadata": {
    "execution": {
     "iopub.execute_input": "2023-01-31T13:15:27.499285Z",
     "iopub.status.busy": "2023-01-31T13:15:27.498937Z",
     "iopub.status.idle": "2023-01-31T13:15:28.114161Z",
     "shell.execute_reply": "2023-01-31T13:15:28.112134Z"
    },
    "papermill": {
     "duration": 0.855413,
     "end_time": "2023-01-31T13:15:28.117371",
     "exception": false,
     "start_time": "2023-01-31T13:15:27.261958",
     "status": "completed"
    },
    "tags": []
   },
   "outputs": [],
   "source": [
    "y_train_pred = cb_clf.predict(X_train)\n",
    "y_test_pred = cb_clf.predict(X_test)\n",
    "\n",
    "print_score(y_train, y_train_pred, train=True)\n",
    "print_score(y_test, y_test_pred, train=False)\n",
    "\n",
    "scores_dict['CatBoost'] = {\n",
    "        'Train': f1_score(y_train,y_train_pred),\n",
    "        'Test': f1_score(y_test, y_test_pred),\n",
    "}"
   ]
  },
  {
   "cell_type": "markdown",
   "id": "8efe1b1e",
   "metadata": {
    "papermill": {
     "duration": 0.237228,
     "end_time": "2023-01-31T13:15:28.594955",
     "exception": false,
     "start_time": "2023-01-31T13:15:28.357727",
     "status": "completed"
    },
    "tags": []
   },
   "source": [
    "# 4. 5. LigthGBM"
   ]
  },
  {
   "cell_type": "code",
   "execution_count": null,
   "id": "eddfe662",
   "metadata": {
    "execution": {
     "iopub.execute_input": "2023-01-31T13:15:29.067328Z",
     "iopub.status.busy": "2023-01-31T13:15:29.066948Z",
     "iopub.status.idle": "2023-01-31T13:15:34.116756Z",
     "shell.execute_reply": "2023-01-31T13:15:34.114123Z"
    },
    "papermill": {
     "duration": 5.289927,
     "end_time": "2023-01-31T13:15:34.119778",
     "exception": false,
     "start_time": "2023-01-31T13:15:28.829851",
     "status": "completed"
    },
    "tags": []
   },
   "outputs": [],
   "source": [
    "from lightgbm import LGBMClassifier\n",
    "\n",
    "lgbm_clf = LGBMClassifier()\n",
    "lgbm_clf.fit(X_train, y_train)\n",
    "\n",
    "y_train_pred = lgbm_clf.predict(X_train)\n",
    "y_test_pred = lgbm_clf.predict(X_test)\n",
    "\n",
    "print_score(y_train, y_train_pred, train=True)\n",
    "print_score(y_test, y_test_pred, train=False)\n",
    "\n",
    "scores_dict['LigthGBM'] = {\n",
    "        'Train': f1_score(y_train,y_train_pred),\n",
    "        'Test': f1_score(y_test, y_test_pred),\n",
    "}"
   ]
  },
  {
   "cell_type": "markdown",
   "id": "b34c7794",
   "metadata": {
    "papermill": {
     "duration": 0.235457,
     "end_time": "2023-01-31T13:15:34.641395",
     "exception": false,
     "start_time": "2023-01-31T13:15:34.405938",
     "status": "completed"
    },
    "tags": []
   },
   "source": [
    "# 5. Model Comparaison"
   ]
  },
  {
   "cell_type": "code",
   "execution_count": null,
   "id": "01a597e2",
   "metadata": {
    "execution": {
     "iopub.execute_input": "2023-01-31T13:15:35.110085Z",
     "iopub.status.busy": "2023-01-31T13:15:35.109718Z",
     "iopub.status.idle": "2023-01-31T13:15:35.378537Z",
     "shell.execute_reply": "2023-01-31T13:15:35.377575Z"
    },
    "papermill": {
     "duration": 0.504761,
     "end_time": "2023-01-31T13:15:35.380762",
     "exception": false,
     "start_time": "2023-01-31T13:15:34.876001",
     "status": "completed"
    },
    "tags": []
   },
   "outputs": [],
   "source": [
    "scores_df = pd.DataFrame(scores_dict)\n",
    "\n",
    "scores_df.plot(kind='barh', figsize=(15, 8))"
   ]
  },
  {
   "cell_type": "code",
   "execution_count": null,
   "id": "4887010a",
   "metadata": {},
   "outputs": [],
   "source": []
  },
  {
   "cell_type": "code",
   "execution_count": null,
   "id": "4681b3a2",
   "metadata": {},
   "outputs": [],
   "source": []
  },
  {
   "cell_type": "code",
   "execution_count": null,
   "id": "9675e0af",
   "metadata": {},
   "outputs": [],
   "source": []
  },
  {
   "cell_type": "code",
   "execution_count": null,
   "id": "a57e82e7",
   "metadata": {},
   "outputs": [],
   "source": []
  }
 ],
 "metadata": {
  "kernelspec": {
   "display_name": "Python 3 (ipykernel)",
   "language": "python",
   "name": "python3"
  },
  "language_info": {
   "codemirror_mode": {
    "name": "ipython",
    "version": 3
   },
   "file_extension": ".py",
   "mimetype": "text/x-python",
   "name": "python",
   "nbconvert_exporter": "python",
   "pygments_lexer": "ipython3",
   "version": "3.10.9"
  },
  "papermill": {
   "default_parameters": {},
   "duration": 596.827397,
   "end_time": "2023-01-31T13:15:39.166041",
   "environment_variables": {},
   "exception": null,
   "input_path": "__notebook__.ipynb",
   "output_path": "__notebook__.ipynb",
   "parameters": {},
   "start_time": "2023-01-31T13:05:42.338644",
   "version": "2.3.4"
  }
 },
 "nbformat": 4,
 "nbformat_minor": 5
}
